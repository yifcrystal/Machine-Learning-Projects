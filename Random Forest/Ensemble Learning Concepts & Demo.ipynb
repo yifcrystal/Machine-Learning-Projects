{
 "cells": [
  {
   "cell_type": "markdown",
   "id": "acc859df",
   "metadata": {},
   "source": [
    "# Ensemble Study (Key on Random Forest)"
   ]
  },
  {
   "cell_type": "markdown",
   "id": "e7144a1b",
   "metadata": {},
   "source": [
    "Reference :\n",
    "- https://www.analyticsvidhya.com/blog/2018/06/comprehensive-guide-for-ensemble-models/?\n",
    "- https://s3.amazonaws.com/kajabi-storefronts-production/file-uploads/sites/2147512189/themes/2150624317/downloads/4eb77-adc8-7d84-6ec8-8781264f6417_Random_Forest.pdf\n",
    "- https://s3.amazonaws.com/kajabi-storefronts-production/file-uploads/sites/2147512189/themes/2150624317/downloads/e4fbc2f-c755-ed1a-c18-f18ec25eb0d_Ensemble_Learning_Bagging_Boosting_and_Stacking.pdf"
   ]
  },
  {
   "cell_type": "markdown",
   "id": "6c6950fa",
   "metadata": {},
   "source": [
    "<h2 id=\"01\">1. Definition</h2>"
   ]
  },
  {
   "cell_type": "markdown",
   "id": "ec625c93",
   "metadata": {},
   "source": [
    "Ensemble learning is a machine learning technique where multiple models are trained on a dataset to make predictions, and the **predictions of those models are combined to produce a more accurate and robust prediction** than any of the individual models. In other words, ensemble learning is about combining the predictions of several weaker models to create a stronger model."
   ]
  },
  {
   "cell_type": "markdown",
   "id": "471dc960",
   "metadata": {},
   "source": [
    "## 2. Types"
   ]
  },
  {
   "cell_type": "markdown",
   "id": "5ba7f17f",
   "metadata": {},
   "source": [
    "### Simple Ensemble Techniques"
   ]
  },
  {
   "cell_type": "markdown",
   "id": "877137cf",
   "metadata": {},
   "source": [
    "<h4 id=\"02\">1. Max Voting</h4>"
   ]
  },
  {
   "cell_type": "markdown",
   "id": "76d50930",
   "metadata": {},
   "source": [
    "**Definition :** The max voting method is generally used for classification problems. In this technique, multiple models are used to make predictions for each data point. The predictions by each model are considered as a ‘vote’. **The predictions which we get from the majority of the models are used as the final prediction**."
   ]
  },
  {
   "cell_type": "markdown",
   "id": "5e6daa4c",
   "metadata": {},
   "source": [
    "**Sample Code:**"
   ]
  },
  {
   "cell_type": "code",
   "execution_count": 6,
   "id": "9d162fd7",
   "metadata": {},
   "outputs": [],
   "source": [
    "import pandas as pd\n",
    "# read the text file into a pandas dataframe\n",
    "df = pd.read_csv(\"/Users/crystal/Desktop/Random Forest/heart.csv\")"
   ]
  },
  {
   "cell_type": "code",
   "execution_count": 5,
   "id": "dceef210",
   "metadata": {},
   "outputs": [],
   "source": [
    "# IMPORTS\n",
    "import numpy as np\n",
    "from sklearn.tree import DecisionTreeClassifier\n",
    "from sklearn.neighbors import KNeighborsClassifier\n",
    "from sklearn.linear_model import LogisticRegression\n",
    "from sklearn.model_selection import train_test_split\n",
    "import statistics as st\n",
    "import warnings\n",
    "warnings.filterwarnings('ignore')"
   ]
  },
  {
   "cell_type": "code",
   "execution_count": 7,
   "id": "72ae182d",
   "metadata": {},
   "outputs": [],
   "source": [
    "# SPLITTING THE DATASET\n",
    "x = df.drop('target', axis = 1)\n",
    "y = df['target']\n",
    "x_train, x_test, y_train, y_test = train_test_split(x, y, test_size=0.2, random_state=0)"
   ]
  },
  {
   "cell_type": "code",
   "execution_count": 9,
   "id": "b64c6638",
   "metadata": {},
   "outputs": [
    {
     "data": {
      "text/plain": [
       "LogisticRegression()"
      ]
     },
     "execution_count": 9,
     "metadata": {},
     "output_type": "execute_result"
    }
   ],
   "source": [
    "# MODELS CREATION\n",
    "model1 = DecisionTreeClassifier()\n",
    "model2 = KNeighborsClassifier()\n",
    "model3= LogisticRegression()\n",
    "\n",
    "model1.fit(x_train,y_train)\n",
    "model2.fit(x_train,y_train)\n",
    "model3.fit(x_train,y_train)"
   ]
  },
  {
   "cell_type": "markdown",
   "id": "3cde3b0e",
   "metadata": {},
   "source": [
    "The final prediction is stored in a numpy array called final_pred which is initialized as an empty array using the np.array([]) function. The code then runs a for loop from 0 to the length of the x_test variable (which represents the test dataset). Inside the loop, the mode function from the statistics library is used to calculate the mode of the three model predictions for each observation in the test dataset. These three model predictions are stored in pred1, pred2, and pred3. **The mode function returns the most common prediction value among the three predictions.** The resulting mode prediction is appended to the final_pred array using the np.append function. Finally, the final_pred array is printed using the print function to show the mode predictions for each observation in the test dataset."
   ]
  },
  {
   "cell_type": "code",
   "execution_count": 10,
   "id": "82b46257",
   "metadata": {},
   "outputs": [
    {
     "name": "stdout",
     "output_type": "stream",
     "text": [
      "[1. 0. 0. 1. 0. 0. 0. 0. 0. 0. 0. 0. 1. 0. 1. 1. 1. 0. 1. 0. 1. 1. 1. 1.\n",
      " 1. 1. 1. 0. 1. 1. 1. 0. 0. 1. 0. 0. 1. 0. 1. 1. 0. 1. 1. 1. 1. 1. 1. 0.\n",
      " 0. 0. 0. 0. 1. 0. 0. 0. 0. 1. 0. 0. 0. 0. 1. 1. 0. 0. 0. 1. 1. 1. 1. 1.\n",
      " 1. 0. 0. 0. 1. 1. 0. 0. 0. 0. 1. 1. 1. 0. 1. 0. 1. 0. 0. 0. 1. 0. 1. 0.\n",
      " 1. 0. 1. 1. 1. 1. 1. 0. 0. 1. 0. 1. 0. 1. 1. 1. 1. 0. 1. 0. 1. 0. 0. 1.\n",
      " 0. 1. 1. 0. 0. 1. 1. 1. 1. 0. 0. 0. 1. 1. 1. 0. 0. 1. 0. 1. 0. 0. 0. 0.\n",
      " 1. 1. 1. 1. 1. 0. 1. 1. 1. 0. 0. 0. 1. 1. 0. 0. 0. 1. 1. 0. 1. 1. 1. 1.\n",
      " 1. 1. 1. 1. 1. 1. 1. 1. 0. 1. 1. 0. 0. 0. 0. 0. 1. 0. 1. 0. 1. 0. 0. 1.\n",
      " 0. 1. 0. 1. 1. 1. 0. 0. 1. 1. 1. 0. 1.]\n"
     ]
    }
   ],
   "source": [
    "# PREDICTION\n",
    "pred1=model1.predict(x_test)\n",
    "pred2=model2.predict(x_test)\n",
    "pred3=model3.predict(x_test)\n",
    "\n",
    "# FINAL_PREDICTION\n",
    "final_pred = np.array([])\n",
    "for i in range(0,len(x_test)):\n",
    "    final_pred = np.append(final_pred, st.mode([pred1[i], pred2[i], pred3[i]]))\n",
    "print(final_pred)"
   ]
  },
  {
   "cell_type": "markdown",
   "id": "5379963f",
   "metadata": {},
   "source": [
    "Alternatively, you can use **“VotingClassifier”** module in sklearn as follows:"
   ]
  },
  {
   "cell_type": "code",
   "execution_count": 14,
   "id": "cae93524",
   "metadata": {},
   "outputs": [
    {
     "data": {
      "text/plain": [
       "0.9658536585365853"
      ]
     },
     "execution_count": 14,
     "metadata": {},
     "output_type": "execute_result"
    }
   ],
   "source": [
    "from sklearn.ensemble import VotingClassifier\n",
    "model1 = LogisticRegression(random_state=1)\n",
    "model2 = DecisionTreeClassifier(random_state=1)\n",
    "model = VotingClassifier(estimators=[('lr', model1), ('dt', model2)], voting='hard')\n",
    "model.fit(x_train,y_train)\n",
    "model.score(x_test,y_test)"
   ]
  },
  {
   "cell_type": "markdown",
   "id": "017faa2b",
   "metadata": {},
   "source": [
    "#### 2. Averaging"
   ]
  },
  {
   "cell_type": "markdown",
   "id": "c73e2b75",
   "metadata": {},
   "source": [
    "**Definition:** : Similar to the max voting technique, multiple predictions are made for each data point in averaging. In this method, we take an average of predictions from all the models and use it to make the final prediction. **Averaging can be used for making predictions in regression problems or while calculating probabilities for classification problems.**"
   ]
  },
  {
   "cell_type": "code",
   "execution_count": 18,
   "id": "9fb3677c",
   "metadata": {},
   "outputs": [],
   "source": [
    "model1 = DecisionTreeClassifier()\n",
    "model2 = KNeighborsClassifier()\n",
    "model3= LogisticRegression()\n",
    "\n",
    "model1.fit(x_train,y_train)\n",
    "model2.fit(x_train,y_train)\n",
    "model3.fit(x_train,y_train)\n",
    "\n",
    "pred1=model1.predict_proba(x_test)\n",
    "pred2=model2.predict_proba(x_test)\n",
    "pred3=model3.predict_proba(x_test)\n",
    "\n",
    "finalpred=(pred1+pred2+pred3)/3"
   ]
  },
  {
   "cell_type": "code",
   "execution_count": 19,
   "id": "36539b6c",
   "metadata": {},
   "outputs": [],
   "source": [
    "#print(finalpred)"
   ]
  },
  {
   "cell_type": "markdown",
   "id": "1aeb112d",
   "metadata": {},
   "source": [
    "#### 3. Weighted Averaging"
   ]
  },
  {
   "cell_type": "markdown",
   "id": "c19f4d94",
   "metadata": {},
   "source": [
    "**Definition:** This is an extension of the averaging method. All models are assigned different weights defining the importance of each model for prediction. "
   ]
  },
  {
   "cell_type": "code",
   "execution_count": 29,
   "id": "b25f3c53",
   "metadata": {},
   "outputs": [],
   "source": [
    "model1 = DecisionTreeClassifier()\n",
    "model2 = KNeighborsClassifier()\n",
    "model3= LogisticRegression()\n",
    "\n",
    "model1.fit(x_train,y_train)\n",
    "model2.fit(x_train,y_train)\n",
    "model3.fit(x_train,y_train)\n",
    "\n",
    "pred1=model1.predict_proba(x_test)\n",
    "pred2=model2.predict_proba(x_test)\n",
    "pred3=model3.predict_proba(x_test)\n",
    "\n",
    "finalpred=(pred1*0.3+pred2*0.3+pred3*0.4)"
   ]
  },
  {
   "cell_type": "code",
   "execution_count": 20,
   "id": "ee478afc",
   "metadata": {},
   "outputs": [],
   "source": [
    "#finalpred"
   ]
  },
  {
   "cell_type": "markdown",
   "id": "612aad47",
   "metadata": {},
   "source": [
    "### 1). Bagging"
   ]
  },
  {
   "cell_type": "markdown",
   "id": "dc151753",
   "metadata": {},
   "source": [
    "**Definition :**  <br>\n",
    "Bagging, short for **Bootstrap Aggregating**, is a machine learning technique that involves training multiple models (such as decision trees) on **different subsets of the original training data**, created through bootstrapping, which is a sampling technique that involves **creating subsets of observations from the original dataset with replacement**. The final output is determined by combining the outputs of all the models through a voting process. Bagging is often used to improve the accuracy and stability of machine learning models, especially in cases **where the training data is noisy or prone to overfitting**. Random Forest is an example of a machine learning algorithm that uses the bagging technique."
   ]
  },
  {
   "cell_type": "markdown",
   "id": "51271501",
   "metadata": {},
   "source": [
    "**Models :** \n",
    "- Bagging meta-estimator\n",
    "- Random forest"
   ]
  },
  {
   "cell_type": "markdown",
   "id": "b762c3c1",
   "metadata": {},
   "source": [
    "#### Random Forest (Key)"
   ]
  },
  {
   "cell_type": "markdown",
   "id": "d175c328",
   "metadata": {},
   "source": [
    "**1. Steps :**\n",
    "1. Draw a random bootstrap sample of size (randomly choose examples from the training dataset with replacement).\n",
    "2. Grow a decision tree from the bootstrap sample. At each node: \n",
    "- Randomly select features without replacement. e.g., if there are 20 features, choose a random five as candidates for constructing the best split.\n",
    "- Split the node using the feature that provides the best split according to the objective function, e.g., maximizing the information gain.\n",
    "3. Repeat steps 1-2 times. Essentially, we will build decision trees.\n",
    "4. Aggregate the prediction by each tree to assign the class label by majority vote (classification) or take the average (regression)."
   ]
  },
  {
   "cell_type": "markdown",
   "id": "b7c5d177",
   "metadata": {},
   "source": [
    "**2. Features**\n",
    "- Diversity: Not all attributes/variables/features are considered while making an individual tree; **each tree is different**.\n",
    "- Immune to the curse of dimensionality: **Since each tree does not consider all the features, the feature space is reduced**.\n",
    "- Parallelization: Each tree is created independently out of different data and attributes. This means we can fully use the CPU to build random forests.\n",
    "- Train-Test split: In a random forest, **we don’t have to segregate the data for train and test as there will always be 30% of the data which is not seen by the decision tree**.\n",
    "- Stability: Stability arises because the result is based on **majority voting/ averaging**."
   ]
  },
  {
   "cell_type": "markdown",
   "id": "de86a411",
   "metadata": {},
   "source": [
    "**3. Pros & Cons** <br>\n",
    "*Pros* : <br>\n",
    "1. Has a better generalization performance than an individual decision tree due to randomness (the combination of bootstrap samples and using a subset of features), which helps to **decrease the model’s variance (thus low overfitting)**. So it corrects decision trees' habit of overfitting the training data.\n",
    "2. Doesn’t require much parameter tuning. Using full-grown trees seldom costs much and results in fewer tuning parameters.\n",
    "3. **Less sensitive to outliers in the dataset**.\n",
    "4. It generates feature importance which is helpful when interpreting the results. <br>\n",
    "*Con* : <br>\n",
    "1. Computationally expensive. It is fast to train but quite slow to create predictions once trained. More accurate models require more trees, which means using the model becomes slower."
   ]
  },
  {
   "cell_type": "markdown",
   "id": "1460d4e9",
   "metadata": {},
   "source": [
    "**Hyperparameters**\n",
    "1. Hyperparameters to Increase the Predictive Power\n",
    "- n_estimators: Number of trees the algorithm builds before averaging the predictions.\n",
    "- max_features: Maximum number of features random forest considers splitting a node.\n",
    "- mini_sample_leaf: Determines the minimum number of leaves required to split an internal node.\n",
    "- criterion: How to split the node in each tree? (Entropy/Gini impurity/Log Loss)\n",
    "- max_leaf_nodes: Maximum leaf nodes in each tree\n",
    "\n",
    "2. Hyperparameters to Increase the Speed\n",
    "- n_jobs: it tells the engine how many processors it is allowed to use. If the value is 1, it can use only one processor, but if the value is -1, there is no limit.\n",
    "- random_state:controls randomness of the sample. The model will always produce the same results if it has a definite value of random state and has been given the same hyperparameters and training data.\n",
    "- oob_score: OOB means out of the bag. It is a random forest cross-validation method. In this, one-third of the sample is not used to train the data; instead used to evaluate its performance. These samples are called out-of-bag samples."
   ]
  },
  {
   "cell_type": "markdown",
   "id": "57dfcfed",
   "metadata": {},
   "source": [
    "**Sample Code:**"
   ]
  },
  {
   "cell_type": "code",
   "execution_count": 21,
   "id": "3ea12add",
   "metadata": {},
   "outputs": [],
   "source": [
    "# Importing the required libraries\n",
    "import pandas as pd, numpy as np\n",
    "import matplotlib.pyplot as plt, seaborn as sns\n",
    "%matplotlib inline"
   ]
  },
  {
   "cell_type": "code",
   "execution_count": 20,
   "id": "4b5c81b0",
   "metadata": {},
   "outputs": [],
   "source": [
    "import pandas as pd\n",
    "df_02 = pd.read_csv('/Users/crystal/Desktop/Random Forest/heart_v2.csv', delimiter=',')"
   ]
  },
  {
   "cell_type": "code",
   "execution_count": 26,
   "id": "aef4a4e9",
   "metadata": {},
   "outputs": [
    {
     "data": {
      "text/html": [
       "<div>\n",
       "<style scoped>\n",
       "    .dataframe tbody tr th:only-of-type {\n",
       "        vertical-align: middle;\n",
       "    }\n",
       "\n",
       "    .dataframe tbody tr th {\n",
       "        vertical-align: top;\n",
       "    }\n",
       "\n",
       "    .dataframe thead th {\n",
       "        text-align: right;\n",
       "    }\n",
       "</style>\n",
       "<table border=\"1\" class=\"dataframe\">\n",
       "  <thead>\n",
       "    <tr style=\"text-align: right;\">\n",
       "      <th></th>\n",
       "      <th>age</th>\n",
       "      <th>sex</th>\n",
       "      <th>BP</th>\n",
       "      <th>cholestrol</th>\n",
       "      <th>heart disease</th>\n",
       "    </tr>\n",
       "  </thead>\n",
       "  <tbody>\n",
       "    <tr>\n",
       "      <th>0</th>\n",
       "      <td>70</td>\n",
       "      <td>1</td>\n",
       "      <td>130</td>\n",
       "      <td>322</td>\n",
       "      <td>1</td>\n",
       "    </tr>\n",
       "    <tr>\n",
       "      <th>1</th>\n",
       "      <td>67</td>\n",
       "      <td>0</td>\n",
       "      <td>115</td>\n",
       "      <td>564</td>\n",
       "      <td>0</td>\n",
       "    </tr>\n",
       "    <tr>\n",
       "      <th>2</th>\n",
       "      <td>57</td>\n",
       "      <td>1</td>\n",
       "      <td>124</td>\n",
       "      <td>261</td>\n",
       "      <td>1</td>\n",
       "    </tr>\n",
       "    <tr>\n",
       "      <th>3</th>\n",
       "      <td>64</td>\n",
       "      <td>1</td>\n",
       "      <td>128</td>\n",
       "      <td>263</td>\n",
       "      <td>0</td>\n",
       "    </tr>\n",
       "    <tr>\n",
       "      <th>4</th>\n",
       "      <td>74</td>\n",
       "      <td>0</td>\n",
       "      <td>120</td>\n",
       "      <td>269</td>\n",
       "      <td>0</td>\n",
       "    </tr>\n",
       "  </tbody>\n",
       "</table>\n",
       "</div>"
      ],
      "text/plain": [
       "   age  sex   BP  cholestrol  heart disease\n",
       "0   70    1  130         322              1\n",
       "1   67    0  115         564              0\n",
       "2   57    1  124         261              1\n",
       "3   64    1  128         263              0\n",
       "4   74    0  120         269              0"
      ]
     },
     "execution_count": 26,
     "metadata": {},
     "output_type": "execute_result"
    }
   ],
   "source": [
    "df_02.head()"
   ]
  },
  {
   "cell_type": "code",
   "execution_count": 25,
   "id": "f933c202",
   "metadata": {},
   "outputs": [
    {
     "data": {
      "image/png": "[encoded data removed]",
      "text/plain": [
       "<Figure size 432x288 with 1 Axes>"
      ]
     },
     "metadata": {
      "needs_background": "light"
     },
     "output_type": "display_data"
    }
   ],
   "source": [
    "sns.countplot(df_02['heart disease'])\n",
    "plt.title('Value counts of heart disease patients')\n",
    "plt.show()"
   ]
  },
  {
   "cell_type": "code",
   "execution_count": 28,
   "id": "41b7319f",
   "metadata": {},
   "outputs": [],
   "source": [
    "#3. Putting Feature Variable to X and Target variable to y.\n",
    "# Putting feature variable to X\n",
    "X = df_02.drop('heart disease',axis=1)\n",
    "# Putting response variable to y\n",
    "y = df_02['heart disease']"
   ]
  },
  {
   "cell_type": "code",
   "execution_count": 29,
   "id": "9873b705",
   "metadata": {},
   "outputs": [
    {
     "data": {
      "text/plain": [
       "((189, 4), (81, 4))"
      ]
     },
     "execution_count": 29,
     "metadata": {},
     "output_type": "execute_result"
    }
   ],
   "source": [
    "#4. Train-Test-Split is performed\n",
    "# now lets split the data into train and test\n",
    "from sklearn.model_selection import train_test_split\n",
    "# Splitting the data into train and test\n",
    "X_train, X_test, y_train, y_test = train_test_split(X, y, train_size=0.7, random_state=42)\n",
    "X_train.shape, X_test.shape"
   ]
  },
  {
   "cell_type": "code",
   "execution_count": 31,
   "id": "9a32f45d",
   "metadata": {},
   "outputs": [],
   "source": [
    "#5. Let’s import RandomForestClassifier and fit the data.\n",
    "from sklearn.ensemble import RandomForestClassifier\n",
    "classifier_rf = RandomForestClassifier(random_state=42, n_jobs=-1, max_depth=5,\n",
    "                                       n_estimators=100, oob_score=True)\n"
   ]
  },
  {
   "cell_type": "markdown",
   "id": "400a13ff",
   "metadata": {},
   "source": [
    "### 2). Boosting "
   ]
  },
  {
   "cell_type": "markdown",
   "id": "13acbe2a",
   "metadata": {},
   "source": [
    "**Definition :** <br>\n",
    "Boosting is an ensemble learning technique in which multiple weak models are combined to generate a final output. **Unlike bagging, boosting works by building models in series, where each subsequent model attempts to correct the errors of the previous model**.<br>\n",
    "In boosting, each model is trained on the original data set, but with different weights assigned to each data point. *The weights of the misclassified data points are increased, while the weights of the correctly classified data points are decreased.* This helps the subsequent models to focus more on the misclassified data points and improve the overall accuracy of the final model.<br>\n",
    "On the other hand, bagging is also an ensemble learning technique in which **multiple models are trained independently on different subsets of the original data set**. In bagging, the subsets are generated through bootstrap sampling, which involves randomly selecting a subset of the data set with replacement. Each model generated from the bootstrap sample is trained independently, and the final output is obtained by combining the results of all models through majority voting. <br>\n",
    "In summary, the main difference between bagging and boosting is the way the models are combined. **Bagging involves training multiple models independently and combining their results through majority voting, while boosting involves building models in series, with each subsequent model attempting to correct the errors of the previous model**."
   ]
  },
  {
   "cell_type": "markdown",
   "id": "35feb1c6",
   "metadata": {},
   "source": [
    "<img style=\"float: left;\" src=\"https://lh3.googleusercontent.com/bEfpUmjNGzKBCV6gEq6GzWeELTCYEoabucBughc-tUmkKA-j8eM04dBglRwaz4amaGS4ut3EbQJ3a_Nv9VA6sGNoGDonxv8mUg_ysN2goqu0WlIP38hvm7w2QSs5MBcNWwqK2xw5=s0\" width=\"70%\"> "
   ]
  },
  {
   "cell_type": "markdown",
   "id": "f2317701",
   "metadata": {},
   "source": [
    "**Models :**\n",
    "- AdaBoost\n",
    "- GBM\n",
    "- XGBM\n",
    "- Light GBM\n",
    "- CatBoost"
   ]
  },
  {
   "cell_type": "markdown",
   "id": "c1183aa6",
   "metadata": {},
   "source": [
    "**Difference between Bagging and Boosting**"
   ]
  },
  {
   "cell_type": "markdown",
   "id": "2585f769",
   "metadata": {},
   "source": [
    "<img style=\"float: left;\" src=\"https://av-eks-blogoptimized.s3.amazonaws.com/4661536426211ba43ea612c8e1a6a1ed4550721164.png\" width=\"35%\"> "
   ]
  },
  {
   "cell_type": "markdown",
   "id": "1904013c",
   "metadata": {},
   "source": [
    "|  | Individual Learners | Bias-Variance |\n",
    "| :-----| ----: | :----: |\n",
    "| **Bagging** | Independent, Built in parallel | Reduce variance |\n",
    "| **Boosting** | Dependent, Built sequentially | Reduce bias |"
   ]
  },
  {
   "cell_type": "markdown",
   "id": "c036ab30",
   "metadata": {},
   "source": [
    "**Steps:**"
   ]
  },
  {
   "cell_type": "markdown",
   "id": "d559b733",
   "metadata": {},
   "source": [
    "1. A subset is created from the original dataset.\n",
    "2. Initially, all data points are given equal weights.\n",
    "3. A base model is created on this subset.\n",
    "4. This model is used to make predictions on the whole dataset. <br>\n",
    "<img style=\"float: left;\" src=\"https://av-eks-blogoptimized.s3.amazonaws.com/dd1-e1526989432375.png\" width=\"15%\">"
   ]
  },
  {
   "cell_type": "markdown",
   "id": "b6832ce0",
   "metadata": {},
   "source": [
    "5. Errors are calculated using the actual values and predicted values.\n",
    "6. The observations which are incorrectly predicted, are given higher weights.*(Here, the three misclassified blue-plus points will be given higher weights)*\n",
    "7. Another model is created and predictions are made on the dataset.\n",
    "(This model tries to correct the errors from the previous model) <br>\n",
    "<img style=\"float: left;\" src=\"https://av-eks-blogoptimized.s3.amazonaws.com/dd2-e1526989487878.png\" width=\"15%\"> "
   ]
  },
  {
   "cell_type": "markdown",
   "id": "2d2d7e20",
   "metadata": {},
   "source": [
    "8. Similarly, multiple models are created, each correcting the errors of the previous model.\n",
    "9. The final model (strong learner) is the weighted mean of all the models (weak learners) <br>\n",
    "<img style=\"float: left;\" src=\"https://av-eks-blogoptimized.s3.amazonaws.com/boosting10-300x205.png\" width=\"30%\"> "
   ]
  },
  {
   "cell_type": "markdown",
   "id": "e8a7328d",
   "metadata": {},
   "source": [
    "Thus, the boosting algorithm **combines a number of weak learners to form a strong learner**. The individual models would not perform well on the entire dataset, but they work well for some part of the dataset. Thus, each model actually boosts the performance of the ensemble."
   ]
  },
  {
   "cell_type": "markdown",
   "id": "1655497b",
   "metadata": {},
   "source": [
    "### 3).Stacking"
   ]
  },
  {
   "cell_type": "markdown",
   "id": "ecd4d82b",
   "metadata": {},
   "source": [
    "**Definition :** Stacking is a popular ensemble learning technique that involves combining multiple individual models to improve overall prediction performance. \n",
    "\n",
    "The basic idea behind stacking is to **train several base models on the same dataset, then use their predictions as inputs to a meta-model**. The meta-model can be trained on the same dataset or a different dataset, using the base model predictions as input features. Once the meta-model is trained, it can be used to predict the final outcome on new data.\n",
    "\n",
    "**Below is a step-wise explanation for a simple stacked ensemble**"
   ]
  },
  {
   "cell_type": "markdown",
   "id": "c3900bfe",
   "metadata": {},
   "source": [
    "1. The train set is split into 10 parts."
   ]
  },
  {
   "cell_type": "markdown",
   "id": "953753de",
   "metadata": {},
   "source": [
    "<img style=\"float: left;\" src=\"https://cdn.analyticsvidhya.com/wp-content/uploads/2018/05/image-11-768x555.png\" width=\"35%\"> "
   ]
  },
  {
   "cell_type": "markdown",
   "id": "848da8f4",
   "metadata": {},
   "source": [
    "2. A base model (suppose a decision tree) is fitted on 9 parts and predictions are made for the 10th part. This is done for each part of the train set."
   ]
  },
  {
   "cell_type": "markdown",
   "id": "d36181e0",
   "metadata": {},
   "source": [
    "<img style=\"float: left;\" src=\"https://cdn.analyticsvidhya.com/wp-content/uploads/2018/05/image-10-768x638.png\" width=\"30%\"> "
   ]
  },
  {
   "cell_type": "markdown",
   "id": "636f5519",
   "metadata": {},
   "source": [
    "3. The base model (in this case, decision tree) is then fitted on the whole train dataset."
   ]
  },
  {
   "cell_type": "markdown",
   "id": "2723c9b5",
   "metadata": {},
   "source": [
    "4. Using this model, predictions are made on the test set."
   ]
  },
  {
   "cell_type": "markdown",
   "id": "9c9172f0",
   "metadata": {},
   "source": [
    "<img style=\"float: left;\" src=\"https://cdn.analyticsvidhya.com/wp-content/uploads/2018/05/image-2-768x577.png\" width=\"35%\"> "
   ]
  },
  {
   "cell_type": "markdown",
   "id": "ca8286a8",
   "metadata": {},
   "source": [
    "5. Steps 2 to 4 are repeated for another base model (say knn) resulting in another set of predictions for the train set and test set."
   ]
  },
  {
   "cell_type": "markdown",
   "id": "3dd3f1f7",
   "metadata": {},
   "source": [
    "<img style=\"float: left;\" src=\"https://cdn.analyticsvidhya.com/wp-content/uploads/2018/05/image-3-768x573.png\" width=\"35%\"> "
   ]
  },
  {
   "cell_type": "markdown",
   "id": "5828f6c6",
   "metadata": {},
   "source": [
    "6. The predictions from the train set are used as features to build a new model."
   ]
  },
  {
   "cell_type": "markdown",
   "id": "3e0309d8",
   "metadata": {},
   "source": [
    "<img style=\"float: left;\" src=\"https://cdn.analyticsvidhya.com/wp-content/uploads/2018/05/image12.png\" width=\"25%\"> "
   ]
  },
  {
   "cell_type": "markdown",
   "id": "45bbc7dd",
   "metadata": {},
   "source": [
    "7. This model is used to make final predictions on the test prediction set."
   ]
  },
  {
   "cell_type": "markdown",
   "id": "a2f559be",
   "metadata": {},
   "source": [
    "**Sample Code**"
   ]
  },
  {
   "cell_type": "code",
   "execution_count": 17,
   "id": "e8bb7ab6",
   "metadata": {},
   "outputs": [],
   "source": [
    "from sklearn.tree import DecisionTreeClassifier\n",
    "from sklearn.neighbors import KNeighborsClassifier\n",
    "from sklearn.linear_model import LogisticRegression\n",
    "from sklearn.metrics import accuracy_score\n",
    "from sklearn.model_selection import KFold\n",
    "import numpy as np\n",
    "import pandas as pd"
   ]
  },
  {
   "cell_type": "code",
   "execution_count": 103,
   "id": "1dec1c3f",
   "metadata": {},
   "outputs": [],
   "source": [
    "# SPLITTING THE DATASET\n",
    "df = pd.read_csv(\"/Users/crystal/Desktop/Random Forest/heart.csv\")\n",
    "x = df.drop('target', axis = 1)\n",
    "y = df['target']\n",
    "x_train, x_test, y_train, y_test = train_test_split(x, y, test_size=0.2, random_state=0)"
   ]
  },
  {
   "cell_type": "code",
   "execution_count": 109,
   "id": "8c482e78",
   "metadata": {},
   "outputs": [
    {
     "name": "stdout",
     "output_type": "stream",
     "text": [
      "Accuracy score of the stacked model: 0.9658536585365853\n"
     ]
    }
   ],
   "source": [
    "# Split train and test data into two parts\n",
    "train1, train2, y_train1, y_train2 = train_test_split(x_train, y_train, test_size=0.5, random_state=1)\n",
    "\n",
    "# Train and predict on the first base model\n",
    "model1 = DecisionTreeClassifier(random_state=1)\n",
    "model1.fit(train1, y_train1)\n",
    "train_pred1 = model1.predict_proba(train2)[:, 1]\n",
    "test_pred1 = model1.predict_proba(x_test)[:, 1]\n",
    "\n",
    "# Train and predict on the second base model\n",
    "model2 = KNeighborsClassifier()\n",
    "model2.fit(train1, y_train1)\n",
    "train_pred2 = model2.predict_proba(train2)[:, 1]\n",
    "test_pred2 = model2.predict_proba(x_test)[:, 1]\n",
    "\n",
    "# Only select rows that correspond to the same data points in train_pred1 and test_pred1\n",
    "train_pred2 = train_pred2[train2.index.isin(train1.index)]\n",
    "test_pred2 = test_pred2[x_test.index.isin(train1.index)]\n",
    "\n",
    "# Combine predictions from base models into a single dataframe\n",
    "train_pred1 = pd.DataFrame(train_pred1)\n",
    "train_pred2 = pd.DataFrame(train_pred2)\n",
    "test_pred1 = pd.DataFrame(test_pred1)\n",
    "test_pred2 = pd.DataFrame(test_pred2)\n",
    "\n",
    "df = pd.concat([train_pred1, train_pred2], axis=1)\n",
    "df_test = pd.concat([test_pred1, test_pred2], axis=1)\n",
    "\n",
    "# Fill any missing values with 0\n",
    "df.fillna(0, inplace=True)\n",
    "df_test.fillna(0, inplace=True)\n",
    "\n",
    "# Train a logistic regression model on the stacked predictions\n",
    "model = LogisticRegression()\n",
    "model.fit(df, y_train2)\n",
    "\n",
    "# Make predictions on the test set using the stacked model\n",
    "y_pred = model.predict(df_test)\n",
    "\n",
    "# Calculate accuracy\n",
    "accuracy = accuracy_score(y_test, y_pred)\n",
    "print(\"Accuracy score of the stacked model:\", accuracy)"
   ]
  },
  {
   "cell_type": "markdown",
   "id": "04c2fd19",
   "metadata": {},
   "source": [
    "### 4). Blending"
   ]
  },
  {
   "cell_type": "markdown",
   "id": "5753b73c",
   "metadata": {},
   "source": [
    "**Definition :** Blending follows the same approach as stacking but **uses only a holdout (validation) set from the train set to make predictions**. In other words, unlike stacking, the predictions are made on the holdout set only. The holdout set and the predictions are used to build a model which is run on the test set. Here is a detailed explanation of the blending process:"
   ]
  },
  {
   "cell_type": "markdown",
   "id": "94b5ccc8",
   "metadata": {},
   "source": [
    "**Below is a step-wise explanation for a simple stacked ensemble**"
   ]
  },
  {
   "cell_type": "markdown",
   "id": "9e5549dc",
   "metadata": {},
   "source": [
    "1. The train set is split into training and validation sets."
   ]
  },
  {
   "cell_type": "markdown",
   "id": "d0af9add",
   "metadata": {},
   "source": [
    "<img style=\"float: left;\" src=\"https://cdn.analyticsvidhya.com/wp-content/uploads/2018/05/image-7-768x579.png\" width=\"25%\">"
   ]
  },
  {
   "cell_type": "markdown",
   "id": "52eaafdd",
   "metadata": {},
   "source": [
    "2. Model(s) are fitted on the training set."
   ]
  },
  {
   "cell_type": "markdown",
   "id": "ac7dd192",
   "metadata": {},
   "source": [
    "3. The predictions are made on the validation set and the test set."
   ]
  },
  {
   "cell_type": "markdown",
   "id": "ccb65dd2",
   "metadata": {},
   "source": [
    "<img style=\"float: left;\" src=\"https://cdn.analyticsvidhya.com/wp-content/uploads/2018/05/image-5-768x582.png\" width=\"25%\">"
   ]
  },
  {
   "cell_type": "markdown",
   "id": "4785f3c4",
   "metadata": {},
   "source": [
    "4. The validation set and its predictions are used as features to build a new model."
   ]
  },
  {
   "cell_type": "markdown",
   "id": "50e802e5",
   "metadata": {},
   "source": [
    "5. This model is used to make final predictions on the test and meta-features."
   ]
  },
  {
   "cell_type": "markdown",
   "id": "bac20372",
   "metadata": {},
   "source": [
    "**Sample Code**"
   ]
  },
  {
   "cell_type": "markdown",
   "id": "c83fee9c",
   "metadata": {},
   "source": [
    "We’ll build two models, decision tree and knn, on the train set in order to make predictions on the validation set."
   ]
  },
  {
   "cell_type": "code",
   "execution_count": 15,
   "id": "76093eaf",
   "metadata": {},
   "outputs": [],
   "source": [
    "# SPLITTING THE DATASET\n",
    "df = pd.read_csv(\"/Users/crystal/Desktop/Random Forest/heart.csv\")\n",
    "x = df.drop('target', axis=1)\n",
    "y = df['target']\n",
    "x_train, x_test, y_train, y_test = train_test_split(x, y, test_size=0.2, random_state=0)"
   ]
  },
  {
   "cell_type": "code",
   "execution_count": 18,
   "id": "1e7920f7",
   "metadata": {},
   "outputs": [
    {
     "name": "stdout",
     "output_type": "stream",
     "text": [
      "Accuracy score on the validation set: 0.9073170731707317\n",
      "Accuracy score on the test set: 0.9658536585365853\n"
     ]
    }
   ],
   "source": [
    "# Split the training data into three parts: train1, train2, and val\n",
    "train1, train2, y_train1, y_train2 = train_test_split(x_train, y_train, test_size=0.5, random_state=1)\n",
    "train2, val, y_train2, y_val = train_test_split(train2, y_train2, test_size=0.5, random_state=1)\n",
    "\n",
    "# Train and predict on the first base model\n",
    "model1 = DecisionTreeClassifier(random_state=1)\n",
    "model1.fit(train1, y_train1)\n",
    "train_pred1 = model1.predict_proba(train2)[:, 1]\n",
    "val_pred1 = model1.predict_proba(val)[:, 1]\n",
    "test_pred1 = model1.predict_proba(x_test)[:, 1]\n",
    "\n",
    "# Train and predict on the second base model\n",
    "model2 = KNeighborsClassifier()\n",
    "model2.fit(train1, y_train1)\n",
    "train_pred2 = model2.predict_proba(train2)[:, 1]\n",
    "val_pred2 = model2.predict_proba(val)[:, 1]\n",
    "test_pred2 = model2.predict_proba(x_test)[:, 1]\n",
    "\n",
    "# Combine predictions from base models into a single dataframe\n",
    "train_pred1 = pd.DataFrame(train_pred1)\n",
    "train_pred2 = pd.DataFrame(train_pred2)\n",
    "val_pred1 = pd.DataFrame(val_pred1)\n",
    "val_pred2 = pd.DataFrame(val_pred2)\n",
    "test_pred1 = pd.DataFrame(test_pred1)\n",
    "test_pred2 = pd.DataFrame(test_pred2)\n",
    "\n",
    "df_train = pd.concat([train_pred1, train_pred2], axis=1)\n",
    "df_val = pd.concat([val_pred1, val_pred2], axis=1)\n",
    "df_test = pd.concat([test_pred1, test_pred2], axis=1)\n",
    "\n",
    "# Fill any missing values with 0\n",
    "df_train.fillna(0, inplace=True)\n",
    "df_val.fillna(0, inplace=True)\n",
    "df_test.fillna(0, inplace=True)\n",
    "\n",
    "# Train a logistic regression model on the stacked predictions\n",
    "model = LogisticRegression()\n",
    "model.fit(df_train, y_train2)\n",
    "\n",
    "# Make predictions on the validation set and test set using the stacked model\n",
    "val_pred = model.predict(df_val)\n",
    "test_pred = model.predict(df_test)\n",
    "\n",
    "# Calculate accuracy\n",
    "val_accuracy = accuracy_score(y_val, val_pred)\n",
    "test_accuracy = accuracy_score(y_test, test_pred)\n",
    "print(\"Accuracy score on the validation set:\", val_accuracy)\n",
    "print(\"Accuracy score on the test set:\", test_accuracy)"
   ]
  }
 ],
 "metadata": {
  "kernelspec": {
   "display_name": "Python 3",
   "language": "python",
   "name": "python3"
  },
  "language_info": {
   "codemirror_mode": {
    "name": "ipython",
    "version": 3
   },
   "file_extension": ".py",
   "mimetype": "text/x-python",
   "name": "python",
   "nbconvert_exporter": "python",
   "pygments_lexer": "ipython3",
   "version": "3.8.8"
  }
 },
 "nbformat": 4,
 "nbformat_minor": 5
}
