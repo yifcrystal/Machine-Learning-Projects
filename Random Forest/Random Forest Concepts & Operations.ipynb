{
 "cells": [
  {
   "cell_type": "markdown",
   "id": "6d93b240",
   "metadata": {},
   "source": [
    "# Random Forest"
   ]
  },
  {
   "cell_type": "markdown",
   "id": "2964f236",
   "metadata": {},
   "source": [
    "## 1. Definition "
   ]
  },
  {
   "cell_type": "markdown",
   "id": "4e7f9702",
   "metadata": {},
   "source": [
    "Random Forest is an ensemble learning method used in machine learning for both **classification and regression** tasks. It constructs multiple decision trees during training, where each tree is trained on a **random subset of the data** and a **random subset of features**. The algorithm then combines the predictions of these decision trees to make more accurate and robust predictions. For classification problems, the algorithm outputs the class that is the mode of the classes predicted by the individual trees, and for regression problems, it outputs the mean prediction of the individual trees."
   ]
  },
  {
   "cell_type": "markdown",
   "id": "1dd2c576",
   "metadata": {},
   "source": [
    "![jupyter](https://www.tibco.com/sites/tibco/files/media_entity/2021-05/random-forest-diagram.svg)"
   ]
  },
  {
   "cell_type": "markdown",
   "id": "cbb15266",
   "metadata": {},
   "source": [
    "## 2. How Random Forest works"
   ]
  },
  {
   "cell_type": "code",
   "execution_count": null,
   "id": "57538838",
   "metadata": {},
   "outputs": [],
   "source": []
  }
 ],
 "metadata": {
  "kernelspec": {
   "display_name": "Python 3",
   "language": "python",
   "name": "python3"
  },
  "language_info": {
   "codemirror_mode": {
    "name": "ipython",
    "version": 3
   },
   "file_extension": ".py",
   "mimetype": "text/x-python",
   "name": "python",
   "nbconvert_exporter": "python",
   "pygments_lexer": "ipython3",
   "version": "3.8.8"
  }
 },
 "nbformat": 4,
 "nbformat_minor": 5
}
