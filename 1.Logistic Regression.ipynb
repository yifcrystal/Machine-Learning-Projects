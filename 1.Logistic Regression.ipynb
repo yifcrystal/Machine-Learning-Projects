{
 "cells": [
  {
   "cell_type": "markdown",
   "id": "5955e08c",
   "metadata": {},
   "source": [
    "# Homework 02 "
   ]
  },
  {
   "cell_type": "code",
   "execution_count": 32,
   "id": "ec367e06",
   "metadata": {},
   "outputs": [],
   "source": [
    "import numpy as np\n",
    "from sklearn import datasets\n",
    "import matplotlib.pyplot as plt\n",
    "import pandas as pd\n",
    "from sklearn.linear_model import LogisticRegression, LinearRegression\n",
    "from sklearn.model_selection import train_test_split\n",
    "from sklearn.preprocessing import RobustScaler \n",
    "from sklearn.metrics import confusion_matrix, classification_report\n",
    "from sklearn.preprocessing import PolynomialFeatures\n",
    "import scipy.special\n",
    "import statsmodels.api as sm \n",
    "import statsmodels.formula.api as smf\n",
    "from sklearn.metrics import roc_auc_score\n",
    "from sklearn.metrics import roc_curve\n",
    "from IPython.core.interactiveshell import InteractiveShell\n",
    "InteractiveShell.ast_node_interactivity = 'all'\n",
    "from statsmodels.graphics.factorplots import interaction_plot\n",
    "from sklearn.metrics import (confusion_matrix, accuracy_score)"
   ]
  },
  {
   "cell_type": "markdown",
   "id": "732a2de5",
   "metadata": {},
   "source": [
    "### Q1. Using the sales.csv Download sales.csv, write code to show effects of interactions, if any, on the linear regression model to predict the total_sales for a new area using given sales from three areas."
   ]
  },
  {
   "cell_type": "code",
   "execution_count": 64,
   "id": "2fe527ac",
   "metadata": {},
   "outputs": [
    {
     "data": {
      "text/plain": [
       "Index(['Unnamed: 0', 'area1_sales', 'area2_sales', 'area3_sales',\n",
       "       'total_sales'],\n",
       "      dtype='object')"
      ]
     },
     "execution_count": 64,
     "metadata": {},
     "output_type": "execute_result"
    },
    {
     "data": {
      "text/html": [
       "<div>\n",
       "<style scoped>\n",
       "    .dataframe tbody tr th:only-of-type {\n",
       "        vertical-align: middle;\n",
       "    }\n",
       "\n",
       "    .dataframe tbody tr th {\n",
       "        vertical-align: top;\n",
       "    }\n",
       "\n",
       "    .dataframe thead th {\n",
       "        text-align: right;\n",
       "    }\n",
       "</style>\n",
       "<table border=\"1\" class=\"dataframe\">\n",
       "  <thead>\n",
       "    <tr style=\"text-align: right;\">\n",
       "      <th></th>\n",
       "      <th>Unnamed: 0</th>\n",
       "      <th>area1_sales</th>\n",
       "      <th>area2_sales</th>\n",
       "      <th>area3_sales</th>\n",
       "      <th>total_sales</th>\n",
       "    </tr>\n",
       "  </thead>\n",
       "  <tbody>\n",
       "    <tr>\n",
       "      <th>0</th>\n",
       "      <td>1000</td>\n",
       "      <td>0.79</td>\n",
       "      <td>0.80</td>\n",
       "      <td>0.02</td>\n",
       "      <td>1.75</td>\n",
       "    </tr>\n",
       "    <tr>\n",
       "      <th>1</th>\n",
       "      <td>1001</td>\n",
       "      <td>0.83</td>\n",
       "      <td>0.08</td>\n",
       "      <td>0.18</td>\n",
       "      <td>1.75</td>\n",
       "    </tr>\n",
       "    <tr>\n",
       "      <th>2</th>\n",
       "      <td>1002</td>\n",
       "      <td>0.85</td>\n",
       "      <td>0.01</td>\n",
       "      <td>0.22</td>\n",
       "      <td>1.75</td>\n",
       "    </tr>\n",
       "    <tr>\n",
       "      <th>3</th>\n",
       "      <td>1003</td>\n",
       "      <td>1.25</td>\n",
       "      <td>0.00</td>\n",
       "      <td>0.03</td>\n",
       "      <td>1.75</td>\n",
       "    </tr>\n",
       "    <tr>\n",
       "      <th>4</th>\n",
       "      <td>1004</td>\n",
       "      <td>0.72</td>\n",
       "      <td>0.04</td>\n",
       "      <td>0.10</td>\n",
       "      <td>1.74</td>\n",
       "    </tr>\n",
       "    <tr>\n",
       "      <th>...</th>\n",
       "      <td>...</td>\n",
       "      <td>...</td>\n",
       "      <td>...</td>\n",
       "      <td>...</td>\n",
       "      <td>...</td>\n",
       "    </tr>\n",
       "    <tr>\n",
       "      <th>2995</th>\n",
       "      <td>3995</td>\n",
       "      <td>0.20</td>\n",
       "      <td>0.00</td>\n",
       "      <td>0.07</td>\n",
       "      <td>0.49</td>\n",
       "    </tr>\n",
       "    <tr>\n",
       "      <th>2996</th>\n",
       "      <td>3996</td>\n",
       "      <td>0.28</td>\n",
       "      <td>0.00</td>\n",
       "      <td>0.04</td>\n",
       "      <td>0.49</td>\n",
       "    </tr>\n",
       "    <tr>\n",
       "      <th>2997</th>\n",
       "      <td>3997</td>\n",
       "      <td>0.00</td>\n",
       "      <td>0.49</td>\n",
       "      <td>0.00</td>\n",
       "      <td>0.49</td>\n",
       "    </tr>\n",
       "    <tr>\n",
       "      <th>2998</th>\n",
       "      <td>3998</td>\n",
       "      <td>0.07</td>\n",
       "      <td>0.09</td>\n",
       "      <td>0.07</td>\n",
       "      <td>0.49</td>\n",
       "    </tr>\n",
       "    <tr>\n",
       "      <th>2999</th>\n",
       "      <td>3999</td>\n",
       "      <td>0.24</td>\n",
       "      <td>0.00</td>\n",
       "      <td>0.06</td>\n",
       "      <td>0.49</td>\n",
       "    </tr>\n",
       "  </tbody>\n",
       "</table>\n",
       "<p>3000 rows × 5 columns</p>\n",
       "</div>"
      ],
      "text/plain": [
       "      Unnamed: 0  area1_sales  area2_sales  area3_sales  total_sales\n",
       "0           1000         0.79         0.80         0.02         1.75\n",
       "1           1001         0.83         0.08         0.18         1.75\n",
       "2           1002         0.85         0.01         0.22         1.75\n",
       "3           1003         1.25         0.00         0.03         1.75\n",
       "4           1004         0.72         0.04         0.10         1.74\n",
       "...          ...          ...          ...          ...          ...\n",
       "2995        3995         0.20         0.00         0.07         0.49\n",
       "2996        3996         0.28         0.00         0.04         0.49\n",
       "2997        3997         0.00         0.49         0.00         0.49\n",
       "2998        3998         0.07         0.09         0.07         0.49\n",
       "2999        3999         0.24         0.00         0.06         0.49\n",
       "\n",
       "[3000 rows x 5 columns]"
      ]
     },
     "execution_count": 64,
     "metadata": {},
     "output_type": "execute_result"
    }
   ],
   "source": [
    "#Import Dataset\n",
    "sales = pd.read_csv(\"/Users/crystal/Desktop/assign02_0122/sales.csv\")\n",
    "sales.columns\n",
    "sales"
   ]
  },
  {
   "cell_type": "markdown",
   "id": "9097e18d",
   "metadata": {},
   "source": [
    "- #### Fit linear regression without any interaction terms\n"
   ]
  },
  {
   "cell_type": "code",
   "execution_count": 65,
   "id": "a69e84fc",
   "metadata": {},
   "outputs": [
    {
     "data": {
      "text/html": [
       "<table class=\"simpletable\">\n",
       "<caption>OLS Regression Results</caption>\n",
       "<tr>\n",
       "  <th>Dep. Variable:</th>       <td>total_sales</td>   <th>  R-squared:         </th> <td>   0.702</td>\n",
       "</tr>\n",
       "<tr>\n",
       "  <th>Model:</th>                   <td>OLS</td>       <th>  Adj. R-squared:    </th> <td>   0.702</td>\n",
       "</tr>\n",
       "<tr>\n",
       "  <th>Method:</th>             <td>Least Squares</td>  <th>  F-statistic:       </th> <td>   2354.</td>\n",
       "</tr>\n",
       "<tr>\n",
       "  <th>Date:</th>             <td>Sun, 22 Jan 2023</td> <th>  Prob (F-statistic):</th>  <td>  0.00</td> \n",
       "</tr>\n",
       "<tr>\n",
       "  <th>Time:</th>                 <td>17:30:16</td>     <th>  Log-Likelihood:    </th> <td>  761.25</td>\n",
       "</tr>\n",
       "<tr>\n",
       "  <th>No. Observations:</th>      <td>  3000</td>      <th>  AIC:               </th> <td>  -1515.</td>\n",
       "</tr>\n",
       "<tr>\n",
       "  <th>Df Residuals:</th>          <td>  2996</td>      <th>  BIC:               </th> <td>  -1490.</td>\n",
       "</tr>\n",
       "<tr>\n",
       "  <th>Df Model:</th>              <td>     3</td>      <th>                     </th>     <td> </td>   \n",
       "</tr>\n",
       "<tr>\n",
       "  <th>Covariance Type:</th>      <td>nonrobust</td>    <th>                     </th>     <td> </td>   \n",
       "</tr>\n",
       "</table>\n",
       "<table class=\"simpletable\">\n",
       "<tr>\n",
       "       <td></td>          <th>coef</th>     <th>std err</th>      <th>t</th>      <th>P>|t|</th>  <th>[0.025</th>    <th>0.975]</th>  \n",
       "</tr>\n",
       "<tr>\n",
       "  <th>Intercept</th>   <td>    0.2601</td> <td>    0.008</td> <td>   30.743</td> <td> 0.000</td> <td>    0.243</td> <td>    0.277</td>\n",
       "</tr>\n",
       "<tr>\n",
       "  <th>area1_sales</th> <td>    0.9148</td> <td>    0.013</td> <td>   72.435</td> <td> 0.000</td> <td>    0.890</td> <td>    0.940</td>\n",
       "</tr>\n",
       "<tr>\n",
       "  <th>area2_sales</th> <td>    0.7489</td> <td>    0.015</td> <td>   49.102</td> <td> 0.000</td> <td>    0.719</td> <td>    0.779</td>\n",
       "</tr>\n",
       "<tr>\n",
       "  <th>area3_sales</th> <td>    1.7136</td> <td>    0.039</td> <td>   44.344</td> <td> 0.000</td> <td>    1.638</td> <td>    1.789</td>\n",
       "</tr>\n",
       "</table>\n",
       "<table class=\"simpletable\">\n",
       "<tr>\n",
       "  <th>Omnibus:</th>       <td>482.733</td> <th>  Durbin-Watson:     </th> <td>   1.442</td>\n",
       "</tr>\n",
       "<tr>\n",
       "  <th>Prob(Omnibus):</th> <td> 0.000</td>  <th>  Jarque-Bera (JB):  </th> <td>2611.741</td>\n",
       "</tr>\n",
       "<tr>\n",
       "  <th>Skew:</th>          <td> 0.653</td>  <th>  Prob(JB):          </th> <td>    0.00</td>\n",
       "</tr>\n",
       "<tr>\n",
       "  <th>Kurtosis:</th>      <td> 7.380</td>  <th>  Cond. No.          </th> <td>    12.7</td>\n",
       "</tr>\n",
       "</table><br/><br/>Notes:<br/>[1] Standard Errors assume that the covariance matrix of the errors is correctly specified."
      ],
      "text/plain": [
       "<class 'statsmodels.iolib.summary.Summary'>\n",
       "\"\"\"\n",
       "                            OLS Regression Results                            \n",
       "==============================================================================\n",
       "Dep. Variable:            total_sales   R-squared:                       0.702\n",
       "Model:                            OLS   Adj. R-squared:                  0.702\n",
       "Method:                 Least Squares   F-statistic:                     2354.\n",
       "Date:                Sun, 22 Jan 2023   Prob (F-statistic):               0.00\n",
       "Time:                        17:30:16   Log-Likelihood:                 761.25\n",
       "No. Observations:                3000   AIC:                            -1515.\n",
       "Df Residuals:                    2996   BIC:                            -1490.\n",
       "Df Model:                           3                                         \n",
       "Covariance Type:            nonrobust                                         \n",
       "===============================================================================\n",
       "                  coef    std err          t      P>|t|      [0.025      0.975]\n",
       "-------------------------------------------------------------------------------\n",
       "Intercept       0.2601      0.008     30.743      0.000       0.243       0.277\n",
       "area1_sales     0.9148      0.013     72.435      0.000       0.890       0.940\n",
       "area2_sales     0.7489      0.015     49.102      0.000       0.719       0.779\n",
       "area3_sales     1.7136      0.039     44.344      0.000       1.638       1.789\n",
       "==============================================================================\n",
       "Omnibus:                      482.733   Durbin-Watson:                   1.442\n",
       "Prob(Omnibus):                  0.000   Jarque-Bera (JB):             2611.741\n",
       "Skew:                           0.653   Prob(JB):                         0.00\n",
       "Kurtosis:                       7.380   Cond. No.                         12.7\n",
       "==============================================================================\n",
       "\n",
       "Notes:\n",
       "[1] Standard Errors assume that the covariance matrix of the errors is correctly specified.\n",
       "\"\"\""
      ]
     },
     "execution_count": 65,
     "metadata": {},
     "output_type": "execute_result"
    }
   ],
   "source": [
    "Xb = sm.add_constant(sales[['area1_sales', 'area2_sales', 'area3_sales']])\n",
    "y = sales['total_sales']\n",
    "mod = smf.ols(formula= 'total_sales ~ area1_sales + area2_sales + area3_sales', data = sales).fit()\n",
    "mod.summary()"
   ]
  },
  {
   "cell_type": "markdown",
   "id": "eff1995e",
   "metadata": {},
   "source": [
    "- #### Fit linear regression with interaction terms\n"
   ]
  },
  {
   "cell_type": "code",
   "execution_count": 368,
   "id": "081d1132",
   "metadata": {},
   "outputs": [
    {
     "data": {
      "text/html": [
       "<table class=\"simpletable\">\n",
       "<caption>OLS Regression Results</caption>\n",
       "<tr>\n",
       "  <th>Dep. Variable:</th>       <td>total_sales</td>   <th>  R-squared:         </th> <td>   0.716</td>\n",
       "</tr>\n",
       "<tr>\n",
       "  <th>Model:</th>                   <td>OLS</td>       <th>  Adj. R-squared:    </th> <td>   0.715</td>\n",
       "</tr>\n",
       "<tr>\n",
       "  <th>Method:</th>             <td>Least Squares</td>  <th>  F-statistic:       </th> <td>   1075.</td>\n",
       "</tr>\n",
       "<tr>\n",
       "  <th>Date:</th>             <td>Fri, 20 Jan 2023</td> <th>  Prob (F-statistic):</th>  <td>  0.00</td> \n",
       "</tr>\n",
       "<tr>\n",
       "  <th>Time:</th>                 <td>01:32:35</td>     <th>  Log-Likelihood:    </th> <td>  830.59</td>\n",
       "</tr>\n",
       "<tr>\n",
       "  <th>No. Observations:</th>      <td>  3000</td>      <th>  AIC:               </th> <td>  -1645.</td>\n",
       "</tr>\n",
       "<tr>\n",
       "  <th>Df Residuals:</th>          <td>  2992</td>      <th>  BIC:               </th> <td>  -1597.</td>\n",
       "</tr>\n",
       "<tr>\n",
       "  <th>Df Model:</th>              <td>     7</td>      <th>                     </th>     <td> </td>   \n",
       "</tr>\n",
       "<tr>\n",
       "  <th>Covariance Type:</th>      <td>nonrobust</td>    <th>                     </th>     <td> </td>   \n",
       "</tr>\n",
       "</table>\n",
       "<table class=\"simpletable\">\n",
       "<tr>\n",
       "                   <td></td>                      <th>coef</th>     <th>std err</th>      <th>t</th>      <th>P>|t|</th>  <th>[0.025</th>    <th>0.975]</th>  \n",
       "</tr>\n",
       "<tr>\n",
       "  <th>Intercept</th>                           <td>    0.3119</td> <td>    0.010</td> <td>   32.077</td> <td> 0.000</td> <td>    0.293</td> <td>    0.331</td>\n",
       "</tr>\n",
       "<tr>\n",
       "  <th>area1_sales</th>                         <td>    0.7852</td> <td>    0.018</td> <td>   42.656</td> <td> 0.000</td> <td>    0.749</td> <td>    0.821</td>\n",
       "</tr>\n",
       "<tr>\n",
       "  <th>area2_sales</th>                         <td>    0.6518</td> <td>    0.020</td> <td>   33.057</td> <td> 0.000</td> <td>    0.613</td> <td>    0.690</td>\n",
       "</tr>\n",
       "<tr>\n",
       "  <th>area3_sales</th>                         <td>    1.2583</td> <td>    0.065</td> <td>   19.447</td> <td> 0.000</td> <td>    1.131</td> <td>    1.385</td>\n",
       "</tr>\n",
       "<tr>\n",
       "  <th>area1_sales:area2_sales</th>             <td>    0.1991</td> <td>    0.091</td> <td>    2.188</td> <td> 0.029</td> <td>    0.021</td> <td>    0.377</td>\n",
       "</tr>\n",
       "<tr>\n",
       "  <th>area2_sales:area3_sales</th>             <td>    0.1994</td> <td>    0.458</td> <td>    0.436</td> <td> 0.663</td> <td>   -0.698</td> <td>    1.097</td>\n",
       "</tr>\n",
       "<tr>\n",
       "  <th>area1_sales:area3_sales</th>             <td>    1.0889</td> <td>    0.144</td> <td>    7.550</td> <td> 0.000</td> <td>    0.806</td> <td>    1.372</td>\n",
       "</tr>\n",
       "<tr>\n",
       "  <th>area1_sales:area2_sales:area3_sales</th> <td>    5.3078</td> <td>    1.461</td> <td>    3.634</td> <td> 0.000</td> <td>    2.444</td> <td>    8.172</td>\n",
       "</tr>\n",
       "</table>\n",
       "<table class=\"simpletable\">\n",
       "<tr>\n",
       "  <th>Omnibus:</th>       <td>550.091</td> <th>  Durbin-Watson:     </th> <td>   1.453</td>\n",
       "</tr>\n",
       "<tr>\n",
       "  <th>Prob(Omnibus):</th> <td> 0.000</td>  <th>  Jarque-Bera (JB):  </th> <td>2499.463</td>\n",
       "</tr>\n",
       "<tr>\n",
       "  <th>Skew:</th>          <td> 0.815</td>  <th>  Prob(JB):          </th> <td>    0.00</td>\n",
       "</tr>\n",
       "<tr>\n",
       "  <th>Kurtosis:</th>      <td> 7.164</td>  <th>  Cond. No.          </th> <td>    496.</td>\n",
       "</tr>\n",
       "</table><br/><br/>Notes:<br/>[1] Standard Errors assume that the covariance matrix of the errors is correctly specified."
      ],
      "text/plain": [
       "<class 'statsmodels.iolib.summary.Summary'>\n",
       "\"\"\"\n",
       "                            OLS Regression Results                            \n",
       "==============================================================================\n",
       "Dep. Variable:            total_sales   R-squared:                       0.716\n",
       "Model:                            OLS   Adj. R-squared:                  0.715\n",
       "Method:                 Least Squares   F-statistic:                     1075.\n",
       "Date:                Fri, 20 Jan 2023   Prob (F-statistic):               0.00\n",
       "Time:                        01:32:35   Log-Likelihood:                 830.59\n",
       "No. Observations:                3000   AIC:                            -1645.\n",
       "Df Residuals:                    2992   BIC:                            -1597.\n",
       "Df Model:                           7                                         \n",
       "Covariance Type:            nonrobust                                         \n",
       "=======================================================================================================\n",
       "                                          coef    std err          t      P>|t|      [0.025      0.975]\n",
       "-------------------------------------------------------------------------------------------------------\n",
       "Intercept                               0.3119      0.010     32.077      0.000       0.293       0.331\n",
       "area1_sales                             0.7852      0.018     42.656      0.000       0.749       0.821\n",
       "area2_sales                             0.6518      0.020     33.057      0.000       0.613       0.690\n",
       "area3_sales                             1.2583      0.065     19.447      0.000       1.131       1.385\n",
       "area1_sales:area2_sales                 0.1991      0.091      2.188      0.029       0.021       0.377\n",
       "area2_sales:area3_sales                 0.1994      0.458      0.436      0.663      -0.698       1.097\n",
       "area1_sales:area3_sales                 1.0889      0.144      7.550      0.000       0.806       1.372\n",
       "area1_sales:area2_sales:area3_sales     5.3078      1.461      3.634      0.000       2.444       8.172\n",
       "==============================================================================\n",
       "Omnibus:                      550.091   Durbin-Watson:                   1.453\n",
       "Prob(Omnibus):                  0.000   Jarque-Bera (JB):             2499.463\n",
       "Skew:                           0.815   Prob(JB):                         0.00\n",
       "Kurtosis:                       7.164   Cond. No.                         496.\n",
       "==============================================================================\n",
       "\n",
       "Notes:\n",
       "[1] Standard Errors assume that the covariance matrix of the errors is correctly specified.\n",
       "\"\"\""
      ]
     },
     "execution_count": 368,
     "metadata": {},
     "output_type": "execute_result"
    }
   ],
   "source": [
    "mod_interaction = smf.ols(formula='total_sales ~ area1_sales + area2_sales + area3_sales + area1_sales:area2_sales + area2_sales:area3_sales + area1_sales:area3_sales + area1_sales:area2_sales:area3_sales ', data=sales).fit()\n",
    "mod_interaction.summary()"
   ]
  },
  {
   "cell_type": "markdown",
   "id": "7f0243f4",
   "metadata": {},
   "source": [
    "#### Comparison and Conclusion\n",
    "Compared with regression model without interaction terms, regression model with interaction terms \n",
    "1. has higher R-squared (0.714 > 0.702)\n",
    "2. lower AIC and BIC <br>\n",
    "Therefore, this suggests that model with interactions of sales in three areas produces better prediction of total sales. <br>\n",
    "In addition, the interaction term of sales of area 1 and sales of area 2, sales of area 1 and sales of area 3, sales of area 1 and sales of area 2 and sales of area 3 are all significant at 0.05 significance level. "
   ]
  },
  {
   "cell_type": "markdown",
   "id": "0a435b35",
   "metadata": {},
   "source": [
    "### Q2. Develop a full Logistic Regression Model using customer.csv to predict whether the customer will purchase the product. Also train trimmed logistic regression models (Trimmed over features in the data). Compute the \"in-sample R2\" (pseudo) for the models you train and compare the models based on this metric."
   ]
  },
  {
   "cell_type": "code",
   "execution_count": 106,
   "id": "d8b91015",
   "metadata": {},
   "outputs": [
    {
     "data": {
      "text/plain": [
       "Index(['User ID', 'Gender', 'Age', 'EstimatedSalary', 'Purchased'], dtype='object')"
      ]
     },
     "execution_count": 106,
     "metadata": {},
     "output_type": "execute_result"
    },
    {
     "data": {
      "text/html": [
       "<div>\n",
       "<style scoped>\n",
       "    .dataframe tbody tr th:only-of-type {\n",
       "        vertical-align: middle;\n",
       "    }\n",
       "\n",
       "    .dataframe tbody tr th {\n",
       "        vertical-align: top;\n",
       "    }\n",
       "\n",
       "    .dataframe thead th {\n",
       "        text-align: right;\n",
       "    }\n",
       "</style>\n",
       "<table border=\"1\" class=\"dataframe\">\n",
       "  <thead>\n",
       "    <tr style=\"text-align: right;\">\n",
       "      <th></th>\n",
       "      <th>User ID</th>\n",
       "      <th>Gender</th>\n",
       "      <th>Age</th>\n",
       "      <th>EstimatedSalary</th>\n",
       "      <th>Purchased</th>\n",
       "    </tr>\n",
       "  </thead>\n",
       "  <tbody>\n",
       "    <tr>\n",
       "      <th>0</th>\n",
       "      <td>15624510</td>\n",
       "      <td>1</td>\n",
       "      <td>19</td>\n",
       "      <td>19000</td>\n",
       "      <td>0</td>\n",
       "    </tr>\n",
       "    <tr>\n",
       "      <th>1</th>\n",
       "      <td>15810944</td>\n",
       "      <td>1</td>\n",
       "      <td>35</td>\n",
       "      <td>20000</td>\n",
       "      <td>0</td>\n",
       "    </tr>\n",
       "    <tr>\n",
       "      <th>2</th>\n",
       "      <td>15668575</td>\n",
       "      <td>0</td>\n",
       "      <td>26</td>\n",
       "      <td>43000</td>\n",
       "      <td>0</td>\n",
       "    </tr>\n",
       "    <tr>\n",
       "      <th>3</th>\n",
       "      <td>15603246</td>\n",
       "      <td>0</td>\n",
       "      <td>27</td>\n",
       "      <td>57000</td>\n",
       "      <td>0</td>\n",
       "    </tr>\n",
       "    <tr>\n",
       "      <th>4</th>\n",
       "      <td>15804002</td>\n",
       "      <td>1</td>\n",
       "      <td>19</td>\n",
       "      <td>76000</td>\n",
       "      <td>0</td>\n",
       "    </tr>\n",
       "    <tr>\n",
       "      <th>...</th>\n",
       "      <td>...</td>\n",
       "      <td>...</td>\n",
       "      <td>...</td>\n",
       "      <td>...</td>\n",
       "      <td>...</td>\n",
       "    </tr>\n",
       "    <tr>\n",
       "      <th>395</th>\n",
       "      <td>15691863</td>\n",
       "      <td>0</td>\n",
       "      <td>46</td>\n",
       "      <td>41000</td>\n",
       "      <td>1</td>\n",
       "    </tr>\n",
       "    <tr>\n",
       "      <th>396</th>\n",
       "      <td>15706071</td>\n",
       "      <td>1</td>\n",
       "      <td>51</td>\n",
       "      <td>23000</td>\n",
       "      <td>1</td>\n",
       "    </tr>\n",
       "    <tr>\n",
       "      <th>397</th>\n",
       "      <td>15654296</td>\n",
       "      <td>0</td>\n",
       "      <td>50</td>\n",
       "      <td>20000</td>\n",
       "      <td>1</td>\n",
       "    </tr>\n",
       "    <tr>\n",
       "      <th>398</th>\n",
       "      <td>15755018</td>\n",
       "      <td>1</td>\n",
       "      <td>36</td>\n",
       "      <td>33000</td>\n",
       "      <td>0</td>\n",
       "    </tr>\n",
       "    <tr>\n",
       "      <th>399</th>\n",
       "      <td>15594041</td>\n",
       "      <td>0</td>\n",
       "      <td>49</td>\n",
       "      <td>36000</td>\n",
       "      <td>1</td>\n",
       "    </tr>\n",
       "  </tbody>\n",
       "</table>\n",
       "<p>400 rows × 5 columns</p>\n",
       "</div>"
      ],
      "text/plain": [
       "      User ID  Gender  Age  EstimatedSalary  Purchased\n",
       "0    15624510       1   19            19000          0\n",
       "1    15810944       1   35            20000          0\n",
       "2    15668575       0   26            43000          0\n",
       "3    15603246       0   27            57000          0\n",
       "4    15804002       1   19            76000          0\n",
       "..        ...     ...  ...              ...        ...\n",
       "395  15691863       0   46            41000          1\n",
       "396  15706071       1   51            23000          1\n",
       "397  15654296       0   50            20000          1\n",
       "398  15755018       1   36            33000          0\n",
       "399  15594041       0   49            36000          1\n",
       "\n",
       "[400 rows x 5 columns]"
      ]
     },
     "execution_count": 106,
     "metadata": {},
     "output_type": "execute_result"
    }
   ],
   "source": [
    "# Import Dataset\n",
    "cus = pd.read_csv(\"/Users/crystal/Desktop/assign02_0122/customer.csv\")\n",
    "cus.columns\n",
    "#Transform Gender to binary variable with value equals to 1 if male and value equals to 0 if female\n",
    "cus['Gender'] = np.where(cus['Gender'] =='Male', 1, 0)\n",
    "cus"
   ]
  },
  {
   "cell_type": "code",
   "execution_count": 93,
   "id": "dac6fae4",
   "metadata": {},
   "outputs": [],
   "source": [
    "#Y & X variables \n",
    "x = cus[['Gender','Age','EstimatedSalary']]\n",
    "y = cus['Purchased']"
   ]
  },
  {
   "cell_type": "code",
   "execution_count": 94,
   "id": "f9e4e6a0",
   "metadata": {},
   "outputs": [],
   "source": [
    "#Split data set into test set and train set\n",
    "x_train, x_test, y_train, y_test = train_test_split(x,y,test_size = 0.2, random_state= 42)"
   ]
  },
  {
   "cell_type": "code",
   "execution_count": 95,
   "id": "00885a32",
   "metadata": {},
   "outputs": [
    {
     "data": {
      "text/html": [
       "<div>\n",
       "<style scoped>\n",
       "    .dataframe tbody tr th:only-of-type {\n",
       "        vertical-align: middle;\n",
       "    }\n",
       "\n",
       "    .dataframe tbody tr th {\n",
       "        vertical-align: top;\n",
       "    }\n",
       "\n",
       "    .dataframe thead th {\n",
       "        text-align: right;\n",
       "    }\n",
       "</style>\n",
       "<table border=\"1\" class=\"dataframe\">\n",
       "  <thead>\n",
       "    <tr style=\"text-align: right;\">\n",
       "      <th></th>\n",
       "      <th>Gender</th>\n",
       "      <th>Age</th>\n",
       "      <th>EstimatedSalary</th>\n",
       "      <th>Purchased</th>\n",
       "    </tr>\n",
       "  </thead>\n",
       "  <tbody>\n",
       "    <tr>\n",
       "      <th>0</th>\n",
       "      <td>-0.5</td>\n",
       "      <td>-0.666667</td>\n",
       "      <td>-0.311111</td>\n",
       "      <td>0.0</td>\n",
       "    </tr>\n",
       "    <tr>\n",
       "      <th>1</th>\n",
       "      <td>0.5</td>\n",
       "      <td>0.600000</td>\n",
       "      <td>-0.955556</td>\n",
       "      <td>1.0</td>\n",
       "    </tr>\n",
       "    <tr>\n",
       "      <th>2</th>\n",
       "      <td>-0.5</td>\n",
       "      <td>0.133333</td>\n",
       "      <td>1.400000</td>\n",
       "      <td>1.0</td>\n",
       "    </tr>\n",
       "    <tr>\n",
       "      <th>3</th>\n",
       "      <td>-0.5</td>\n",
       "      <td>0.466667</td>\n",
       "      <td>-0.711111</td>\n",
       "      <td>0.0</td>\n",
       "    </tr>\n",
       "    <tr>\n",
       "      <th>4</th>\n",
       "      <td>-0.5</td>\n",
       "      <td>1.333333</td>\n",
       "      <td>-1.000000</td>\n",
       "      <td>1.0</td>\n",
       "    </tr>\n",
       "    <tr>\n",
       "      <th>...</th>\n",
       "      <td>...</td>\n",
       "      <td>...</td>\n",
       "      <td>...</td>\n",
       "      <td>...</td>\n",
       "    </tr>\n",
       "    <tr>\n",
       "      <th>315</th>\n",
       "      <td>-0.5</td>\n",
       "      <td>-0.866667</td>\n",
       "      <td>-0.977778</td>\n",
       "      <td>0.0</td>\n",
       "    </tr>\n",
       "    <tr>\n",
       "      <th>316</th>\n",
       "      <td>-0.5</td>\n",
       "      <td>-0.733333</td>\n",
       "      <td>-0.800000</td>\n",
       "      <td>0.0</td>\n",
       "    </tr>\n",
       "    <tr>\n",
       "      <th>317</th>\n",
       "      <td>-0.5</td>\n",
       "      <td>0.400000</td>\n",
       "      <td>1.377778</td>\n",
       "      <td>0.0</td>\n",
       "    </tr>\n",
       "    <tr>\n",
       "      <th>318</th>\n",
       "      <td>0.5</td>\n",
       "      <td>0.133333</td>\n",
       "      <td>0.133333</td>\n",
       "      <td>0.0</td>\n",
       "    </tr>\n",
       "    <tr>\n",
       "      <th>319</th>\n",
       "      <td>-0.5</td>\n",
       "      <td>-0.333333</td>\n",
       "      <td>0.333333</td>\n",
       "      <td>0.0</td>\n",
       "    </tr>\n",
       "  </tbody>\n",
       "</table>\n",
       "<p>320 rows × 4 columns</p>\n",
       "</div>"
      ],
      "text/plain": [
       "     Gender       Age  EstimatedSalary  Purchased\n",
       "0      -0.5 -0.666667        -0.311111        0.0\n",
       "1       0.5  0.600000        -0.955556        1.0\n",
       "2      -0.5  0.133333         1.400000        1.0\n",
       "3      -0.5  0.466667        -0.711111        0.0\n",
       "4      -0.5  1.333333        -1.000000        1.0\n",
       "..      ...       ...              ...        ...\n",
       "315    -0.5 -0.866667        -0.977778        0.0\n",
       "316    -0.5 -0.733333        -0.800000        0.0\n",
       "317    -0.5  0.400000         1.377778        0.0\n",
       "318     0.5  0.133333         0.133333        0.0\n",
       "319    -0.5 -0.333333         0.333333        0.0\n",
       "\n",
       "[320 rows x 4 columns]"
      ]
     },
     "execution_count": 95,
     "metadata": {},
     "output_type": "execute_result"
    },
    {
     "data": {
      "text/html": [
       "<div>\n",
       "<style scoped>\n",
       "    .dataframe tbody tr th:only-of-type {\n",
       "        vertical-align: middle;\n",
       "    }\n",
       "\n",
       "    .dataframe tbody tr th {\n",
       "        vertical-align: top;\n",
       "    }\n",
       "\n",
       "    .dataframe thead th {\n",
       "        text-align: right;\n",
       "    }\n",
       "</style>\n",
       "<table border=\"1\" class=\"dataframe\">\n",
       "  <thead>\n",
       "    <tr style=\"text-align: right;\">\n",
       "      <th></th>\n",
       "      <th>Gender</th>\n",
       "      <th>Age</th>\n",
       "      <th>EstimatedSalary</th>\n",
       "      <th>Purchased</th>\n",
       "    </tr>\n",
       "  </thead>\n",
       "  <tbody>\n",
       "    <tr>\n",
       "      <th>0</th>\n",
       "      <td>0.0</td>\n",
       "      <td>0.552632</td>\n",
       "      <td>-1.055215</td>\n",
       "      <td>0.0</td>\n",
       "    </tr>\n",
       "    <tr>\n",
       "      <th>1</th>\n",
       "      <td>0.0</td>\n",
       "      <td>1.236842</td>\n",
       "      <td>0.564417</td>\n",
       "      <td>1.0</td>\n",
       "    </tr>\n",
       "    <tr>\n",
       "      <th>2</th>\n",
       "      <td>0.0</td>\n",
       "      <td>-0.394737</td>\n",
       "      <td>-0.515337</td>\n",
       "      <td>0.0</td>\n",
       "    </tr>\n",
       "    <tr>\n",
       "      <th>3</th>\n",
       "      <td>0.0</td>\n",
       "      <td>0.657895</td>\n",
       "      <td>0.760736</td>\n",
       "      <td>1.0</td>\n",
       "    </tr>\n",
       "    <tr>\n",
       "      <th>4</th>\n",
       "      <td>0.0</td>\n",
       "      <td>-0.342105</td>\n",
       "      <td>-0.907975</td>\n",
       "      <td>0.0</td>\n",
       "    </tr>\n",
       "    <tr>\n",
       "      <th>...</th>\n",
       "      <td>...</td>\n",
       "      <td>...</td>\n",
       "      <td>...</td>\n",
       "      <td>...</td>\n",
       "    </tr>\n",
       "    <tr>\n",
       "      <th>75</th>\n",
       "      <td>0.0</td>\n",
       "      <td>-0.026316</td>\n",
       "      <td>-0.368098</td>\n",
       "      <td>0.0</td>\n",
       "    </tr>\n",
       "    <tr>\n",
       "      <th>76</th>\n",
       "      <td>1.0</td>\n",
       "      <td>1.078947</td>\n",
       "      <td>1.668712</td>\n",
       "      <td>1.0</td>\n",
       "    </tr>\n",
       "    <tr>\n",
       "      <th>77</th>\n",
       "      <td>0.0</td>\n",
       "      <td>0.973684</td>\n",
       "      <td>-0.957055</td>\n",
       "      <td>1.0</td>\n",
       "    </tr>\n",
       "    <tr>\n",
       "      <th>78</th>\n",
       "      <td>0.0</td>\n",
       "      <td>-0.026316</td>\n",
       "      <td>-0.441718</td>\n",
       "      <td>0.0</td>\n",
       "    </tr>\n",
       "    <tr>\n",
       "      <th>79</th>\n",
       "      <td>0.0</td>\n",
       "      <td>0.078947</td>\n",
       "      <td>0.319018</td>\n",
       "      <td>1.0</td>\n",
       "    </tr>\n",
       "  </tbody>\n",
       "</table>\n",
       "<p>80 rows × 4 columns</p>\n",
       "</div>"
      ],
      "text/plain": [
       "    Gender       Age  EstimatedSalary  Purchased\n",
       "0      0.0  0.552632        -1.055215        0.0\n",
       "1      0.0  1.236842         0.564417        1.0\n",
       "2      0.0 -0.394737        -0.515337        0.0\n",
       "3      0.0  0.657895         0.760736        1.0\n",
       "4      0.0 -0.342105        -0.907975        0.0\n",
       "..     ...       ...              ...        ...\n",
       "75     0.0 -0.026316        -0.368098        0.0\n",
       "76     1.0  1.078947         1.668712        1.0\n",
       "77     0.0  0.973684        -0.957055        1.0\n",
       "78     0.0 -0.026316        -0.441718        0.0\n",
       "79     0.0  0.078947         0.319018        1.0\n",
       "\n",
       "[80 rows x 4 columns]"
      ]
     },
     "execution_count": 95,
     "metadata": {},
     "output_type": "execute_result"
    }
   ],
   "source": [
    "#Scaling data using robust scalar \n",
    "ro_scaler = RobustScaler()\n",
    "x_train = ro_scaler.fit_transform(x_train)\n",
    "x_test = ro_scaler.fit_transform(x_test)\n",
    "#Training Dataset\n",
    "df_train = pd.DataFrame(np.c_[x_train, y_train])\n",
    "df_train.columns = ['Gender','Age','EstimatedSalary','Purchased']\n",
    "df_train\n",
    "\n",
    "##Test Dataset\n",
    "df_test = pd.DataFrame(np.c_[x_test, y_test])\n",
    "df_test.columns = ['Gender','Age','EstimatedSalary','Purchased']\n",
    "df_test\n",
    "Xtest = df_test[['Gender','Age','EstimatedSalary']]\n",
    "ytest = df_test['Purchased']"
   ]
  },
  {
   "cell_type": "markdown",
   "id": "ebd4f99a",
   "metadata": {},
   "source": [
    "#### 1). Full Logistic Regression Model "
   ]
  },
  {
   "cell_type": "code",
   "execution_count": 96,
   "id": "2b5d8c0b",
   "metadata": {},
   "outputs": [
    {
     "name": "stdout",
     "output_type": "stream",
     "text": [
      "Optimization terminated successfully.\n",
      "         Current function value: 0.371365\n",
      "         Iterations 7\n"
     ]
    },
    {
     "data": {
      "text/html": [
       "<table class=\"simpletable\">\n",
       "<caption>Logit Regression Results</caption>\n",
       "<tr>\n",
       "  <th>Dep. Variable:</th>       <td>Purchased</td>    <th>  No. Observations:  </th>  <td>   320</td>  \n",
       "</tr>\n",
       "<tr>\n",
       "  <th>Model:</th>                 <td>Logit</td>      <th>  Df Residuals:      </th>  <td>   316</td>  \n",
       "</tr>\n",
       "<tr>\n",
       "  <th>Method:</th>                 <td>MLE</td>       <th>  Df Model:          </th>  <td>     3</td>  \n",
       "</tr>\n",
       "<tr>\n",
       "  <th>Date:</th>            <td>Sun, 22 Jan 2023</td> <th>  Pseudo R-squ.:     </th>  <td>0.4313</td>  \n",
       "</tr>\n",
       "<tr>\n",
       "  <th>Time:</th>                <td>20:33:47</td>     <th>  Log-Likelihood:    </th> <td> -118.84</td> \n",
       "</tr>\n",
       "<tr>\n",
       "  <th>converged:</th>             <td>True</td>       <th>  LL-Null:           </th> <td> -208.98</td> \n",
       "</tr>\n",
       "<tr>\n",
       "  <th>Covariance Type:</th>     <td>nonrobust</td>    <th>  LLR p-value:       </th> <td>7.661e-39</td>\n",
       "</tr>\n",
       "</table>\n",
       "<table class=\"simpletable\">\n",
       "<tr>\n",
       "         <td></td>            <th>coef</th>     <th>std err</th>      <th>z</th>      <th>P>|z|</th>  <th>[0.025</th>    <th>0.975]</th>  \n",
       "</tr>\n",
       "<tr>\n",
       "  <th>Intercept</th>       <td>   -1.2108</td> <td>    0.188</td> <td>   -6.430</td> <td> 0.000</td> <td>   -1.580</td> <td>   -0.842</td>\n",
       "</tr>\n",
       "<tr>\n",
       "  <th>Gender</th>          <td>    0.3156</td> <td>    0.328</td> <td>    0.961</td> <td> 0.337</td> <td>   -0.328</td> <td>    0.959</td>\n",
       "</tr>\n",
       "<tr>\n",
       "  <th>Age</th>             <td>    3.1690</td> <td>    0.400</td> <td>    7.923</td> <td> 0.000</td> <td>    2.385</td> <td>    3.953</td>\n",
       "</tr>\n",
       "<tr>\n",
       "  <th>EstimatedSalary</th> <td>    1.6159</td> <td>    0.259</td> <td>    6.233</td> <td> 0.000</td> <td>    1.108</td> <td>    2.124</td>\n",
       "</tr>\n",
       "</table>"
      ],
      "text/plain": [
       "<class 'statsmodels.iolib.summary.Summary'>\n",
       "\"\"\"\n",
       "                           Logit Regression Results                           \n",
       "==============================================================================\n",
       "Dep. Variable:              Purchased   No. Observations:                  320\n",
       "Model:                          Logit   Df Residuals:                      316\n",
       "Method:                           MLE   Df Model:                            3\n",
       "Date:                Sun, 22 Jan 2023   Pseudo R-squ.:                  0.4313\n",
       "Time:                        20:33:47   Log-Likelihood:                -118.84\n",
       "converged:                       True   LL-Null:                       -208.98\n",
       "Covariance Type:            nonrobust   LLR p-value:                 7.661e-39\n",
       "===================================================================================\n",
       "                      coef    std err          z      P>|z|      [0.025      0.975]\n",
       "-----------------------------------------------------------------------------------\n",
       "Intercept          -1.2108      0.188     -6.430      0.000      -1.580      -0.842\n",
       "Gender              0.3156      0.328      0.961      0.337      -0.328       0.959\n",
       "Age                 3.1690      0.400      7.923      0.000       2.385       3.953\n",
       "EstimatedSalary     1.6159      0.259      6.233      0.000       1.108       2.124\n",
       "===================================================================================\n",
       "\"\"\""
      ]
     },
     "execution_count": 96,
     "metadata": {},
     "output_type": "execute_result"
    }
   ],
   "source": [
    "log_reg = smf.logit(\"Purchased ~ Gender + Age + EstimatedSalary\", data=df_train).fit()\n",
    "log_reg.summary()"
   ]
  },
  {
   "cell_type": "markdown",
   "id": "9d930951",
   "metadata": {},
   "source": [
    "The Pseudo R-squared of the full logistic regression model is 0.4313."
   ]
  },
  {
   "cell_type": "code",
   "execution_count": 97,
   "id": "a25a49ca",
   "metadata": {},
   "outputs": [
    {
     "name": "stdout",
     "output_type": "stream",
     "text": [
      "                 Odds Ratio   Lower CI   Upper CI\n",
      "Intercept          0.297961   0.206006   0.430963\n",
      "Gender             1.371019   0.720295   2.609615\n",
      "Age               23.783897  10.860041  52.087627\n",
      "EstimatedSalary    5.032569   3.027683   8.365062\n"
     ]
    }
   ],
   "source": [
    "# Calculating Odds Ratios\n",
    "odds_ratios = pd.DataFrame(\n",
    "    {\n",
    "        \"Odds Ratio\": log_reg.params,\n",
    "        \"Lower CI\": log_reg.conf_int()[0],\n",
    "        \"Upper CI\": log_reg.conf_int()[1],\n",
    "    }\n",
    ")\n",
    "odds_ratios = np.exp(odds_ratios)\n",
    "print(odds_ratios)"
   ]
  },
  {
   "cell_type": "code",
   "execution_count": 98,
   "id": "d359570d",
   "metadata": {},
   "outputs": [
    {
     "name": "stdout",
     "output_type": "stream",
     "text": [
      "Actual values [0.0, 1.0, 0.0, 1.0, 0.0, 0.0, 1.0, 0.0, 0.0, 0.0, 0.0, 1.0, 0.0, 0.0, 0.0, 0.0, 1.0, 0.0, 0.0, 1.0, 0.0, 0.0, 1.0, 1.0, 0.0, 1.0, 0.0, 0.0, 1.0, 0.0, 1.0, 0.0, 1.0, 0.0, 1.0, 0.0, 0.0, 0.0, 0.0, 0.0, 1.0, 0.0, 0.0, 1.0, 0.0, 1.0, 0.0, 0.0, 1.0, 0.0, 0.0, 1.0, 0.0, 0.0, 0.0, 0.0, 1.0, 0.0, 0.0, 0.0, 0.0, 0.0, 1.0, 0.0, 0.0, 1.0, 1.0, 1.0, 0.0, 0.0, 1.0, 0.0, 0.0, 0.0, 1.0, 0.0, 1.0, 1.0, 0.0, 1.0]\n",
      "Predictions : [0, 1, 0, 1, 0, 0, 1, 0, 1, 1, 0, 1, 0, 0, 0, 1, 1, 1, 0, 1, 0, 0, 0, 1, 0, 1, 1, 0, 1, 0, 0, 0, 1, 0, 1, 0, 0, 0, 0, 0, 0, 0, 0, 0, 0, 1, 0, 0, 1, 0, 0, 1, 0, 0, 0, 0, 1, 0, 0, 0, 0, 0, 1, 0, 0, 1, 1, 1, 0, 1, 1, 0, 0, 0, 0, 0, 1, 1, 0, 0]\n"
     ]
    }
   ],
   "source": [
    "# performing predictions on the test dataset\n",
    "yhat = log_reg.predict(Xtest)\n",
    "prediction = list(map(round, yhat))\n",
    "  \n",
    "# comparing original and predicted values of y\n",
    "print('Actual values', list(ytest.values))\n",
    "print('Predictions :', prediction)"
   ]
  },
  {
   "cell_type": "code",
   "execution_count": 99,
   "id": "022fcbab",
   "metadata": {},
   "outputs": [
    {
     "name": "stdout",
     "output_type": "stream",
     "text": [
      "Test accuracy =  0.85\n"
     ]
    }
   ],
   "source": [
    "# Accuracy score of the model\n",
    "print('Test accuracy = ', accuracy_score(ytest, prediction))"
   ]
  },
  {
   "cell_type": "code",
   "execution_count": 100,
   "id": "60dd01bd",
   "metadata": {},
   "outputs": [
    {
     "name": "stdout",
     "output_type": "stream",
     "text": [
      "Confusion Matrix : \n",
      " [[46  6]\n",
      " [ 6 22]]\n"
     ]
    },
    {
     "data": {
      "text/plain": [
       "<matplotlib.image.AxesImage at 0x7fac14239a30>"
      ]
     },
     "execution_count": 100,
     "metadata": {},
     "output_type": "execute_result"
    },
    {
     "data": {
      "text/plain": [
       "[[<matplotlib.axis.XTick at 0x7fac163896d0>,\n",
       "  <matplotlib.axis.XTick at 0x7fac163896a0>],\n",
       " [Text(0, 0, 'Predicted 0s'), Text(1, 0, 'Predicted 1s')]]"
      ]
     },
     "execution_count": 100,
     "metadata": {},
     "output_type": "execute_result"
    },
    {
     "data": {
      "text/plain": [
       "[[<matplotlib.axis.YTick at 0x7fac16389b20>,\n",
       "  <matplotlib.axis.YTick at 0x7fac163891f0>],\n",
       " [Text(0, 0, 'Actual 0s'), Text(0, 1, 'Actual 1s')]]"
      ]
     },
     "execution_count": 100,
     "metadata": {},
     "output_type": "execute_result"
    },
    {
     "data": {
      "text/plain": [
       "(1.5, -0.5)"
      ]
     },
     "execution_count": 100,
     "metadata": {},
     "output_type": "execute_result"
    },
    {
     "data": {
      "text/plain": [
       "Text(0, 0, '46')"
      ]
     },
     "execution_count": 100,
     "metadata": {},
     "output_type": "execute_result"
    },
    {
     "data": {
      "text/plain": [
       "Text(1, 0, '6')"
      ]
     },
     "execution_count": 100,
     "metadata": {},
     "output_type": "execute_result"
    },
    {
     "data": {
      "text/plain": [
       "Text(0, 1, '6')"
      ]
     },
     "execution_count": 100,
     "metadata": {},
     "output_type": "execute_result"
    },
    {
     "data": {
      "text/plain": [
       "Text(1, 1, '22')"
      ]
     },
     "execution_count": 100,
     "metadata": {},
     "output_type": "execute_result"
    },
    {
     "data": {
      "image/png": "[encoded data removed]",
      "text/plain": [
       "<Figure size 576x576 with 1 Axes>"
      ]
     },
     "metadata": {
      "needs_background": "light"
     },
     "output_type": "display_data"
    }
   ],
   "source": [
    "# Confusion Matrix\n",
    "cm = confusion_matrix(ytest, prediction) \n",
    "print (\"Confusion Matrix : \\n\", cm) \n",
    "\n",
    "fig, ax = plt.subplots(figsize=(8, 8))\n",
    "ax.imshow(cm)\n",
    "ax.grid(False)\n",
    "ax.xaxis.set(ticks=(0, 1), ticklabels=('Predicted 0s', 'Predicted 1s'))\n",
    "ax.yaxis.set(ticks=(0, 1), ticklabels=('Actual 0s', 'Actual 1s'))\n",
    "ax.set_ylim(1.5, -0.5)\n",
    "for i in range(2):\n",
    "    for j in range(2):\n",
    "        ax.text(j, i, cm[i, j], ha='center', va='center', color='red')\n",
    "plt.show()"
   ]
  },
  {
   "cell_type": "markdown",
   "id": "ef3cad59",
   "metadata": {},
   "source": [
    "#### 2). Trimmed Logistic Regression Models"
   ]
  },
  {
   "cell_type": "code",
   "execution_count": 41,
   "id": "428d6b0f",
   "metadata": {},
   "outputs": [
    {
     "name": "stdout",
     "output_type": "stream",
     "text": [
      "Optimization terminated successfully.\n",
      "         Current function value: 0.652527\n",
      "         Iterations 4\n"
     ]
    },
    {
     "data": {
      "text/html": [
       "<table class=\"simpletable\">\n",
       "<caption>Logit Regression Results</caption>\n",
       "<tr>\n",
       "  <th>Dep. Variable:</th>       <td>Purchased</td>    <th>  No. Observations:  </th>  <td>   320</td>  \n",
       "</tr>\n",
       "<tr>\n",
       "  <th>Model:</th>                 <td>Logit</td>      <th>  Df Residuals:      </th>  <td>   318</td>  \n",
       "</tr>\n",
       "<tr>\n",
       "  <th>Method:</th>                 <td>MLE</td>       <th>  Df Model:          </th>  <td>     1</td>  \n",
       "</tr>\n",
       "<tr>\n",
       "  <th>Date:</th>            <td>Sun, 22 Jan 2023</td> <th>  Pseudo R-squ.:     </th> <td>0.0008121</td>\n",
       "</tr>\n",
       "<tr>\n",
       "  <th>Time:</th>                <td>16:49:00</td>     <th>  Log-Likelihood:    </th> <td> -208.81</td> \n",
       "</tr>\n",
       "<tr>\n",
       "  <th>converged:</th>             <td>True</td>       <th>  LL-Null:           </th> <td> -208.98</td> \n",
       "</tr>\n",
       "<tr>\n",
       "  <th>Covariance Type:</th>     <td>nonrobust</td>    <th>  LLR p-value:       </th>  <td>0.5602</td>  \n",
       "</tr>\n",
       "</table>\n",
       "<table class=\"simpletable\">\n",
       "<tr>\n",
       "      <td></td>         <th>coef</th>     <th>std err</th>      <th>z</th>      <th>P>|z|</th>  <th>[0.025</th>    <th>0.975]</th>  \n",
       "</tr>\n",
       "<tr>\n",
       "  <th>Intercept</th> <td>   -0.5787</td> <td>    0.117</td> <td>   -4.964</td> <td> 0.000</td> <td>   -0.807</td> <td>   -0.350</td>\n",
       "</tr>\n",
       "<tr>\n",
       "  <th>Gender</th>    <td>   -0.1358</td> <td>    0.233</td> <td>   -0.582</td> <td> 0.560</td> <td>   -0.593</td> <td>    0.321</td>\n",
       "</tr>\n",
       "</table>"
      ],
      "text/plain": [
       "<class 'statsmodels.iolib.summary.Summary'>\n",
       "\"\"\"\n",
       "                           Logit Regression Results                           \n",
       "==============================================================================\n",
       "Dep. Variable:              Purchased   No. Observations:                  320\n",
       "Model:                          Logit   Df Residuals:                      318\n",
       "Method:                           MLE   Df Model:                            1\n",
       "Date:                Sun, 22 Jan 2023   Pseudo R-squ.:               0.0008121\n",
       "Time:                        16:49:00   Log-Likelihood:                -208.81\n",
       "converged:                       True   LL-Null:                       -208.98\n",
       "Covariance Type:            nonrobust   LLR p-value:                    0.5602\n",
       "==============================================================================\n",
       "                 coef    std err          z      P>|z|      [0.025      0.975]\n",
       "------------------------------------------------------------------------------\n",
       "Intercept     -0.5787      0.117     -4.964      0.000      -0.807      -0.350\n",
       "Gender        -0.1358      0.233     -0.582      0.560      -0.593       0.321\n",
       "==============================================================================\n",
       "\"\"\""
      ]
     },
     "execution_count": 41,
     "metadata": {},
     "output_type": "execute_result"
    },
    {
     "name": "stdout",
     "output_type": "stream",
     "text": [
      "Test accuracy of model 01 =  0.65\n",
      "Optimization terminated successfully.\n",
      "         Current function value: 0.453478\n",
      "         Iterations 6\n"
     ]
    },
    {
     "data": {
      "text/html": [
       "<table class=\"simpletable\">\n",
       "<caption>Logit Regression Results</caption>\n",
       "<tr>\n",
       "  <th>Dep. Variable:</th>       <td>Purchased</td>    <th>  No. Observations:  </th>  <td>   320</td>  \n",
       "</tr>\n",
       "<tr>\n",
       "  <th>Model:</th>                 <td>Logit</td>      <th>  Df Residuals:      </th>  <td>   318</td>  \n",
       "</tr>\n",
       "<tr>\n",
       "  <th>Method:</th>                 <td>MLE</td>       <th>  Df Model:          </th>  <td>     1</td>  \n",
       "</tr>\n",
       "<tr>\n",
       "  <th>Date:</th>            <td>Sun, 22 Jan 2023</td> <th>  Pseudo R-squ.:     </th>  <td>0.3056</td>  \n",
       "</tr>\n",
       "<tr>\n",
       "  <th>Time:</th>                <td>16:49:00</td>     <th>  Log-Likelihood:    </th> <td> -145.11</td> \n",
       "</tr>\n",
       "<tr>\n",
       "  <th>converged:</th>             <td>True</td>       <th>  LL-Null:           </th> <td> -208.98</td> \n",
       "</tr>\n",
       "<tr>\n",
       "  <th>Covariance Type:</th>     <td>nonrobust</td>    <th>  LLR p-value:       </th> <td>1.285e-29</td>\n",
       "</tr>\n",
       "</table>\n",
       "<table class=\"simpletable\">\n",
       "<tr>\n",
       "      <td></td>         <th>coef</th>     <th>std err</th>      <th>z</th>      <th>P>|z|</th>  <th>[0.025</th>    <th>0.975]</th>  \n",
       "</tr>\n",
       "<tr>\n",
       "  <th>Intercept</th> <td>   -0.9953</td> <td>    0.159</td> <td>   -6.260</td> <td> 0.000</td> <td>   -1.307</td> <td>   -0.684</td>\n",
       "</tr>\n",
       "<tr>\n",
       "  <th>Age</th>       <td>    2.5667</td> <td>    0.300</td> <td>    8.558</td> <td> 0.000</td> <td>    1.979</td> <td>    3.155</td>\n",
       "</tr>\n",
       "</table>"
      ],
      "text/plain": [
       "<class 'statsmodels.iolib.summary.Summary'>\n",
       "\"\"\"\n",
       "                           Logit Regression Results                           \n",
       "==============================================================================\n",
       "Dep. Variable:              Purchased   No. Observations:                  320\n",
       "Model:                          Logit   Df Residuals:                      318\n",
       "Method:                           MLE   Df Model:                            1\n",
       "Date:                Sun, 22 Jan 2023   Pseudo R-squ.:                  0.3056\n",
       "Time:                        16:49:00   Log-Likelihood:                -145.11\n",
       "converged:                       True   LL-Null:                       -208.98\n",
       "Covariance Type:            nonrobust   LLR p-value:                 1.285e-29\n",
       "==============================================================================\n",
       "                 coef    std err          z      P>|z|      [0.025      0.975]\n",
       "------------------------------------------------------------------------------\n",
       "Intercept     -0.9953      0.159     -6.260      0.000      -1.307      -0.684\n",
       "Age            2.5667      0.300      8.558      0.000       1.979       3.155\n",
       "==============================================================================\n",
       "\"\"\""
      ]
     },
     "execution_count": 41,
     "metadata": {},
     "output_type": "execute_result"
    },
    {
     "name": "stdout",
     "output_type": "stream",
     "text": [
      "Test accuracy of model 02 =  0.9125\n",
      "Optimization terminated successfully.\n",
      "         Current function value: 0.578480\n",
      "         Iterations 5\n"
     ]
    },
    {
     "data": {
      "text/html": [
       "<table class=\"simpletable\">\n",
       "<caption>Logit Regression Results</caption>\n",
       "<tr>\n",
       "  <th>Dep. Variable:</th>       <td>Purchased</td>    <th>  No. Observations:  </th>  <td>   320</td>  \n",
       "</tr>\n",
       "<tr>\n",
       "  <th>Model:</th>                 <td>Logit</td>      <th>  Df Residuals:      </th>  <td>   318</td>  \n",
       "</tr>\n",
       "<tr>\n",
       "  <th>Method:</th>                 <td>MLE</td>       <th>  Df Model:          </th>  <td>     1</td>  \n",
       "</tr>\n",
       "<tr>\n",
       "  <th>Date:</th>            <td>Sun, 22 Jan 2023</td> <th>  Pseudo R-squ.:     </th>  <td>0.1142</td>  \n",
       "</tr>\n",
       "<tr>\n",
       "  <th>Time:</th>                <td>16:49:00</td>     <th>  Log-Likelihood:    </th> <td> -185.11</td> \n",
       "</tr>\n",
       "<tr>\n",
       "  <th>converged:</th>             <td>True</td>       <th>  LL-Null:           </th> <td> -208.98</td> \n",
       "</tr>\n",
       "<tr>\n",
       "  <th>Covariance Type:</th>     <td>nonrobust</td>    <th>  LLR p-value:       </th> <td>4.891e-12</td>\n",
       "</tr>\n",
       "</table>\n",
       "<table class=\"simpletable\">\n",
       "<tr>\n",
       "         <td></td>            <th>coef</th>     <th>std err</th>      <th>z</th>      <th>P>|z|</th>  <th>[0.025</th>    <th>0.975]</th>  \n",
       "</tr>\n",
       "<tr>\n",
       "  <th>Intercept</th>       <td>   -0.6383</td> <td>    0.127</td> <td>   -5.016</td> <td> 0.000</td> <td>   -0.888</td> <td>   -0.389</td>\n",
       "</tr>\n",
       "<tr>\n",
       "  <th>EstimatedSalary</th> <td>    1.1298</td> <td>    0.178</td> <td>    6.333</td> <td> 0.000</td> <td>    0.780</td> <td>    1.479</td>\n",
       "</tr>\n",
       "</table>"
      ],
      "text/plain": [
       "<class 'statsmodels.iolib.summary.Summary'>\n",
       "\"\"\"\n",
       "                           Logit Regression Results                           \n",
       "==============================================================================\n",
       "Dep. Variable:              Purchased   No. Observations:                  320\n",
       "Model:                          Logit   Df Residuals:                      318\n",
       "Method:                           MLE   Df Model:                            1\n",
       "Date:                Sun, 22 Jan 2023   Pseudo R-squ.:                  0.1142\n",
       "Time:                        16:49:00   Log-Likelihood:                -185.11\n",
       "converged:                       True   LL-Null:                       -208.98\n",
       "Covariance Type:            nonrobust   LLR p-value:                 4.891e-12\n",
       "===================================================================================\n",
       "                      coef    std err          z      P>|z|      [0.025      0.975]\n",
       "-----------------------------------------------------------------------------------\n",
       "Intercept          -0.6383      0.127     -5.016      0.000      -0.888      -0.389\n",
       "EstimatedSalary     1.1298      0.178      6.333      0.000       0.780       1.479\n",
       "===================================================================================\n",
       "\"\"\""
      ]
     },
     "execution_count": 41,
     "metadata": {},
     "output_type": "execute_result"
    },
    {
     "name": "stdout",
     "output_type": "stream",
     "text": [
      "Test accuracy of model 03 =  0.775\n",
      "Optimization terminated successfully.\n",
      "         Current function value: 0.453282\n",
      "         Iterations 6\n"
     ]
    },
    {
     "data": {
      "text/html": [
       "<table class=\"simpletable\">\n",
       "<caption>Logit Regression Results</caption>\n",
       "<tr>\n",
       "  <th>Dep. Variable:</th>       <td>Purchased</td>    <th>  No. Observations:  </th>  <td>   320</td>  \n",
       "</tr>\n",
       "<tr>\n",
       "  <th>Model:</th>                 <td>Logit</td>      <th>  Df Residuals:      </th>  <td>   317</td>  \n",
       "</tr>\n",
       "<tr>\n",
       "  <th>Method:</th>                 <td>MLE</td>       <th>  Df Model:          </th>  <td>     2</td>  \n",
       "</tr>\n",
       "<tr>\n",
       "  <th>Date:</th>            <td>Sun, 22 Jan 2023</td> <th>  Pseudo R-squ.:     </th>  <td>0.3059</td>  \n",
       "</tr>\n",
       "<tr>\n",
       "  <th>Time:</th>                <td>16:49:00</td>     <th>  Log-Likelihood:    </th> <td> -145.05</td> \n",
       "</tr>\n",
       "<tr>\n",
       "  <th>converged:</th>             <td>True</td>       <th>  LL-Null:           </th> <td> -208.98</td> \n",
       "</tr>\n",
       "<tr>\n",
       "  <th>Covariance Type:</th>     <td>nonrobust</td>    <th>  LLR p-value:       </th> <td>1.723e-28</td>\n",
       "</tr>\n",
       "</table>\n",
       "<table class=\"simpletable\">\n",
       "<tr>\n",
       "      <td></td>         <th>coef</th>     <th>std err</th>      <th>z</th>      <th>P>|z|</th>  <th>[0.025</th>    <th>0.975]</th>  \n",
       "</tr>\n",
       "<tr>\n",
       "  <th>Intercept</th> <td>   -0.9987</td> <td>    0.160</td> <td>   -6.260</td> <td> 0.000</td> <td>   -1.311</td> <td>   -0.686</td>\n",
       "</tr>\n",
       "<tr>\n",
       "  <th>Gender</th>    <td>    0.1037</td> <td>    0.293</td> <td>    0.354</td> <td> 0.723</td> <td>   -0.471</td> <td>    0.678</td>\n",
       "</tr>\n",
       "<tr>\n",
       "  <th>Age</th>       <td>    2.5764</td> <td>    0.302</td> <td>    8.538</td> <td> 0.000</td> <td>    1.985</td> <td>    3.168</td>\n",
       "</tr>\n",
       "</table>"
      ],
      "text/plain": [
       "<class 'statsmodels.iolib.summary.Summary'>\n",
       "\"\"\"\n",
       "                           Logit Regression Results                           \n",
       "==============================================================================\n",
       "Dep. Variable:              Purchased   No. Observations:                  320\n",
       "Model:                          Logit   Df Residuals:                      317\n",
       "Method:                           MLE   Df Model:                            2\n",
       "Date:                Sun, 22 Jan 2023   Pseudo R-squ.:                  0.3059\n",
       "Time:                        16:49:00   Log-Likelihood:                -145.05\n",
       "converged:                       True   LL-Null:                       -208.98\n",
       "Covariance Type:            nonrobust   LLR p-value:                 1.723e-28\n",
       "==============================================================================\n",
       "                 coef    std err          z      P>|z|      [0.025      0.975]\n",
       "------------------------------------------------------------------------------\n",
       "Intercept     -0.9987      0.160     -6.260      0.000      -1.311      -0.686\n",
       "Gender         0.1037      0.293      0.354      0.723      -0.471       0.678\n",
       "Age            2.5764      0.302      8.538      0.000       1.985       3.168\n",
       "==============================================================================\n",
       "\"\"\""
      ]
     },
     "execution_count": 41,
     "metadata": {},
     "output_type": "execute_result"
    },
    {
     "name": "stdout",
     "output_type": "stream",
     "text": [
      "Test accuracy of model 04 =  0.9125\n",
      "Optimization terminated successfully.\n",
      "         Current function value: 0.578434\n",
      "         Iterations 5\n"
     ]
    },
    {
     "data": {
      "text/html": [
       "<table class=\"simpletable\">\n",
       "<caption>Logit Regression Results</caption>\n",
       "<tr>\n",
       "  <th>Dep. Variable:</th>       <td>Purchased</td>    <th>  No. Observations:  </th>  <td>   320</td>  \n",
       "</tr>\n",
       "<tr>\n",
       "  <th>Model:</th>                 <td>Logit</td>      <th>  Df Residuals:      </th>  <td>   317</td>  \n",
       "</tr>\n",
       "<tr>\n",
       "  <th>Method:</th>                 <td>MLE</td>       <th>  Df Model:          </th>  <td>     2</td>  \n",
       "</tr>\n",
       "<tr>\n",
       "  <th>Date:</th>            <td>Sun, 22 Jan 2023</td> <th>  Pseudo R-squ.:     </th>  <td>0.1143</td>  \n",
       "</tr>\n",
       "<tr>\n",
       "  <th>Time:</th>                <td>16:49:01</td>     <th>  Log-Likelihood:    </th> <td> -185.10</td> \n",
       "</tr>\n",
       "<tr>\n",
       "  <th>converged:</th>             <td>True</td>       <th>  LL-Null:           </th> <td> -208.98</td> \n",
       "</tr>\n",
       "<tr>\n",
       "  <th>Covariance Type:</th>     <td>nonrobust</td>    <th>  LLR p-value:       </th> <td>4.259e-11</td>\n",
       "</tr>\n",
       "</table>\n",
       "<table class=\"simpletable\">\n",
       "<tr>\n",
       "         <td></td>            <th>coef</th>     <th>std err</th>      <th>z</th>      <th>P>|z|</th>  <th>[0.025</th>    <th>0.975]</th>  \n",
       "</tr>\n",
       "<tr>\n",
       "  <th>Intercept</th>       <td>   -0.6381</td> <td>    0.127</td> <td>   -5.014</td> <td> 0.000</td> <td>   -0.888</td> <td>   -0.389</td>\n",
       "</tr>\n",
       "<tr>\n",
       "  <th>Gender</th>          <td>   -0.0430</td> <td>    0.252</td> <td>   -0.170</td> <td> 0.865</td> <td>   -0.538</td> <td>    0.452</td>\n",
       "</tr>\n",
       "<tr>\n",
       "  <th>EstimatedSalary</th> <td>    1.1281</td> <td>    0.179</td> <td>    6.314</td> <td> 0.000</td> <td>    0.778</td> <td>    1.478</td>\n",
       "</tr>\n",
       "</table>"
      ],
      "text/plain": [
       "<class 'statsmodels.iolib.summary.Summary'>\n",
       "\"\"\"\n",
       "                           Logit Regression Results                           \n",
       "==============================================================================\n",
       "Dep. Variable:              Purchased   No. Observations:                  320\n",
       "Model:                          Logit   Df Residuals:                      317\n",
       "Method:                           MLE   Df Model:                            2\n",
       "Date:                Sun, 22 Jan 2023   Pseudo R-squ.:                  0.1143\n",
       "Time:                        16:49:01   Log-Likelihood:                -185.10\n",
       "converged:                       True   LL-Null:                       -208.98\n",
       "Covariance Type:            nonrobust   LLR p-value:                 4.259e-11\n",
       "===================================================================================\n",
       "                      coef    std err          z      P>|z|      [0.025      0.975]\n",
       "-----------------------------------------------------------------------------------\n",
       "Intercept          -0.6381      0.127     -5.014      0.000      -0.888      -0.389\n",
       "Gender             -0.0430      0.252     -0.170      0.865      -0.538       0.452\n",
       "EstimatedSalary     1.1281      0.179      6.314      0.000       0.778       1.478\n",
       "===================================================================================\n",
       "\"\"\""
      ]
     },
     "execution_count": 41,
     "metadata": {},
     "output_type": "execute_result"
    },
    {
     "name": "stdout",
     "output_type": "stream",
     "text": [
      "Test accuracy of model 05 =  0.775\n",
      "Optimization terminated successfully.\n",
      "         Current function value: 0.372821\n",
      "         Iterations 7\n"
     ]
    },
    {
     "data": {
      "text/html": [
       "<table class=\"simpletable\">\n",
       "<caption>Logit Regression Results</caption>\n",
       "<tr>\n",
       "  <th>Dep. Variable:</th>       <td>Purchased</td>    <th>  No. Observations:  </th>  <td>   320</td>  \n",
       "</tr>\n",
       "<tr>\n",
       "  <th>Model:</th>                 <td>Logit</td>      <th>  Df Residuals:      </th>  <td>   317</td>  \n",
       "</tr>\n",
       "<tr>\n",
       "  <th>Method:</th>                 <td>MLE</td>       <th>  Df Model:          </th>  <td>     2</td>  \n",
       "</tr>\n",
       "<tr>\n",
       "  <th>Date:</th>            <td>Sun, 22 Jan 2023</td> <th>  Pseudo R-squ.:     </th>  <td>0.4291</td>  \n",
       "</tr>\n",
       "<tr>\n",
       "  <th>Time:</th>                <td>16:49:01</td>     <th>  Log-Likelihood:    </th> <td> -119.30</td> \n",
       "</tr>\n",
       "<tr>\n",
       "  <th>converged:</th>             <td>True</td>       <th>  LL-Null:           </th> <td> -208.98</td> \n",
       "</tr>\n",
       "<tr>\n",
       "  <th>Covariance Type:</th>     <td>nonrobust</td>    <th>  LLR p-value:       </th> <td>1.133e-39</td>\n",
       "</tr>\n",
       "</table>\n",
       "<table class=\"simpletable\">\n",
       "<tr>\n",
       "         <td></td>            <th>coef</th>     <th>std err</th>      <th>z</th>      <th>P>|z|</th>  <th>[0.025</th>    <th>0.975]</th>  \n",
       "</tr>\n",
       "<tr>\n",
       "  <th>Intercept</th>       <td>   -1.1949</td> <td>    0.186</td> <td>   -6.408</td> <td> 0.000</td> <td>   -1.560</td> <td>   -0.829</td>\n",
       "</tr>\n",
       "<tr>\n",
       "  <th>Age</th>             <td>    3.1192</td> <td>    0.391</td> <td>    7.968</td> <td> 0.000</td> <td>    2.352</td> <td>    3.887</td>\n",
       "</tr>\n",
       "<tr>\n",
       "  <th>EstimatedSalary</th> <td>    1.5981</td> <td>    0.258</td> <td>    6.186</td> <td> 0.000</td> <td>    1.092</td> <td>    2.104</td>\n",
       "</tr>\n",
       "</table>"
      ],
      "text/plain": [
       "<class 'statsmodels.iolib.summary.Summary'>\n",
       "\"\"\"\n",
       "                           Logit Regression Results                           \n",
       "==============================================================================\n",
       "Dep. Variable:              Purchased   No. Observations:                  320\n",
       "Model:                          Logit   Df Residuals:                      317\n",
       "Method:                           MLE   Df Model:                            2\n",
       "Date:                Sun, 22 Jan 2023   Pseudo R-squ.:                  0.4291\n",
       "Time:                        16:49:01   Log-Likelihood:                -119.30\n",
       "converged:                       True   LL-Null:                       -208.98\n",
       "Covariance Type:            nonrobust   LLR p-value:                 1.133e-39\n",
       "===================================================================================\n",
       "                      coef    std err          z      P>|z|      [0.025      0.975]\n",
       "-----------------------------------------------------------------------------------\n",
       "Intercept          -1.1949      0.186     -6.408      0.000      -1.560      -0.829\n",
       "Age                 3.1192      0.391      7.968      0.000       2.352       3.887\n",
       "EstimatedSalary     1.5981      0.258      6.186      0.000       1.092       2.104\n",
       "===================================================================================\n",
       "\"\"\""
      ]
     },
     "execution_count": 41,
     "metadata": {},
     "output_type": "execute_result"
    },
    {
     "name": "stdout",
     "output_type": "stream",
     "text": [
      "Test accuracy of model 06 =  0.85\n"
     ]
    }
   ],
   "source": [
    "#01. Purchased ~ Gender\n",
    "log_reg_01 = smf.logit(\"Purchased ~ Gender\", data=df_train).fit()\n",
    "log_reg_01.summary()\n",
    "##Pseudo R-squ.:\t0.0008121\n",
    "\n",
    "#02. Purchased ~ Age\n",
    "log_reg_02 = smf.logit(\"Purchased ~ Age\", data=df_train).fit()\n",
    "log_reg_02.summary()\n",
    "##Pseudo R-squ.:\t0.3056\n",
    "\n",
    "\n",
    "#03. Purchased ~ EstimatedSalary\n",
    "log_reg_03 = smf.logit(\"Purchased ~ EstimatedSalary\", data=df_train).fit()\n",
    "log_reg_03.summary()\n",
    "##Pseudo R-squ.:\t0.1142\n",
    "\n",
    "#04. Purchased ~ Gender + Age \n",
    "log_reg_04 = smf.logit(\"Purchased ~ Gender + Age\", data=df_train).fit()\n",
    "log_reg_04.summary()\n",
    "##Pseudo R-squ.:\t0.3059\n",
    "\n",
    "#05. Purchased ~ Gender + EstimatedSalary\n",
    "log_reg_05 = smf.logit(\"Purchased ~ Gender + EstimatedSalary\", data=df_train).fit()\n",
    "log_reg_05.summary()\n",
    "##Pseudo R-squ.:\t0.1143\n",
    "\n",
    "\n",
    "#06. Purchased ~ Age + EstimatedSalary\n",
    "log_reg_06 = smf.logit(\"Purchased ~ Age + EstimatedSalary\", data=df_train).fit()\n",
    "log_reg_06.summary()\n",
    "##Pseudo R-squ.:\t0.4291"
   ]
  },
  {
   "cell_type": "markdown",
   "id": "0bb19609",
   "metadata": {},
   "source": [
    "### Q3. For the Logistic Regression models trained above, pick the best model wrt to the in-sample R2 and give your interpretation of the model’s coefficients (For example, what effect does a positive or negative coefficient have on the model and so on).\n",
    "\n",
    "**Answer**: The model Purchased ~ Gender + Age + Estimated Salary is the best model based on its highest in-sample R2 0.85. <br>\n",
    "**Interpretation**: Gender, Age and Estimated Salary all have positive effect on the probability of making a purchase.  <br>\n",
    "The model suggests that male customers have a 37% higher probability of making purchase compared to female customers with the same age and estimated salary; <br>\n",
    "The probability of making a purchase for customers who are one year older is 22.78 times of the probability of making a purchase for customers who are one year younger with the same age and gender; <br>\n",
    "The probability of making a purchase for customers who have 1 unit of estimated salary higher is about 4 times of the probability of making a purchase for customers who have 1 unit of estimated salary lower."
   ]
  },
  {
   "cell_type": "markdown",
   "id": "ec457f23",
   "metadata": {},
   "source": [
    "### Q4. Is accuracy a good metric to judge the above model? Give reasons and alternatives to support your answer.\n",
    "\n",
    "**Answer**: I think accuracy is a good metric here as the accuracy here is calculated based on the test dataset, in other words, it is an out-of-sample measure of the model. However, the size of test dataset is limited here (only around 80 datapoints), so this accuracy may be not good enough. AIC, though a in-sample model metric, can be a good complimentary metric as its result resembles the out-of-sample validation measure of model prediction. "
   ]
  },
  {
   "cell_type": "markdown",
   "id": "0fd050fc",
   "metadata": {},
   "source": [
    "### Q5. Plot the interactions of the ‘Age’ and ‘Gender’ features with the ‘Purchased’ output. "
   ]
  },
  {
   "cell_type": "code",
   "execution_count": 107,
   "id": "25ebf63f",
   "metadata": {},
   "outputs": [
    {
     "data": {
      "text/plain": [
       "{'whiskers': [<matplotlib.lines.Line2D at 0x7fac14b9b1f0>,\n",
       "  <matplotlib.lines.Line2D at 0x7fac14b915e0>],\n",
       " 'caps': [<matplotlib.lines.Line2D at 0x7fac14b912b0>,\n",
       "  <matplotlib.lines.Line2D at 0x7fac14b91760>],\n",
       " 'boxes': [<matplotlib.lines.Line2D at 0x7fac14b9b9a0>],\n",
       " 'medians': [<matplotlib.lines.Line2D at 0x7fac14b915b0>],\n",
       " 'fliers': [<matplotlib.lines.Line2D at 0x7fac154df400>],\n",
       " 'means': []}"
      ]
     },
     "execution_count": 107,
     "metadata": {},
     "output_type": "execute_result"
    },
    {
     "data": {
      "text/plain": [
       "37.0"
      ]
     },
     "execution_count": 107,
     "metadata": {},
     "output_type": "execute_result"
    },
    {
     "data": {
      "text/plain": [
       "37.655"
      ]
     },
     "execution_count": 107,
     "metadata": {},
     "output_type": "execute_result"
    },
    {
     "data": {
      "image/png": "[encoded data removed]",
      "text/plain": [
       "<Figure size 432x288 with 1 Axes>"
      ]
     },
     "metadata": {
      "needs_background": "light"
     },
     "output_type": "display_data"
    }
   ],
   "source": [
    "#Check the distribution of age \n",
    "plt.boxplot(cus['Age'])\n",
    "np.median(cus['Age'])\n",
    "np.mean(cus['Age'])\n",
    "#Split customers into two groups (Old and Young) based on the cutoff (median of age)\n",
    "cus['Age_Group'] = np.where(cus['Age'] > 37, 'Old', 'Young')"
   ]
  },
  {
   "cell_type": "code",
   "execution_count": 108,
   "id": "19ace0f3",
   "metadata": {},
   "outputs": [
    {
     "data": {
      "image/png": "[encoded data removed]",
      "text/plain": [
       "<Figure size 432x432 with 1 Axes>"
      ]
     },
     "metadata": {
      "needs_background": "light"
     },
     "output_type": "display_data"
    }
   ],
   "source": [
    "#Interaction plot\n",
    "fig, ax = plt.subplots(figsize=(6, 6))\n",
    "fig = interaction_plot(\n",
    "    x=cus['Age_Group'],\n",
    "    trace=cus['Gender'],\n",
    "    response=cus['Purchased'],\n",
    "    colors=[\"red\", \"blue\"],\n",
    "    markers=[\"D\", \"^\"],\n",
    "    ms=10,\n",
    "    ax=ax,\n",
    ")"
   ]
  },
  {
   "cell_type": "markdown",
   "id": "6d1a9112",
   "metadata": {},
   "source": [
    "### Q6. The following plots show effect of Income and Change in savings on Likelihood of buying a house. Observe the three plots (a, b, c) shown and answer the following questions for each plot:\n",
    "- Should the regression equation include the interaction terms (interaction between Income and Average Savings) or not?\n",
    "- Give your reasoning as to why or why shouldn’t they be included."
   ]
  },
  {
   "cell_type": "markdown",
   "id": "b4c4bb96",
   "metadata": {},
   "source": [
    "#### Answer:\n",
    "- **(a)**. In this plot, there is an evidence of weak interaction between income level and average savings. Therefore, we should include the interaction term because the effect that average saving has on the likelihood of buying a house is not independent of income level.\n",
    "- **(b)**. In this plot, there is an evidence of strong interaction between income level and average savings. Therefore, we should include the interaction term because the effect that average saving has on the likelihood of buying a house is not independent of income level. The likelihood of buying a house is higher for high income-level people when they are have lower savings, whereas the likelihood of buying a house is higher for lowe income-level people when they have larger savings.\n",
    "- **(c)**. In this plot, there is no evidence of interaction between income level and average savings. Therefore, we should not include the interaction term because the effect that average saving has on the likelihood of buying a house is independent of income level. \n"
   ]
  }
 ],
 "metadata": {
  "kernelspec": {
   "display_name": "Python 3",
   "language": "python",
   "name": "python3"
  },
  "language_info": {
   "codemirror_mode": {
    "name": "ipython",
    "version": 3
   },
   "file_extension": ".py",
   "mimetype": "text/x-python",
   "name": "python",
   "nbconvert_exporter": "python",
   "pygments_lexer": "ipython3",
   "version": "3.8.8"
  }
 },
 "nbformat": 4,
 "nbformat_minor": 5
}
