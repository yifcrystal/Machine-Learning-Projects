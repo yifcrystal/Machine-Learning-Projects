{
 "cells": [
  {
   "cell_type": "markdown",
   "id": "ebbb3019",
   "metadata": {},
   "source": [
    "# Homework 07 Yifan(Crystal)CAI"
   ]
  },
  {
   "cell_type": "markdown",
   "id": "7455eb8c",
   "metadata": {},
   "source": [
    "Please submit an iPython notebook (.ipynb) file and an HTML version of the notebook (.html) to the Canvas assignment. Any other submission types (e.g. .py, only .ipynb) will be subject to a 10% deduction. Start this assignment early, as training models might take some time."
   ]
  },
  {
   "cell_type": "markdown",
   "id": "5db12b53",
   "metadata": {},
   "source": [
    "Word embeddings are a type of representation used in natural language processing (NLP) that allows words to be represented as dense vectors in a high-dimensional space. These vectors capture semantic and syntactic information about the words they represent, allowing NLP models to better understand the meaning of language.\n",
    "\n",
    "Word2vec is a popular algorithm for training word embeddings. It works by analyzing the co-occurrence patterns of words in a large corpus of text, and learning to predict which words are likely to appear near each other."
   ]
  },
  {
   "cell_type": "markdown",
   "id": "69c87828",
   "metadata": {},
   "source": [
    "#### Q1. In this part of the assignment, you will walk through a tutorial (https://kavita-ganesan.com/gensim-word2vec-tutorial-starter-code/#.ZAeKny1h2M4). for generating word embeddings for a car and hotel reviews dataset (compiled from TripAdvisor and Edmunds). You will replicate the process to answer the following questions about the IMDB Movie Reviews dataset, which includes text from 50k reviews. Please include your code from walking through the tutorial. You don’t need to make any changes here, but make sure to understand the reasoning behind each step. Here’s http://jalammar.github.io/illustrated-word2vec/ another (optional) good resource on understanding the intuition behind Word2vec."
   ]
  },
  {
   "cell_type": "markdown",
   "id": "48569a82",
   "metadata": {},
   "source": [
    "#### Q2. Pivoting to the IMDB Movie Reviews dataset, extract the reviews – what preprocessing techniques might you need to apply before the text can be ingested by word2vec? Split the data into training and test sets (80%-20% ratio suggested)."
   ]
  },
  {
   "cell_type": "code",
   "execution_count": 1,
   "id": "6bc16e39",
   "metadata": {},
   "outputs": [],
   "source": [
    "# !pip install -- upgrade tensorflow\n",
    "# !pip install -U -q segmentation-models\n",
    "# !pip install -q tensorflow\n",
    "# !pip install -q keras\n",
    "# !pip install -q tensorflow-estimator"
   ]
  },
  {
   "cell_type": "code",
   "execution_count": 2,
   "id": "8250e09f",
   "metadata": {},
   "outputs": [],
   "source": [
    "import csv\n",
    "import gensim\n",
    "import pandas as pd \n",
    "import numpy as np\n",
    "import matplotlib.pyplot as plt\n",
    "from sklearn.linear_model import LogisticRegression\n",
    "from sklearn.model_selection import train_test_split\n",
    "from keras.preprocessing.text import Tokenizer\n",
    "from keras_preprocessing.sequence import pad_sequences\n",
    "from keras.models import Sequential,Model\n",
    "from keras.layers import Embedding, LSTM, Dense, Dropout, Input, Flatten, Conv1D, MaxPooling1D\n",
    "from gensim.models import KeyedVectors"
   ]
  },
  {
   "cell_type": "code",
   "execution_count": 3,
   "id": "b6ae475a",
   "metadata": {},
   "outputs": [],
   "source": [
    "# Input file \n",
    "input_file = '/Users/crystal/Desktop/assign07_0313/IMDB Dataset.csv'"
   ]
  },
  {
   "cell_type": "code",
   "execution_count": 4,
   "id": "dece37cd",
   "metadata": {},
   "outputs": [],
   "source": [
    "# Load the dataset into a pandas dataframe\n",
    "df = pd.read_csv(input_file)\n",
    "# Extract the review texts and sentiment labels\n",
    "reviews = df['review'].tolist()\n",
    "labels = df['sentiment'].tolist()"
   ]
  },
  {
   "cell_type": "code",
   "execution_count": 5,
   "id": "41081486",
   "metadata": {},
   "outputs": [
    {
     "data": {
      "text/html": [
       "<div>\n",
       "<style scoped>\n",
       "    .dataframe tbody tr th:only-of-type {\n",
       "        vertical-align: middle;\n",
       "    }\n",
       "\n",
       "    .dataframe tbody tr th {\n",
       "        vertical-align: top;\n",
       "    }\n",
       "\n",
       "    .dataframe thead th {\n",
       "        text-align: right;\n",
       "    }\n",
       "</style>\n",
       "<table border=\"1\" class=\"dataframe\">\n",
       "  <thead>\n",
       "    <tr style=\"text-align: right;\">\n",
       "      <th></th>\n",
       "      <th>review</th>\n",
       "      <th>sentiment</th>\n",
       "    </tr>\n",
       "  </thead>\n",
       "  <tbody>\n",
       "    <tr>\n",
       "      <th>0</th>\n",
       "      <td>One of the other reviewers has mentioned that ...</td>\n",
       "      <td>positive</td>\n",
       "    </tr>\n",
       "    <tr>\n",
       "      <th>1</th>\n",
       "      <td>A wonderful little production. &lt;br /&gt;&lt;br /&gt;The...</td>\n",
       "      <td>positive</td>\n",
       "    </tr>\n",
       "    <tr>\n",
       "      <th>2</th>\n",
       "      <td>I thought this was a wonderful way to spend ti...</td>\n",
       "      <td>positive</td>\n",
       "    </tr>\n",
       "    <tr>\n",
       "      <th>3</th>\n",
       "      <td>Basically there's a family where a little boy ...</td>\n",
       "      <td>negative</td>\n",
       "    </tr>\n",
       "    <tr>\n",
       "      <th>4</th>\n",
       "      <td>Petter Mattei's \"Love in the Time of Money\" is...</td>\n",
       "      <td>positive</td>\n",
       "    </tr>\n",
       "  </tbody>\n",
       "</table>\n",
       "</div>"
      ],
      "text/plain": [
       "                                              review sentiment\n",
       "0  One of the other reviewers has mentioned that ...  positive\n",
       "1  A wonderful little production. <br /><br />The...  positive\n",
       "2  I thought this was a wonderful way to spend ti...  positive\n",
       "3  Basically there's a family where a little boy ...  negative\n",
       "4  Petter Mattei's \"Love in the Time of Money\" is...  positive"
      ]
     },
     "execution_count": 5,
     "metadata": {},
     "output_type": "execute_result"
    }
   ],
   "source": [
    "df.head()"
   ]
  },
  {
   "cell_type": "code",
   "execution_count": 6,
   "id": "d447306d",
   "metadata": {},
   "outputs": [],
   "source": [
    "# Tokenize and preprocess the reviews\n",
    "def read_input(input_file):\n",
    "    # Read in file avoid reading the column names\n",
    "    with open(input_file, newline='', encoding='utf-8') as f:\n",
    "        reader = csv.DictReader(f)\n",
    "        for row in reader:\n",
    "            yield gensim.utils.simple_preprocess(row['review'])"
   ]
  },
  {
   "cell_type": "code",
   "execution_count": 7,
   "id": "d24860d6",
   "metadata": {},
   "outputs": [],
   "source": [
    "documents = list(read_input(input_file))"
   ]
  },
  {
   "cell_type": "markdown",
   "id": "af6138e4",
   "metadata": {},
   "source": [
    "#### Q3. The Word2vec module is available directly in Python from the library gensim. Notice that there are several parameters you can customize (size, window, min_count, sg). By default, size (defining the output vector dimensions) is set to 100, window to 5, min_count to 5, and sg to 0 (i.e. continuous bag of words). After developing your embeddings, you will use them as an input into downstream models – in this case, logistic regression for all subparts for sentiment analysis. Make sure to use sg = 1 (specifying skip-gram) for all models in this assignment."
   ]
  },
  {
   "cell_type": "markdown",
   "id": "e538a1b7",
   "metadata": {},
   "source": [
    "1. Maintaining the default parameters (except sg = 1), generate word embeddings of dimension 100. For each review, average the embedding vectors for each word to create an overall vector representing its text. Now, rerun logistic regression to classify each review. How have your accuracies changed?"
   ]
  },
  {
   "cell_type": "code",
   "execution_count": 8,
   "id": "e20ae89e",
   "metadata": {},
   "outputs": [],
   "source": [
    "# Build vocabulary and train model\n",
    "model = gensim.models.Word2Vec(documents,vector_size=100,window=5,min_count=5,sg = 1,workers=10)"
   ]
  },
  {
   "cell_type": "code",
   "execution_count": 9,
   "id": "ca0ba99c",
   "metadata": {},
   "outputs": [],
   "source": [
    "# Create empty numpy array for reviews embeddings\n",
    "reviews_embeddings = np.zeros((len(documents), 100))"
   ]
  },
  {
   "cell_type": "code",
   "execution_count": 10,
   "id": "0cbd1513",
   "metadata": {},
   "outputs": [],
   "source": [
    "# Loop through each review\n",
    "for i, review in enumerate(documents):\n",
    "    words_embeddings = []\n",
    "    # loop through each word in the review\n",
    "    for word in review:\n",
    "        # if the word is in the model vocabulary, append its embedding to words_embeddings\n",
    "        if word in model.wv.key_to_index:\n",
    "            words_embeddings.append(model.wv[word])\n",
    "    # calculate the mean embedding for the review and store it in reviews_embeddings\n",
    "    if words_embeddings:\n",
    "        mean_embedding = np.mean(words_embeddings, axis=0)\n",
    "        reviews_embeddings[i] = mean_embedding"
   ]
  },
  {
   "cell_type": "code",
   "execution_count": 11,
   "id": "f970eb9a",
   "metadata": {},
   "outputs": [
    {
     "name": "stdout",
     "output_type": "stream",
     "text": [
      "Train accuracy: 0.870275\n",
      "Test accuracy: 0.8667\n"
     ]
    }
   ],
   "source": [
    "# Use reviews_embeddings as the input to logistic regression to classify each review.\n",
    "X_train, X_test, y_train, y_test = train_test_split(reviews_embeddings, labels, test_size=0.2, random_state=42)\n",
    "\n",
    "lr = LogisticRegression(max_iter=1000)\n",
    "lr.fit(X_train, y_train)\n",
    "\n",
    "train_acc = lr.score(X_train, y_train)\n",
    "test_acc = lr.score(X_test, y_test)\n",
    "\n",
    "print(\"Train accuracy:\", train_acc)\n",
    "print(\"Test accuracy:\", test_acc)"
   ]
  },
  {
   "cell_type": "markdown",
   "id": "bf497d8e",
   "metadata": {},
   "source": [
    "2. Maintaining all other parameters as defaults, vary size between [25, 50, 100, 150]. Plot size vs. train and test accuracy. Briefly comment on how changing this parameter impacts model performance, intuitively as well as specifically for this dataset."
   ]
  },
  {
   "cell_type": "code",
   "execution_count": 12,
   "id": "26f2c627",
   "metadata": {},
   "outputs": [],
   "source": [
    "# Initialize empty lists to store accuracies\n",
    "train_accs = []\n",
    "test_accs = []\n",
    "\n",
    "# Define vector sizes to test\n",
    "vector_sizes = [25, 50, 100, 150]\n",
    "\n",
    "for vector_size in vector_sizes:\n",
    "    # Build vocabulary and train model\n",
    "    model = gensim.models.Word2Vec(documents,vector_size=vector_size,window=5,min_count=5,sg = 1,workers=10)\n",
    "    \n",
    "    # Create empty numpy array for reviews embeddings\n",
    "    reviews_embeddings = np.zeros((len(documents), vector_size))\n",
    "    \n",
    "    # Loop through each review\n",
    "    for i, review in enumerate(documents):\n",
    "        words_embeddings = []\n",
    "        # loop through each word in the review\n",
    "        for word in review:\n",
    "            # if the word is in the model vocabulary, append its embedding to words_embeddings\n",
    "            if word in model.wv.key_to_index:\n",
    "                words_embeddings.append(model.wv[word])\n",
    "        # calculate the mean embedding for the review and store it in reviews_embeddings\n",
    "        if words_embeddings:\n",
    "            mean_embedding = np.mean(words_embeddings, axis=0)\n",
    "            reviews_embeddings[i] = mean_embedding\n",
    "    \n",
    "    # Use reviews_embeddings as the input to logistic regression to classify each review.\n",
    "    X_train, X_test, y_train, y_test = train_test_split(reviews_embeddings, labels, test_size=0.2, random_state=42)\n",
    "\n",
    "    lr = LogisticRegression(max_iter=1000)\n",
    "    lr.fit(X_train, y_train)\n",
    "\n",
    "    train_acc = lr.score(X_train, y_train)\n",
    "    test_acc = lr.score(X_test, y_test)\n",
    "    \n",
    "    # Append accuracies to lists\n",
    "    train_accs.append(train_acc)\n",
    "    test_accs.append(test_acc)"
   ]
  },
  {
   "cell_type": "code",
   "execution_count": 13,
   "id": "62ef2def",
   "metadata": {},
   "outputs": [
    {
     "data": {
      "image/png": "[encoded data removed]",
      "text/plain": [
       "<Figure size 432x288 with 1 Axes>"
      ]
     },
     "metadata": {
      "needs_background": "light"
     },
     "output_type": "display_data"
    }
   ],
   "source": [
    "# Plot size vs. train and test accuracy\n",
    "plt.plot(vector_sizes, train_accs, label='Train Accuracy')\n",
    "plt.plot(vector_sizes, test_accs, label='Test Accuracy')\n",
    "plt.xlabel('Vector Size')\n",
    "plt.ylabel('Accuracy')\n",
    "plt.legend()\n",
    "plt.show()"
   ]
  },
  {
   "cell_type": "markdown",
   "id": "7833b917",
   "metadata": {},
   "source": [
    "3. Similarly, vary the window between [2, 3, 5, 10], and answer the same questions as (b)."
   ]
  },
  {
   "cell_type": "code",
   "execution_count": 14,
   "id": "13ff2f9e",
   "metadata": {},
   "outputs": [],
   "source": [
    "# Initialize empty lists to store accuracies\n",
    "train_accs = []\n",
    "test_accs = []\n",
    "\n",
    "# Define window sizes to test\n",
    "window_sizes = [2, 3, 5, 10]\n",
    "\n",
    "for window_size in window_sizes:\n",
    "    # Build vocabulary and train model\n",
    "    model = gensim.models.Word2Vec(documents, vector_size=100, window=window_size, min_count=5, sg=1, workers=10)\n",
    "    \n",
    "    # Create empty numpy array for reviews embeddings\n",
    "    reviews_embeddings = np.zeros((len(documents), 100))\n",
    "    \n",
    "    # Loop through each review\n",
    "    for i, review in enumerate(documents):\n",
    "        words_embeddings = []\n",
    "        # loop through each word in the review\n",
    "        for word in review:\n",
    "            # if the word is in the model vocabulary, append its embedding to words_embeddings\n",
    "            if word in model.wv.key_to_index:\n",
    "                words_embeddings.append(model.wv[word])\n",
    "        # calculate the mean embedding for the review and store it in reviews_embeddings\n",
    "        if words_embeddings:\n",
    "            mean_embedding = np.mean(words_embeddings, axis=0)\n",
    "            reviews_embeddings[i] = mean_embedding\n",
    "    \n",
    "    # Use reviews_embeddings as the input to logistic regression to classify each review.\n",
    "    X_train, X_test, y_train, y_test = train_test_split(reviews_embeddings, labels, test_size=0.2, random_state=42)\n",
    "\n",
    "    lr = LogisticRegression(max_iter=1000)\n",
    "    lr.fit(X_train, y_train)\n",
    "\n",
    "    train_acc = lr.score(X_train, y_train)\n",
    "    test_acc = lr.score(X_test, y_test)\n",
    "    \n",
    "    # Append accuracies to lists\n",
    "    train_accs.append(train_acc)\n",
    "    test_accs.append(test_acc)"
   ]
  },
  {
   "cell_type": "code",
   "execution_count": 15,
   "id": "31d50331",
   "metadata": {},
   "outputs": [
    {
     "data": {
      "image/png": "[encoded data removed]",
      "text/plain": [
       "<Figure size 432x288 with 1 Axes>"
      ]
     },
     "metadata": {
      "needs_background": "light"
     },
     "output_type": "display_data"
    }
   ],
   "source": [
    "# Plot size vs. train and test accuracy\n",
    "plt.plot(window_sizes, train_accs, label=\"Train accuracy\")\n",
    "plt.plot(window_sizes, test_accs, label=\"Test accuracy\")\n",
    "plt.xlabel(\"Window size\")\n",
    "plt.ylabel(\"Accuracy\")\n",
    "plt.title(\"Accuracy vs. window size\")\n",
    "plt.legend()\n",
    "plt.show()"
   ]
  },
  {
   "cell_type": "markdown",
   "id": "a75e1365",
   "metadata": {},
   "source": [
    "#### Q4. For this part, your downstream model for sentiment analysis will evolve from simple logistic regression to a recurrent neural network architecture. For the Word2Vec embedding model, use the trained model with all default parameters except size, which will be set to 300, for this part. "
   ]
  },
  {
   "cell_type": "markdown",
   "id": "e80b2f58",
   "metadata": {},
   "source": [
    "1. Why would you want to use an RNN for sentiment analysis or text classification tasks instead of models that aren’t neural networks e.g. logistic regression?"
   ]
  },
  {
   "cell_type": "markdown",
   "id": "845d8dd4",
   "metadata": {},
   "source": [
    "**Answer :** <br>\n",
    "RNNs are useful for text classification tasks such as sentiment analysis because they can capture the sequential nature of language. Unlike logistic regression, which treats each word in a sentence as an independent feature, RNNs can take into account the entire sequence of words in a sentence, along with their order and context, to make more accurate predictions. This is especially important for tasks like sentiment analysis, where the sentiment of a sentence can be influenced by the context of the words used. Additionally, RNNs can handle variable-length input sequences, which is necessary for text classification tasks where the length of the input text can vary from one example to another."
   ]
  },
  {
   "cell_type": "markdown",
   "id": "a5e2478f",
   "metadata": {},
   "source": [
    "2. Use Keras to build a neural network classifier. Here (https://blog.keras.io/using-pre-trained-word-embeddings-in-a-keras-model.html) is a helpful walkthrough to understand the input transformation and model building process with pre-trained embeddings. We will use a simple architecture. \n",
    "- Use the Keras tokenizer and text_to_sequences function to transform each review into an integer sequence. This maps each word to a unique index, which can serve as an identifier. Use pad_sequences with a maximum length corresponding to the longest review to ensure that each input vector into the neural network is of the same length.\n",
    "- Modify the code at the bottom of the assignment according to your implementation from (1) to create your RNN in Keras.\n",
    "- Fit the training data over 10 epochs, and measure both train and test accuracy. Note that training might take some time. \n",
    "- Compare the performance of the RNN to the previous model (word2vec followed by logistic regression). Do word embeddings generally perform better in practice than frequency-based transformations? "
   ]
  },
  {
   "cell_type": "code",
   "execution_count": 92,
   "id": "d8cff260",
   "metadata": {},
   "outputs": [],
   "source": [
    "X = df['review']\n",
    "y = df['sentiment']"
   ]
  },
  {
   "cell_type": "code",
   "execution_count": 95,
   "id": "22a3f58b",
   "metadata": {},
   "outputs": [],
   "source": [
    "# Split data into training and testing sets\n",
    "X_train, X_test, y_train, y_test = train_test_split(X, y, test_size=0.2, random_state=42)\n",
    "\n",
    "# Create tokenizer and fit on training data\n",
    "tokenizer = Tokenizer()\n",
    "tokenizer.fit_on_texts(X_train)\n",
    "\n",
    "# Convert text to sequences\n",
    "X_train_seq = tokenizer.texts_to_sequences(X_train)\n",
    "X_test_seq = tokenizer.texts_to_sequences(X_test)\n",
    "\n",
    "# Pad sequences to ensure consistent length\n",
    "max_len = max([len(x) for x in X_train_seq])\n",
    "X_train_pad = pad_sequences(X_train_seq, maxlen=max_len)\n",
    "X_test_pad = pad_sequences(X_test_seq, maxlen=max_len)\n",
    "\n",
    "# Get vocabulary size\n",
    "vocabulary_size = len(tokenizer.word_index) + 1\n",
    "\n",
    "embedding_size = 300"
   ]
  },
  {
   "cell_type": "code",
   "execution_count": 103,
   "id": "61f051f9",
   "metadata": {},
   "outputs": [],
   "source": [
    "# Create model\n",
    "model_01 = Sequential()\n",
    "model_01.add(Embedding(vocabulary_size, embedding_size, input_length=max_len))\n",
    "model_01.add(LSTM(embedding_size))\n",
    "model_01.add(Dense(1, activation='sigmoid'))\n",
    "\n",
    "# Compile model\n",
    "model_01.compile(loss='binary_crossentropy', metrics=['accuracy'])"
   ]
  },
  {
   "cell_type": "code",
   "execution_count": 105,
   "id": "c585347c",
   "metadata": {},
   "outputs": [],
   "source": [
    "model_01.save('my_model01.h5')"
   ]
  },
  {
   "cell_type": "code",
   "execution_count": 104,
   "id": "ddf9b170",
   "metadata": {},
   "outputs": [
    {
     "name": "stdout",
     "output_type": "stream",
     "text": [
      "Epoch 1/10\n"
     ]
    },
    {
     "ename": "UnimplementedError",
     "evalue": "Graph execution error:\n\nDetected at node 'binary_crossentropy/Cast' defined at (most recent call last):\n    File \"/opt/anaconda3/lib/python3.8/runpy.py\", line 194, in _run_module_as_main\n      return _run_code(code, main_globals, None,\n    File \"/opt/anaconda3/lib/python3.8/runpy.py\", line 87, in _run_code\n      exec(code, run_globals)\n    File \"/opt/anaconda3/lib/python3.8/site-packages/ipykernel_launcher.py\", line 16, in <module>\n      app.launch_new_instance()\n    File \"/opt/anaconda3/lib/python3.8/site-packages/traitlets/config/application.py\", line 845, in launch_instance\n      app.start()\n    File \"/opt/anaconda3/lib/python3.8/site-packages/ipykernel/kernelapp.py\", line 612, in start\n      self.io_loop.start()\n    File \"/opt/anaconda3/lib/python3.8/site-packages/tornado/platform/asyncio.py\", line 199, in start\n      self.asyncio_loop.run_forever()\n    File \"/opt/anaconda3/lib/python3.8/asyncio/base_events.py\", line 570, in run_forever\n      self._run_once()\n    File \"/opt/anaconda3/lib/python3.8/asyncio/base_events.py\", line 1859, in _run_once\n      handle._run()\n    File \"/opt/anaconda3/lib/python3.8/asyncio/events.py\", line 81, in _run\n      self._context.run(self._callback, *self._args)\n    File \"/opt/anaconda3/lib/python3.8/site-packages/tornado/ioloop.py\", line 688, in <lambda>\n      lambda f: self._run_callback(functools.partial(callback, future))\n    File \"/opt/anaconda3/lib/python3.8/site-packages/tornado/ioloop.py\", line 741, in _run_callback\n      ret = callback()\n    File \"/opt/anaconda3/lib/python3.8/site-packages/tornado/gen.py\", line 814, in inner\n      self.ctx_run(self.run)\n    File \"/opt/anaconda3/lib/python3.8/site-packages/tornado/gen.py\", line 775, in run\n      yielded = self.gen.send(value)\n    File \"/opt/anaconda3/lib/python3.8/site-packages/ipykernel/kernelbase.py\", line 365, in process_one\n      yield gen.maybe_future(dispatch(*args))\n    File \"/opt/anaconda3/lib/python3.8/site-packages/tornado/gen.py\", line 234, in wrapper\n      yielded = ctx_run(next, result)\n    File \"/opt/anaconda3/lib/python3.8/site-packages/ipykernel/kernelbase.py\", line 268, in dispatch_shell\n      yield gen.maybe_future(handler(stream, idents, msg))\n    File \"/opt/anaconda3/lib/python3.8/site-packages/tornado/gen.py\", line 234, in wrapper\n      yielded = ctx_run(next, result)\n    File \"/opt/anaconda3/lib/python3.8/site-packages/ipykernel/kernelbase.py\", line 543, in execute_request\n      self.do_execute(\n    File \"/opt/anaconda3/lib/python3.8/site-packages/tornado/gen.py\", line 234, in wrapper\n      yielded = ctx_run(next, result)\n    File \"/opt/anaconda3/lib/python3.8/site-packages/ipykernel/ipkernel.py\", line 306, in do_execute\n      res = shell.run_cell(code, store_history=store_history, silent=silent)\n    File \"/opt/anaconda3/lib/python3.8/site-packages/ipykernel/zmqshell.py\", line 536, in run_cell\n      return super(ZMQInteractiveShell, self).run_cell(*args, **kwargs)\n    File \"/opt/anaconda3/lib/python3.8/site-packages/IPython/core/interactiveshell.py\", line 2894, in run_cell\n      result = self._run_cell(\n    File \"/opt/anaconda3/lib/python3.8/site-packages/IPython/core/interactiveshell.py\", line 2940, in _run_cell\n      return runner(coro)\n    File \"/opt/anaconda3/lib/python3.8/site-packages/IPython/core/async_helpers.py\", line 68, in _pseudo_sync_runner\n      coro.send(None)\n    File \"/opt/anaconda3/lib/python3.8/site-packages/IPython/core/interactiveshell.py\", line 3165, in run_cell_async\n      has_raised = await self.run_ast_nodes(code_ast.body, cell_name,\n    File \"/opt/anaconda3/lib/python3.8/site-packages/IPython/core/interactiveshell.py\", line 3357, in run_ast_nodes\n      if (await self.run_code(code, result,  async_=asy)):\n    File \"/opt/anaconda3/lib/python3.8/site-packages/IPython/core/interactiveshell.py\", line 3437, in run_code\n      exec(code_obj, self.user_global_ns, self.user_ns)\n    File \"<ipython-input-104-62f7427e259d>\", line 2, in <module>\n      model_01.fit(X_train_pad, y_train, validation_data=(X_test_pad, y_test), epochs=10, batch_size=64)\n    File \"/opt/anaconda3/lib/python3.8/site-packages/keras/utils/traceback_utils.py\", line 65, in error_handler\n      return fn(*args, **kwargs)\n    File \"/opt/anaconda3/lib/python3.8/site-packages/keras/engine/training.py\", line 1650, in fit\n      tmp_logs = self.train_function(iterator)\n    File \"/opt/anaconda3/lib/python3.8/site-packages/keras/engine/training.py\", line 1249, in train_function\n      return step_function(self, iterator)\n    File \"/opt/anaconda3/lib/python3.8/site-packages/keras/engine/training.py\", line 1233, in step_function\n      outputs = model.distribute_strategy.run(run_step, args=(data,))\n    File \"/opt/anaconda3/lib/python3.8/site-packages/keras/engine/training.py\", line 1222, in run_step\n      outputs = model.train_step(data)\n    File \"/opt/anaconda3/lib/python3.8/site-packages/keras/engine/training.py\", line 1024, in train_step\n      loss = self.compute_loss(x, y, y_pred, sample_weight)\n    File \"/opt/anaconda3/lib/python3.8/site-packages/keras/engine/training.py\", line 1082, in compute_loss\n      return self.compiled_loss(\n    File \"/opt/anaconda3/lib/python3.8/site-packages/keras/engine/compile_utils.py\", line 265, in __call__\n      loss_value = loss_obj(y_t, y_p, sample_weight=sw)\n    File \"/opt/anaconda3/lib/python3.8/site-packages/keras/losses.py\", line 152, in __call__\n      losses = call_fn(y_true, y_pred)\n    File \"/opt/anaconda3/lib/python3.8/site-packages/keras/losses.py\", line 284, in call\n      return ag_fn(y_true, y_pred, **self._fn_kwargs)\n    File \"/opt/anaconda3/lib/python3.8/site-packages/keras/losses.py\", line 2165, in binary_crossentropy\n      y_true = tf.cast(y_true, y_pred.dtype)\nNode: 'binary_crossentropy/Cast'\nCast string to float is not supported\n\t [[{{node binary_crossentropy/Cast}}]] [Op:__inference_train_function_55715]",
     "output_type": "error",
     "traceback": [
      "\u001b[0;31m---------------------------------------------------------------------------\u001b[0m",
      "\u001b[0;31mUnimplementedError\u001b[0m                        Traceback (most recent call last)",
      "\u001b[0;32m<ipython-input-104-62f7427e259d>\u001b[0m in \u001b[0;36m<module>\u001b[0;34m\u001b[0m\n\u001b[1;32m      1\u001b[0m \u001b[0;31m# Train model\u001b[0m\u001b[0;34m\u001b[0m\u001b[0;34m\u001b[0m\u001b[0;34m\u001b[0m\u001b[0m\n\u001b[0;32m----> 2\u001b[0;31m \u001b[0mmodel_01\u001b[0m\u001b[0;34m.\u001b[0m\u001b[0mfit\u001b[0m\u001b[0;34m(\u001b[0m\u001b[0mX_train_pad\u001b[0m\u001b[0;34m,\u001b[0m \u001b[0my_train\u001b[0m\u001b[0;34m,\u001b[0m \u001b[0mvalidation_data\u001b[0m\u001b[0;34m=\u001b[0m\u001b[0;34m(\u001b[0m\u001b[0mX_test_pad\u001b[0m\u001b[0;34m,\u001b[0m \u001b[0my_test\u001b[0m\u001b[0;34m)\u001b[0m\u001b[0;34m,\u001b[0m \u001b[0mepochs\u001b[0m\u001b[0;34m=\u001b[0m\u001b[0;36m10\u001b[0m\u001b[0;34m,\u001b[0m \u001b[0mbatch_size\u001b[0m\u001b[0;34m=\u001b[0m\u001b[0;36m64\u001b[0m\u001b[0;34m)\u001b[0m\u001b[0;34m\u001b[0m\u001b[0;34m\u001b[0m\u001b[0m\n\u001b[0m\u001b[1;32m      3\u001b[0m \u001b[0;34m\u001b[0m\u001b[0m\n\u001b[1;32m      4\u001b[0m \u001b[0;31m# Evaluate model\u001b[0m\u001b[0;34m\u001b[0m\u001b[0;34m\u001b[0m\u001b[0;34m\u001b[0m\u001b[0m\n\u001b[1;32m      5\u001b[0m \u001b[0mtrain_loss\u001b[0m\u001b[0;34m,\u001b[0m \u001b[0mtrain_acc\u001b[0m \u001b[0;34m=\u001b[0m \u001b[0mmodel_01\u001b[0m\u001b[0;34m.\u001b[0m\u001b[0mevaluate\u001b[0m\u001b[0;34m(\u001b[0m\u001b[0mX_train_pad\u001b[0m\u001b[0;34m,\u001b[0m \u001b[0my_train\u001b[0m\u001b[0;34m,\u001b[0m \u001b[0mverbose\u001b[0m\u001b[0;34m=\u001b[0m\u001b[0;36m0\u001b[0m\u001b[0;34m)\u001b[0m\u001b[0;34m\u001b[0m\u001b[0;34m\u001b[0m\u001b[0m\n",
      "\u001b[0;32m/opt/anaconda3/lib/python3.8/site-packages/keras/utils/traceback_utils.py\u001b[0m in \u001b[0;36merror_handler\u001b[0;34m(*args, **kwargs)\u001b[0m\n\u001b[1;32m     68\u001b[0m             \u001b[0;31m# To get the full stack trace, call:\u001b[0m\u001b[0;34m\u001b[0m\u001b[0;34m\u001b[0m\u001b[0;34m\u001b[0m\u001b[0m\n\u001b[1;32m     69\u001b[0m             \u001b[0;31m# `tf.debugging.disable_traceback_filtering()`\u001b[0m\u001b[0;34m\u001b[0m\u001b[0;34m\u001b[0m\u001b[0;34m\u001b[0m\u001b[0m\n\u001b[0;32m---> 70\u001b[0;31m             \u001b[0;32mraise\u001b[0m \u001b[0me\u001b[0m\u001b[0;34m.\u001b[0m\u001b[0mwith_traceback\u001b[0m\u001b[0;34m(\u001b[0m\u001b[0mfiltered_tb\u001b[0m\u001b[0;34m)\u001b[0m \u001b[0;32mfrom\u001b[0m \u001b[0;32mNone\u001b[0m\u001b[0;34m\u001b[0m\u001b[0;34m\u001b[0m\u001b[0m\n\u001b[0m\u001b[1;32m     71\u001b[0m         \u001b[0;32mfinally\u001b[0m\u001b[0;34m:\u001b[0m\u001b[0;34m\u001b[0m\u001b[0;34m\u001b[0m\u001b[0m\n\u001b[1;32m     72\u001b[0m             \u001b[0;32mdel\u001b[0m \u001b[0mfiltered_tb\u001b[0m\u001b[0;34m\u001b[0m\u001b[0;34m\u001b[0m\u001b[0m\n",
      "\u001b[0;32m/opt/anaconda3/lib/python3.8/site-packages/tensorflow/python/eager/execute.py\u001b[0m in \u001b[0;36mquick_execute\u001b[0;34m(op_name, num_outputs, inputs, attrs, ctx, name)\u001b[0m\n\u001b[1;32m     50\u001b[0m   \u001b[0;32mtry\u001b[0m\u001b[0;34m:\u001b[0m\u001b[0;34m\u001b[0m\u001b[0;34m\u001b[0m\u001b[0m\n\u001b[1;32m     51\u001b[0m     \u001b[0mctx\u001b[0m\u001b[0;34m.\u001b[0m\u001b[0mensure_initialized\u001b[0m\u001b[0;34m(\u001b[0m\u001b[0;34m)\u001b[0m\u001b[0;34m\u001b[0m\u001b[0;34m\u001b[0m\u001b[0m\n\u001b[0;32m---> 52\u001b[0;31m     tensors = pywrap_tfe.TFE_Py_Execute(ctx._handle, device_name, op_name,\n\u001b[0m\u001b[1;32m     53\u001b[0m                                         inputs, attrs, num_outputs)\n\u001b[1;32m     54\u001b[0m   \u001b[0;32mexcept\u001b[0m \u001b[0mcore\u001b[0m\u001b[0;34m.\u001b[0m\u001b[0m_NotOkStatusException\u001b[0m \u001b[0;32mas\u001b[0m \u001b[0me\u001b[0m\u001b[0;34m:\u001b[0m\u001b[0;34m\u001b[0m\u001b[0;34m\u001b[0m\u001b[0m\n",
      "\u001b[0;31mUnimplementedError\u001b[0m: Graph execution error:\n\nDetected at node 'binary_crossentropy/Cast' defined at (most recent call last):\n    File \"/opt/anaconda3/lib/python3.8/runpy.py\", line 194, in _run_module_as_main\n      return _run_code(code, main_globals, None,\n    File \"/opt/anaconda3/lib/python3.8/runpy.py\", line 87, in _run_code\n      exec(code, run_globals)\n    File \"/opt/anaconda3/lib/python3.8/site-packages/ipykernel_launcher.py\", line 16, in <module>\n      app.launch_new_instance()\n    File \"/opt/anaconda3/lib/python3.8/site-packages/traitlets/config/application.py\", line 845, in launch_instance\n      app.start()\n    File \"/opt/anaconda3/lib/python3.8/site-packages/ipykernel/kernelapp.py\", line 612, in start\n      self.io_loop.start()\n    File \"/opt/anaconda3/lib/python3.8/site-packages/tornado/platform/asyncio.py\", line 199, in start\n      self.asyncio_loop.run_forever()\n    File \"/opt/anaconda3/lib/python3.8/asyncio/base_events.py\", line 570, in run_forever\n      self._run_once()\n    File \"/opt/anaconda3/lib/python3.8/asyncio/base_events.py\", line 1859, in _run_once\n      handle._run()\n    File \"/opt/anaconda3/lib/python3.8/asyncio/events.py\", line 81, in _run\n      self._context.run(self._callback, *self._args)\n    File \"/opt/anaconda3/lib/python3.8/site-packages/tornado/ioloop.py\", line 688, in <lambda>\n      lambda f: self._run_callback(functools.partial(callback, future))\n    File \"/opt/anaconda3/lib/python3.8/site-packages/tornado/ioloop.py\", line 741, in _run_callback\n      ret = callback()\n    File \"/opt/anaconda3/lib/python3.8/site-packages/tornado/gen.py\", line 814, in inner\n      self.ctx_run(self.run)\n    File \"/opt/anaconda3/lib/python3.8/site-packages/tornado/gen.py\", line 775, in run\n      yielded = self.gen.send(value)\n    File \"/opt/anaconda3/lib/python3.8/site-packages/ipykernel/kernelbase.py\", line 365, in process_one\n      yield gen.maybe_future(dispatch(*args))\n    File \"/opt/anaconda3/lib/python3.8/site-packages/tornado/gen.py\", line 234, in wrapper\n      yielded = ctx_run(next, result)\n    File \"/opt/anaconda3/lib/python3.8/site-packages/ipykernel/kernelbase.py\", line 268, in dispatch_shell\n      yield gen.maybe_future(handler(stream, idents, msg))\n    File \"/opt/anaconda3/lib/python3.8/site-packages/tornado/gen.py\", line 234, in wrapper\n      yielded = ctx_run(next, result)\n    File \"/opt/anaconda3/lib/python3.8/site-packages/ipykernel/kernelbase.py\", line 543, in execute_request\n      self.do_execute(\n    File \"/opt/anaconda3/lib/python3.8/site-packages/tornado/gen.py\", line 234, in wrapper\n      yielded = ctx_run(next, result)\n    File \"/opt/anaconda3/lib/python3.8/site-packages/ipykernel/ipkernel.py\", line 306, in do_execute\n      res = shell.run_cell(code, store_history=store_history, silent=silent)\n    File \"/opt/anaconda3/lib/python3.8/site-packages/ipykernel/zmqshell.py\", line 536, in run_cell\n      return super(ZMQInteractiveShell, self).run_cell(*args, **kwargs)\n    File \"/opt/anaconda3/lib/python3.8/site-packages/IPython/core/interactiveshell.py\", line 2894, in run_cell\n      result = self._run_cell(\n    File \"/opt/anaconda3/lib/python3.8/site-packages/IPython/core/interactiveshell.py\", line 2940, in _run_cell\n      return runner(coro)\n    File \"/opt/anaconda3/lib/python3.8/site-packages/IPython/core/async_helpers.py\", line 68, in _pseudo_sync_runner\n      coro.send(None)\n    File \"/opt/anaconda3/lib/python3.8/site-packages/IPython/core/interactiveshell.py\", line 3165, in run_cell_async\n      has_raised = await self.run_ast_nodes(code_ast.body, cell_name,\n    File \"/opt/anaconda3/lib/python3.8/site-packages/IPython/core/interactiveshell.py\", line 3357, in run_ast_nodes\n      if (await self.run_code(code, result,  async_=asy)):\n    File \"/opt/anaconda3/lib/python3.8/site-packages/IPython/core/interactiveshell.py\", line 3437, in run_code\n      exec(code_obj, self.user_global_ns, self.user_ns)\n    File \"<ipython-input-104-62f7427e259d>\", line 2, in <module>\n      model_01.fit(X_train_pad, y_train, validation_data=(X_test_pad, y_test), epochs=10, batch_size=64)\n    File \"/opt/anaconda3/lib/python3.8/site-packages/keras/utils/traceback_utils.py\", line 65, in error_handler\n      return fn(*args, **kwargs)\n    File \"/opt/anaconda3/lib/python3.8/site-packages/keras/engine/training.py\", line 1650, in fit\n      tmp_logs = self.train_function(iterator)\n    File \"/opt/anaconda3/lib/python3.8/site-packages/keras/engine/training.py\", line 1249, in train_function\n      return step_function(self, iterator)\n    File \"/opt/anaconda3/lib/python3.8/site-packages/keras/engine/training.py\", line 1233, in step_function\n      outputs = model.distribute_strategy.run(run_step, args=(data,))\n    File \"/opt/anaconda3/lib/python3.8/site-packages/keras/engine/training.py\", line 1222, in run_step\n      outputs = model.train_step(data)\n    File \"/opt/anaconda3/lib/python3.8/site-packages/keras/engine/training.py\", line 1024, in train_step\n      loss = self.compute_loss(x, y, y_pred, sample_weight)\n    File \"/opt/anaconda3/lib/python3.8/site-packages/keras/engine/training.py\", line 1082, in compute_loss\n      return self.compiled_loss(\n    File \"/opt/anaconda3/lib/python3.8/site-packages/keras/engine/compile_utils.py\", line 265, in __call__\n      loss_value = loss_obj(y_t, y_p, sample_weight=sw)\n    File \"/opt/anaconda3/lib/python3.8/site-packages/keras/losses.py\", line 152, in __call__\n      losses = call_fn(y_true, y_pred)\n    File \"/opt/anaconda3/lib/python3.8/site-packages/keras/losses.py\", line 284, in call\n      return ag_fn(y_true, y_pred, **self._fn_kwargs)\n    File \"/opt/anaconda3/lib/python3.8/site-packages/keras/losses.py\", line 2165, in binary_crossentropy\n      y_true = tf.cast(y_true, y_pred.dtype)\nNode: 'binary_crossentropy/Cast'\nCast string to float is not supported\n\t [[{{node binary_crossentropy/Cast}}]] [Op:__inference_train_function_55715]"
     ]
    }
   ],
   "source": [
    "# Train model\n",
    "model_01.fit(X_train_pad, y_train, validation_data=(X_test_pad, y_test), epochs=10, batch_size=64)\n",
    "\n",
    "# Evaluate model\n",
    "train_loss, train_acc = model_01.evaluate(X_train_pad, y_train, verbose=0)\n",
    "test_loss, test_acc = model_01.evaluate(X_test_pad, y_test, verbose=0)\n",
    "\n",
    "print('Train accuracy:', train_acc)\n",
    "print('Test accuracy:', test_acc)"
   ]
  },
  {
   "cell_type": "code",
   "execution_count": 17,
   "id": "45a2ffab",
   "metadata": {},
   "outputs": [],
   "source": [
    "# Tokenize reviews\n",
    "tokenizer = Tokenizer()\n",
    "tokenizer.fit_on_texts(df['review'])\n",
    "sequences = tokenizer.texts_to_sequences(df['review'])\n",
    "\n",
    "# Pad sequences to ensure they are all the same length\n",
    "max_length = max([len(seq) for seq in sequences])\n",
    "X = pad_sequences(sequences, maxlen=max_length)\n",
    "\n",
    "# Create labels\n",
    "y = np.array(df['sentiment'].map({'positive': 1, 'negative': 0}))\n",
    "\n",
    "# Split data into training and testing sets\n",
    "X_train, X_test, y_train, y_test = train_test_split(X, y, test_size=0.2, random_state=42)"
   ]
  },
  {
   "cell_type": "markdown",
   "id": "9bfc5964",
   "metadata": {},
   "source": [
    "3. Fortunately, gensim also gives us access to several pre-trained models – use word2vec-google-news-300, which will provide you with 300-dimensional embedding vectors. Use these as inputs to the RNN architecture you created in the previous exercise, making sure to redo the embedding layer with the different weights. Compare the performance of the model (train, test accuracy) with pre-trained embeddings to the previous one you created with embeddings specifically trained on your corpus."
   ]
  },
  {
   "cell_type": "code",
   "execution_count": 106,
   "id": "12eb2e24",
   "metadata": {},
   "outputs": [
    {
     "name": "stdout",
     "output_type": "stream",
     "text": [
      "Found 400000 word vectors.\n"
     ]
    }
   ],
   "source": [
    "## Preparing the Embedding layer\n",
    "# Compute an index mapping words to known embeddings, by parsing the data dump of pre-trained embeddings:\n",
    "embeddings_index = {}\n",
    "f = open(os.path.join('/Users/crystal/Desktop/assign07_0313/', 'glove.6B.300d.txt'))\n",
    "for line in f:\n",
    "    values = line.split()\n",
    "    word = values[0]\n",
    "    coefs = np.asarray(values[1:], dtype='float32')\n",
    "    embeddings_index[word] = coefs\n",
    "f.close()\n",
    "\n",
    "print('Found %s word vectors.' % len(embeddings_index))"
   ]
  },
  {
   "cell_type": "code",
   "execution_count": 107,
   "id": "ae58deec",
   "metadata": {},
   "outputs": [],
   "source": [
    "#Leverage embedding_index dictionary and word_index to compute embedding matrix:\n",
    "word_index = tokenizer.word_index\n",
    "EMBEDDING_DIM = 300\n",
    "\n",
    "embedding_matrix = np.zeros((len(word_index) + 1, EMBEDDING_DIM))\n",
    "for word, i in word_index.items():\n",
    "    embedding_vector = embeddings_index.get(word)\n",
    "    if embedding_vector is not None:\n",
    "        # words not found in embedding index will be all-zeros.\n",
    "        embedding_matrix[i] = embedding_vector"
   ]
  },
  {
   "cell_type": "code",
   "execution_count": 108,
   "id": "3ba40987",
   "metadata": {},
   "outputs": [],
   "source": [
    "# We load this embedding matrix into an Embedding layer. \n",
    "embedding_layer = Embedding(len(word_index) + 1,\n",
    "                            EMBEDDING_DIM,\n",
    "                            weights=[embedding_matrix],\n",
    "                            input_length=max_length,\n",
    "                            trainable=False)"
   ]
  },
  {
   "cell_type": "code",
   "execution_count": 109,
   "id": "5bd6cefb",
   "metadata": {},
   "outputs": [],
   "source": [
    "# Build the model with pre-trained embeddings\n",
    "model = Sequential()\n",
    "model.add(embedding_layer)\n",
    "model.add(LSTM(300))\n",
    "model.add(Dense(1, activation = 'sigmoid'))\n",
    "model.compile(loss = 'binary_crossentropy', metrics = ['accuracy']) "
   ]
  },
  {
   "cell_type": "code",
   "execution_count": null,
   "id": "ed06f261",
   "metadata": {},
   "outputs": [],
   "source": [
    "model.save('my_model02.h5')"
   ]
  },
  {
   "cell_type": "code",
   "execution_count": 72,
   "id": "50ed919b",
   "metadata": {},
   "outputs": [
    {
     "name": "stdout",
     "output_type": "stream",
     "text": [
      "Epoch 1/10\n",
      "250/250 [==============================] - 34969s 140s/step - loss: 0.5781 - accuracy: 0.7018 - val_loss: 0.4568 - val_accuracy: 0.7996\n",
      "Epoch 2/10\n",
      "250/250 [==============================] - 23519s 94s/step - loss: 0.4723 - accuracy: 0.7855 - val_loss: 0.4463 - val_accuracy: 0.7951\n",
      "Epoch 3/10\n",
      "250/250 [==============================] - 9491s 38s/step - loss: 0.3806 - accuracy: 0.8351 - val_loss: 0.3238 - val_accuracy: 0.8664\n",
      "Epoch 4/10\n",
      "250/250 [==============================] - 11845s 47s/step - loss: 0.3193 - accuracy: 0.8648 - val_loss: 0.2913 - val_accuracy: 0.8767\n",
      "Epoch 5/10\n",
      "250/250 [==============================] - 10130s 41s/step - loss: 0.2875 - accuracy: 0.8812 - val_loss: 0.2731 - val_accuracy: 0.8841\n",
      "Epoch 6/10\n",
      "250/250 [==============================] - 5844s 23s/step - loss: 0.2619 - accuracy: 0.8917 - val_loss: 0.2612 - val_accuracy: 0.8913\n",
      "Epoch 7/10\n",
      "250/250 [==============================] - 5620s 22s/step - loss: 0.2415 - accuracy: 0.9021 - val_loss: 0.2588 - val_accuracy: 0.8906\n",
      "Epoch 8/10\n",
      "250/250 [==============================] - 14583s 58s/step - loss: 0.2246 - accuracy: 0.9097 - val_loss: 0.2625 - val_accuracy: 0.8916\n",
      "Epoch 9/10\n",
      "250/250 [==============================] - 5519s 22s/step - loss: 0.2074 - accuracy: 0.9152 - val_loss: 0.2442 - val_accuracy: 0.8996\n",
      "Epoch 10/10\n",
      "250/250 [==============================] - 5406s 22s/step - loss: 0.1903 - accuracy: 0.9239 - val_loss: 0.2567 - val_accuracy: 0.9006\n",
      "313/313 [==============================] - 913s 3s/step - loss: 0.2615 - accuracy: 0.9025\n",
      "Test accuracy: 0.9024999737739563\n"
     ]
    }
   ],
   "source": [
    "# Train the model\n",
    "history = model.fit(X_train, y_train, epochs=10, batch_size=128, validation_split=0.2)\n",
    "\n",
    "# Evaluate the model on test data \n",
    "test_loss, test_acc = model.evaluate(X_test, y_test)\n",
    "print('Test accuracy:', test_acc)"
   ]
  },
  {
   "cell_type": "code",
   "execution_count": 81,
   "id": "be51357c",
   "metadata": {},
   "outputs": [
    {
     "data": {
      "image/png": "[encoded data removed]",
      "text/plain": [
       "<Figure size 864x432 with 2 Axes>"
      ]
     },
     "metadata": {
      "needs_background": "light"
     },
     "output_type": "display_data"
    }
   ],
   "source": [
    "# Set figure size\n",
    "fig, axs = plt.subplots(1, 2, figsize=(12, 6))\n",
    "\n",
    "# Plot accuracy\n",
    "axs[0].plot(history.history['accuracy'])\n",
    "axs[0].plot(history.history['val_accuracy'])\n",
    "axs[0].set_title('Model Accuracy')\n",
    "axs[0].set_ylabel('Accuracy')\n",
    "axs[0].set_xlabel('Epoch')\n",
    "axs[0].legend(['Train', 'Validation'], loc='upper left')\n",
    "\n",
    "# Plot loss\n",
    "axs[1].plot(history.history['loss'])\n",
    "axs[1].plot(history.history['val_loss'])\n",
    "axs[1].set_title('Model Loss')\n",
    "axs[1].set_ylabel('Loss')\n",
    "axs[1].set_xlabel('Epoch')\n",
    "axs[1].legend(['Train', 'Validation'], loc='upper left')\n",
    "\n",
    "plt.show()"
   ]
  },
  {
   "cell_type": "markdown",
   "id": "e2c7f7a0",
   "metadata": {},
   "source": [
    "3. Fortunately, gensim also gives us access to several pre-trained models – use word2vec-google-news-300, which will provide you with 300-dimensional embedding vectors. Use these as inputs to the RNN architecture you created in the previous exercise, making sure to redo the embedding layer with the different weights. Compare the performance of the model (train, test accuracy) with pre-trained embeddings to the previous one you created with embeddings specifically trained on your corpus."
   ]
  },
  {
   "cell_type": "code",
   "execution_count": 83,
   "id": "a3590bfe",
   "metadata": {},
   "outputs": [],
   "source": [
    "# Load pre-trained word2vec-google-news-300 embeddings\n",
    "import gensim\n",
    "model_path = '/Users/crystal/Desktop/assign07_0313/GoogleNews-vectors-negative300.bin.gz'\n",
    "w2v_model = gensim.models.KeyedVectors.load_word2vec_format(model_path, binary=True)"
   ]
  },
  {
   "cell_type": "code",
   "execution_count": 85,
   "id": "da8c12cb",
   "metadata": {},
   "outputs": [],
   "source": [
    "# Tokenize reviews\n",
    "tokenizer = Tokenizer()\n",
    "tokenizer.fit_on_texts(df['review'])\n",
    "sequences = tokenizer.texts_to_sequences(df['review'])\n",
    "\n",
    "# Pad sequences to ensure they are all the same length\n",
    "max_length = max([len(seq) for seq in sequences])\n",
    "X = pad_sequences(sequences, maxlen=max_length)\n",
    "\n",
    "# Create labels\n",
    "y = np.array(df['sentiment'].map({'positive': 1, 'negative': 0}))\n",
    "\n",
    "# Split data into training and testing sets\n",
    "X_train, X_test, y_train, y_test = train_test_split(X, y, test_size=0.2, random_state=42)\n",
    "\n",
    "## Preparing the Embedding layer\n",
    "# Compute an index mapping words to known embeddings, by parsing the data dump of pre-trained embeddings:\n",
    "EMBEDDING_DIM = 300\n",
    "word_index = tokenizer.word_index\n",
    "embedding_matrix = np.zeros((len(word_index) + 1, EMBEDDING_DIM))\n",
    "for word, i in word_index.items():\n",
    "    if word in w2v_model.key_to_index:\n",
    "        embedding_matrix[i] = w2v_model.get_vector(word)\n",
    "\n",
    "# We load this embedding matrix into an Embedding layer. \n",
    "embedding_layer = Embedding(len(word_index) + 1,\n",
    "                            EMBEDDING_DIM,\n",
    "                            weights=[embedding_matrix],\n",
    "                            input_length=max_length,\n",
    "                            trainable=False)"
   ]
  },
  {
   "cell_type": "code",
   "execution_count": 88,
   "id": "4fce6263",
   "metadata": {},
   "outputs": [],
   "source": [
    "## Building the RNN model\n",
    "w2v_model = Sequential()\n",
    "w2v_model.add(embedding_layer)\n",
    "w2v_model.add(LSTM(128, dropout=0.2, recurrent_dropout=0.2))\n",
    "w2v_model.add(Dense(1, activation='sigmoid'))\n",
    "\n",
    "w2v_model.compile(loss='binary_crossentropy',metrics=['accuracy'])"
   ]
  },
  {
   "cell_type": "markdown",
   "id": "685a0497",
   "metadata": {},
   "source": [
    "**Note :** As each epoch takes around 2-3 hours to run and It already took me four days to finish the previous part and run the previous model with 10 epochs. So I don't have enough time to run full 10 epoches before deadline of this assignment and I just ran 3 epoches. Therefore, the result (accuracy) of the pre-trained model might not be suitable to be compared with the previous model as it's only trained for three epoches."
   ]
  },
  {
   "cell_type": "code",
   "execution_count": 90,
   "id": "c2f40a83",
   "metadata": {},
   "outputs": [
    {
     "name": "stdout",
     "output_type": "stream",
     "text": [
      "Epoch 1/3\n",
      " 79/250 [========>.....................] - ETA: 1:51:24 - loss: 0.6221 - accuracy: 0.6680"
     ]
    },
    {
     "ename": "KeyboardInterrupt",
     "evalue": "",
     "output_type": "error",
     "traceback": [
      "\u001b[0;31m---------------------------------------------------------------------------\u001b[0m",
      "\u001b[0;31mKeyboardInterrupt\u001b[0m                         Traceback (most recent call last)",
      "\u001b[0;32m<ipython-input-90-6e9613cad578>\u001b[0m in \u001b[0;36m<module>\u001b[0;34m\u001b[0m\n\u001b[1;32m      1\u001b[0m \u001b[0;31m# Train model\u001b[0m\u001b[0;34m\u001b[0m\u001b[0;34m\u001b[0m\u001b[0;34m\u001b[0m\u001b[0m\n\u001b[0;32m----> 2\u001b[0;31m \u001b[0mw2v_history\u001b[0m \u001b[0;34m=\u001b[0m \u001b[0mw2v_model\u001b[0m\u001b[0;34m.\u001b[0m\u001b[0mfit\u001b[0m\u001b[0;34m(\u001b[0m\u001b[0mX_train\u001b[0m\u001b[0;34m,\u001b[0m \u001b[0my_train\u001b[0m\u001b[0;34m,\u001b[0m \u001b[0mepochs\u001b[0m\u001b[0;34m=\u001b[0m\u001b[0;36m3\u001b[0m\u001b[0;34m,\u001b[0m \u001b[0mbatch_size\u001b[0m\u001b[0;34m=\u001b[0m\u001b[0;36m128\u001b[0m\u001b[0;34m,\u001b[0m \u001b[0mvalidation_split\u001b[0m\u001b[0;34m=\u001b[0m\u001b[0;36m0.2\u001b[0m\u001b[0;34m)\u001b[0m\u001b[0;34m\u001b[0m\u001b[0;34m\u001b[0m\u001b[0m\n\u001b[0m\u001b[1;32m      3\u001b[0m \u001b[0;34m\u001b[0m\u001b[0m\n\u001b[1;32m      4\u001b[0m \u001b[0;31m# Evaluate model on test data\u001b[0m\u001b[0;34m\u001b[0m\u001b[0;34m\u001b[0m\u001b[0;34m\u001b[0m\u001b[0m\n\u001b[1;32m      5\u001b[0m \u001b[0mw2v_test_loss\u001b[0m\u001b[0;34m,\u001b[0m \u001b[0mw2v_test_acc\u001b[0m \u001b[0;34m=\u001b[0m \u001b[0mw2v_model\u001b[0m\u001b[0;34m.\u001b[0m\u001b[0mevaluate\u001b[0m\u001b[0;34m(\u001b[0m\u001b[0mX_test\u001b[0m\u001b[0;34m,\u001b[0m \u001b[0my_test\u001b[0m\u001b[0;34m)\u001b[0m\u001b[0;34m\u001b[0m\u001b[0;34m\u001b[0m\u001b[0m\n",
      "\u001b[0;32m/opt/anaconda3/lib/python3.8/site-packages/keras/utils/traceback_utils.py\u001b[0m in \u001b[0;36merror_handler\u001b[0;34m(*args, **kwargs)\u001b[0m\n\u001b[1;32m     63\u001b[0m         \u001b[0mfiltered_tb\u001b[0m \u001b[0;34m=\u001b[0m \u001b[0;32mNone\u001b[0m\u001b[0;34m\u001b[0m\u001b[0;34m\u001b[0m\u001b[0m\n\u001b[1;32m     64\u001b[0m         \u001b[0;32mtry\u001b[0m\u001b[0;34m:\u001b[0m\u001b[0;34m\u001b[0m\u001b[0;34m\u001b[0m\u001b[0m\n\u001b[0;32m---> 65\u001b[0;31m             \u001b[0;32mreturn\u001b[0m \u001b[0mfn\u001b[0m\u001b[0;34m(\u001b[0m\u001b[0;34m*\u001b[0m\u001b[0margs\u001b[0m\u001b[0;34m,\u001b[0m \u001b[0;34m**\u001b[0m\u001b[0mkwargs\u001b[0m\u001b[0;34m)\u001b[0m\u001b[0;34m\u001b[0m\u001b[0;34m\u001b[0m\u001b[0m\n\u001b[0m\u001b[1;32m     66\u001b[0m         \u001b[0;32mexcept\u001b[0m \u001b[0mException\u001b[0m \u001b[0;32mas\u001b[0m \u001b[0me\u001b[0m\u001b[0;34m:\u001b[0m\u001b[0;34m\u001b[0m\u001b[0;34m\u001b[0m\u001b[0m\n\u001b[1;32m     67\u001b[0m             \u001b[0mfiltered_tb\u001b[0m \u001b[0;34m=\u001b[0m \u001b[0m_process_traceback_frames\u001b[0m\u001b[0;34m(\u001b[0m\u001b[0me\u001b[0m\u001b[0;34m.\u001b[0m\u001b[0m__traceback__\u001b[0m\u001b[0;34m)\u001b[0m\u001b[0;34m\u001b[0m\u001b[0;34m\u001b[0m\u001b[0m\n",
      "\u001b[0;32m/opt/anaconda3/lib/python3.8/site-packages/keras/engine/training.py\u001b[0m in \u001b[0;36mfit\u001b[0;34m(self, x, y, batch_size, epochs, verbose, callbacks, validation_split, validation_data, shuffle, class_weight, sample_weight, initial_epoch, steps_per_epoch, validation_steps, validation_batch_size, validation_freq, max_queue_size, workers, use_multiprocessing)\u001b[0m\n\u001b[1;32m   1648\u001b[0m                         ):\n\u001b[1;32m   1649\u001b[0m                             \u001b[0mcallbacks\u001b[0m\u001b[0;34m.\u001b[0m\u001b[0mon_train_batch_begin\u001b[0m\u001b[0;34m(\u001b[0m\u001b[0mstep\u001b[0m\u001b[0;34m)\u001b[0m\u001b[0;34m\u001b[0m\u001b[0;34m\u001b[0m\u001b[0m\n\u001b[0;32m-> 1650\u001b[0;31m                             \u001b[0mtmp_logs\u001b[0m \u001b[0;34m=\u001b[0m \u001b[0mself\u001b[0m\u001b[0;34m.\u001b[0m\u001b[0mtrain_function\u001b[0m\u001b[0;34m(\u001b[0m\u001b[0miterator\u001b[0m\u001b[0;34m)\u001b[0m\u001b[0;34m\u001b[0m\u001b[0;34m\u001b[0m\u001b[0m\n\u001b[0m\u001b[1;32m   1651\u001b[0m                             \u001b[0;32mif\u001b[0m \u001b[0mdata_handler\u001b[0m\u001b[0;34m.\u001b[0m\u001b[0mshould_sync\u001b[0m\u001b[0;34m:\u001b[0m\u001b[0;34m\u001b[0m\u001b[0;34m\u001b[0m\u001b[0m\n\u001b[1;32m   1652\u001b[0m                                 \u001b[0mcontext\u001b[0m\u001b[0;34m.\u001b[0m\u001b[0masync_wait\u001b[0m\u001b[0;34m(\u001b[0m\u001b[0;34m)\u001b[0m\u001b[0;34m\u001b[0m\u001b[0;34m\u001b[0m\u001b[0m\n",
      "\u001b[0;32m/opt/anaconda3/lib/python3.8/site-packages/tensorflow/python/util/traceback_utils.py\u001b[0m in \u001b[0;36merror_handler\u001b[0;34m(*args, **kwargs)\u001b[0m\n\u001b[1;32m    148\u001b[0m     \u001b[0mfiltered_tb\u001b[0m \u001b[0;34m=\u001b[0m \u001b[0;32mNone\u001b[0m\u001b[0;34m\u001b[0m\u001b[0;34m\u001b[0m\u001b[0m\n\u001b[1;32m    149\u001b[0m     \u001b[0;32mtry\u001b[0m\u001b[0;34m:\u001b[0m\u001b[0;34m\u001b[0m\u001b[0;34m\u001b[0m\u001b[0m\n\u001b[0;32m--> 150\u001b[0;31m       \u001b[0;32mreturn\u001b[0m \u001b[0mfn\u001b[0m\u001b[0;34m(\u001b[0m\u001b[0;34m*\u001b[0m\u001b[0margs\u001b[0m\u001b[0;34m,\u001b[0m \u001b[0;34m**\u001b[0m\u001b[0mkwargs\u001b[0m\u001b[0;34m)\u001b[0m\u001b[0;34m\u001b[0m\u001b[0;34m\u001b[0m\u001b[0m\n\u001b[0m\u001b[1;32m    151\u001b[0m     \u001b[0;32mexcept\u001b[0m \u001b[0mException\u001b[0m \u001b[0;32mas\u001b[0m \u001b[0me\u001b[0m\u001b[0;34m:\u001b[0m\u001b[0;34m\u001b[0m\u001b[0;34m\u001b[0m\u001b[0m\n\u001b[1;32m    152\u001b[0m       \u001b[0mfiltered_tb\u001b[0m \u001b[0;34m=\u001b[0m \u001b[0m_process_traceback_frames\u001b[0m\u001b[0;34m(\u001b[0m\u001b[0me\u001b[0m\u001b[0;34m.\u001b[0m\u001b[0m__traceback__\u001b[0m\u001b[0;34m)\u001b[0m\u001b[0;34m\u001b[0m\u001b[0;34m\u001b[0m\u001b[0m\n",
      "\u001b[0;32m/opt/anaconda3/lib/python3.8/site-packages/tensorflow/python/eager/polymorphic_function/polymorphic_function.py\u001b[0m in \u001b[0;36m__call__\u001b[0;34m(self, *args, **kwds)\u001b[0m\n\u001b[1;32m    878\u001b[0m \u001b[0;34m\u001b[0m\u001b[0m\n\u001b[1;32m    879\u001b[0m       \u001b[0;32mwith\u001b[0m \u001b[0mOptionalXlaContext\u001b[0m\u001b[0;34m(\u001b[0m\u001b[0mself\u001b[0m\u001b[0;34m.\u001b[0m\u001b[0m_jit_compile\u001b[0m\u001b[0;34m)\u001b[0m\u001b[0;34m:\u001b[0m\u001b[0;34m\u001b[0m\u001b[0;34m\u001b[0m\u001b[0m\n\u001b[0;32m--> 880\u001b[0;31m         \u001b[0mresult\u001b[0m \u001b[0;34m=\u001b[0m \u001b[0mself\u001b[0m\u001b[0;34m.\u001b[0m\u001b[0m_call\u001b[0m\u001b[0;34m(\u001b[0m\u001b[0;34m*\u001b[0m\u001b[0margs\u001b[0m\u001b[0;34m,\u001b[0m \u001b[0;34m**\u001b[0m\u001b[0mkwds\u001b[0m\u001b[0;34m)\u001b[0m\u001b[0;34m\u001b[0m\u001b[0;34m\u001b[0m\u001b[0m\n\u001b[0m\u001b[1;32m    881\u001b[0m \u001b[0;34m\u001b[0m\u001b[0m\n\u001b[1;32m    882\u001b[0m       \u001b[0mnew_tracing_count\u001b[0m \u001b[0;34m=\u001b[0m \u001b[0mself\u001b[0m\u001b[0;34m.\u001b[0m\u001b[0mexperimental_get_tracing_count\u001b[0m\u001b[0;34m(\u001b[0m\u001b[0;34m)\u001b[0m\u001b[0;34m\u001b[0m\u001b[0;34m\u001b[0m\u001b[0m\n",
      "\u001b[0;32m/opt/anaconda3/lib/python3.8/site-packages/tensorflow/python/eager/polymorphic_function/polymorphic_function.py\u001b[0m in \u001b[0;36m_call\u001b[0;34m(self, *args, **kwds)\u001b[0m\n\u001b[1;32m    910\u001b[0m       \u001b[0;31m# In this case we have created variables on the first call, so we run the\u001b[0m\u001b[0;34m\u001b[0m\u001b[0;34m\u001b[0m\u001b[0;34m\u001b[0m\u001b[0m\n\u001b[1;32m    911\u001b[0m       \u001b[0;31m# defunned version which is guaranteed to never create variables.\u001b[0m\u001b[0;34m\u001b[0m\u001b[0;34m\u001b[0m\u001b[0;34m\u001b[0m\u001b[0m\n\u001b[0;32m--> 912\u001b[0;31m       \u001b[0;32mreturn\u001b[0m \u001b[0mself\u001b[0m\u001b[0;34m.\u001b[0m\u001b[0m_no_variable_creation_fn\u001b[0m\u001b[0;34m(\u001b[0m\u001b[0;34m*\u001b[0m\u001b[0margs\u001b[0m\u001b[0;34m,\u001b[0m \u001b[0;34m**\u001b[0m\u001b[0mkwds\u001b[0m\u001b[0;34m)\u001b[0m  \u001b[0;31m# pylint: disable=not-callable\u001b[0m\u001b[0;34m\u001b[0m\u001b[0;34m\u001b[0m\u001b[0m\n\u001b[0m\u001b[1;32m    913\u001b[0m     \u001b[0;32melif\u001b[0m \u001b[0mself\u001b[0m\u001b[0;34m.\u001b[0m\u001b[0m_variable_creation_fn\u001b[0m \u001b[0;32mis\u001b[0m \u001b[0;32mnot\u001b[0m \u001b[0;32mNone\u001b[0m\u001b[0;34m:\u001b[0m\u001b[0;34m\u001b[0m\u001b[0;34m\u001b[0m\u001b[0m\n\u001b[1;32m    914\u001b[0m       \u001b[0;31m# Release the lock early so that multiple threads can perform the call\u001b[0m\u001b[0;34m\u001b[0m\u001b[0;34m\u001b[0m\u001b[0;34m\u001b[0m\u001b[0m\n",
      "\u001b[0;32m/opt/anaconda3/lib/python3.8/site-packages/tensorflow/python/eager/polymorphic_function/tracing_compiler.py\u001b[0m in \u001b[0;36m__call__\u001b[0;34m(self, *args, **kwargs)\u001b[0m\n\u001b[1;32m    132\u001b[0m       (concrete_function,\n\u001b[1;32m    133\u001b[0m        filtered_flat_args) = self._maybe_define_function(args, kwargs)\n\u001b[0;32m--> 134\u001b[0;31m     return concrete_function._call_flat(\n\u001b[0m\u001b[1;32m    135\u001b[0m         filtered_flat_args, captured_inputs=concrete_function.captured_inputs)  # pylint: disable=protected-access\n\u001b[1;32m    136\u001b[0m \u001b[0;34m\u001b[0m\u001b[0m\n",
      "\u001b[0;32m/opt/anaconda3/lib/python3.8/site-packages/tensorflow/python/eager/polymorphic_function/monomorphic_function.py\u001b[0m in \u001b[0;36m_call_flat\u001b[0;34m(self, args, captured_inputs, cancellation_manager)\u001b[0m\n\u001b[1;32m   1743\u001b[0m         and executing_eagerly):\n\u001b[1;32m   1744\u001b[0m       \u001b[0;31m# No tape is watching; skip to running the function.\u001b[0m\u001b[0;34m\u001b[0m\u001b[0;34m\u001b[0m\u001b[0;34m\u001b[0m\u001b[0m\n\u001b[0;32m-> 1745\u001b[0;31m       return self._build_call_outputs(self._inference_function.call(\n\u001b[0m\u001b[1;32m   1746\u001b[0m           ctx, args, cancellation_manager=cancellation_manager))\n\u001b[1;32m   1747\u001b[0m     forward_backward = self._select_forward_and_backward_functions(\n",
      "\u001b[0;32m/opt/anaconda3/lib/python3.8/site-packages/tensorflow/python/eager/polymorphic_function/monomorphic_function.py\u001b[0m in \u001b[0;36mcall\u001b[0;34m(self, ctx, args, cancellation_manager)\u001b[0m\n\u001b[1;32m    376\u001b[0m       \u001b[0;32mwith\u001b[0m \u001b[0m_InterpolateFunctionError\u001b[0m\u001b[0;34m(\u001b[0m\u001b[0mself\u001b[0m\u001b[0;34m)\u001b[0m\u001b[0;34m:\u001b[0m\u001b[0;34m\u001b[0m\u001b[0;34m\u001b[0m\u001b[0m\n\u001b[1;32m    377\u001b[0m         \u001b[0;32mif\u001b[0m \u001b[0mcancellation_manager\u001b[0m \u001b[0;32mis\u001b[0m \u001b[0;32mNone\u001b[0m\u001b[0;34m:\u001b[0m\u001b[0;34m\u001b[0m\u001b[0;34m\u001b[0m\u001b[0m\n\u001b[0;32m--> 378\u001b[0;31m           outputs = execute.execute(\n\u001b[0m\u001b[1;32m    379\u001b[0m               \u001b[0mstr\u001b[0m\u001b[0;34m(\u001b[0m\u001b[0mself\u001b[0m\u001b[0;34m.\u001b[0m\u001b[0msignature\u001b[0m\u001b[0;34m.\u001b[0m\u001b[0mname\u001b[0m\u001b[0;34m)\u001b[0m\u001b[0;34m,\u001b[0m\u001b[0;34m\u001b[0m\u001b[0;34m\u001b[0m\u001b[0m\n\u001b[1;32m    380\u001b[0m               \u001b[0mnum_outputs\u001b[0m\u001b[0;34m=\u001b[0m\u001b[0mself\u001b[0m\u001b[0;34m.\u001b[0m\u001b[0m_num_outputs\u001b[0m\u001b[0;34m,\u001b[0m\u001b[0;34m\u001b[0m\u001b[0;34m\u001b[0m\u001b[0m\n",
      "\u001b[0;32m/opt/anaconda3/lib/python3.8/site-packages/tensorflow/python/eager/execute.py\u001b[0m in \u001b[0;36mquick_execute\u001b[0;34m(op_name, num_outputs, inputs, attrs, ctx, name)\u001b[0m\n\u001b[1;32m     50\u001b[0m   \u001b[0;32mtry\u001b[0m\u001b[0;34m:\u001b[0m\u001b[0;34m\u001b[0m\u001b[0;34m\u001b[0m\u001b[0m\n\u001b[1;32m     51\u001b[0m     \u001b[0mctx\u001b[0m\u001b[0;34m.\u001b[0m\u001b[0mensure_initialized\u001b[0m\u001b[0;34m(\u001b[0m\u001b[0;34m)\u001b[0m\u001b[0;34m\u001b[0m\u001b[0;34m\u001b[0m\u001b[0m\n\u001b[0;32m---> 52\u001b[0;31m     tensors = pywrap_tfe.TFE_Py_Execute(ctx._handle, device_name, op_name,\n\u001b[0m\u001b[1;32m     53\u001b[0m                                         inputs, attrs, num_outputs)\n\u001b[1;32m     54\u001b[0m   \u001b[0;32mexcept\u001b[0m \u001b[0mcore\u001b[0m\u001b[0;34m.\u001b[0m\u001b[0m_NotOkStatusException\u001b[0m \u001b[0;32mas\u001b[0m \u001b[0me\u001b[0m\u001b[0;34m:\u001b[0m\u001b[0;34m\u001b[0m\u001b[0;34m\u001b[0m\u001b[0m\n",
      "\u001b[0;31mKeyboardInterrupt\u001b[0m: "
     ]
    }
   ],
   "source": [
    "# Train model \n",
    "w2v_history = w2v_model.fit(X_train, y_train, epochs=3, batch_size=128, validation_split=0.2)\n",
    "\n",
    "# Evaluate model on test data \n",
    "w2v_test_loss, w2v_test_acc = w2v_model.evaluate(X_test, y_test)\n",
    "print('Test accuracy:', test_acc)"
   ]
  },
  {
   "cell_type": "code",
   "execution_count": null,
   "id": "e664779e",
   "metadata": {},
   "outputs": [],
   "source": [
    "# Set figure size\n",
    "fig, axs = plt.subplots(1, 2, figsize=(12, 6))\n",
    "\n",
    "# Plot accuracy\n",
    "axs[0].plot(history.history['accuracy'])\n",
    "axs[0].plot(history.history['val_accuracy'])\n",
    "axs[0].set_title('Model Accuracy')\n",
    "axs[0].set_ylabel('Accuracy')\n",
    "axs[0].set_xlabel('Epoch')\n",
    "axs[0].legend(['Train', 'Validation'], loc='upper left')\n",
    "\n",
    "# Plot loss\n",
    "axs[1].plot(history.history['loss'])\n",
    "axs[1].plot(history.history['val_loss'])\n",
    "axs[1].set_title('Model Loss')\n",
    "axs[1].set_ylabel('Loss')\n",
    "axs[1].set_xlabel('Epoch')\n",
    "axs[1].legend(['Train', 'Validation'], loc='upper left')\n",
    "\n",
    "plt.show()"
   ]
  },
  {
   "cell_type": "markdown",
   "id": "fb569273",
   "metadata": {},
   "source": [
    "4. In this assignment, you (1) trained your own Word2Vec model with the IMDB Movie Reviews corpus, and (2) used pre-trained Word2Vec embeddings in downstream sentiment analysis tasks. Now, focusing on the generated 300-dimensional embeddings, we will visualize the words occurring in the dataset.\n",
    "- First, for the word “interesting,” find the 20 most similar words according to model (1) and model (2). Do the same for “boring.” Are there any differences in the lists generated by each model?\n",
    "- Use PCA to reduce the number of dimensions from 300, picking a number of dimensions that retains 75% of the cumulative explained variance.\n",
    "- Find the first and second principal components. For “interesting,” “boring,” and all unique words you found in part (a) across both models, plot PC 1 vs. PC 2, and analyze the resulting visualization."
   ]
  },
  {
   "cell_type": "code",
   "execution_count": null,
   "id": "0fcafd95",
   "metadata": {},
   "outputs": [],
   "source": [
    "# Find most similar words to \"interesting\" and \"boring\" for model (1)\n",
    "most_similar_glove_interesting = model.most_similar('interesting', topn=20)\n",
    "most_similar_glove_boring = model.most_similar('boring', topn=20)\n",
    "\n",
    "# Find most similar words to \"interesting\" and \"boring\" for model (2)\n",
    "most_similar_word2vec_interesting = w2v_model.most_similar('interesting', topn=20)\n",
    "most_similar_word2vec_boring =  w2v_model.most_similar('boring', topn=20)"
   ]
  },
  {
   "cell_type": "code",
   "execution_count": null,
   "id": "63adc5b7",
   "metadata": {},
   "outputs": [],
   "source": [
    "from sklearn.decomposition import PCA\n",
    "\n",
    "# Reduce dimensionality of word embeddings with PCA\n",
    "pca = PCA(n_components=0.75)\n",
    "pca.fit(embedding_matrix)\n",
    "embedding_matrix_pca = pca.transform(embedding_matrix)"
   ]
  },
  {
   "cell_type": "code",
   "execution_count": null,
   "id": "dd122837",
   "metadata": {},
   "outputs": [],
   "source": [
    "# Define words to plot\n",
    "words_to_plot = ['interesting', 'boring']\n",
    "for word, sim_words in [('interesting', most_similar_glove_interesting),\n",
    "                        ('boring', most_similar_glove_boring),\n",
    "                        ('interesting', most_similar_word2vec_interesting),\n",
    "                        ('boring', most_similar_word2vec_boring)]:\n",
    "    for sim_word, _ in sim_words:\n",
    "        if sim_word not in words_to_plot:\n",
    "            words_to_plot.append(sim_word)\n",
    "\n",
    "# Get PCA coordinates for each word\n",
    "word_coords = {}\n",
    "for word in words_to_plot:\n",
    "    if word in pca_dict:\n",
    "        word_coords[word] = pca_dict[word]\n",
    "    else:\n",
    "        word_coords[word] = pca.transform([embedding_matrix[word_index[word]]])[0]"
   ]
  },
  {
   "cell_type": "code",
   "execution_count": null,
   "id": "3c8db133",
   "metadata": {},
   "outputs": [],
   "source": [
    "# Plot first and second principal components for each word\n",
    "fig, ax = plt.subplots(figsize=(10,10))\n",
    "ax.scatter(embedding_matrix_pca[:,0], embedding_matrix_pca[:,1], alpha=0.1, color='gray')\n",
    "for word, coords in word_coords.items():\n",
    "    ax.annotate(word, coords)\n",
    "    if word in ['interesting', 'boring']:\n",
    "        ax.scatter(coords[0], coords[1], color='red')\n",
    "plt.show()"
   ]
  }
 ],
 "metadata": {
  "kernelspec": {
   "display_name": "Python 3",
   "language": "python",
   "name": "python3"
  },
  "language_info": {
   "codemirror_mode": {
    "name": "ipython",
    "version": 3
   },
   "file_extension": ".py",
   "mimetype": "text/x-python",
   "name": "python",
   "nbconvert_exporter": "python",
   "pygments_lexer": "ipython3",
   "version": "3.8.8"
  }
 },
 "nbformat": 4,
 "nbformat_minor": 5
}
