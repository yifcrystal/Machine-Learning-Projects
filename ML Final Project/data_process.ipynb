{
 "cells": [
  {
   "cell_type": "code",
   "execution_count": 2,
   "id": "3d465d06",
   "metadata": {},
   "outputs": [],
   "source": [
    "import pandas as pd"
   ]
  },
  {
   "cell_type": "code",
   "execution_count": 6,
   "id": "7d5e5de9",
   "metadata": {},
   "outputs": [],
   "source": [
    "df_oct = pd.read_csv(\"/Users/crystal/Desktop/final projects/test/2019-Oct.csv\")"
   ]
  },
  {
   "cell_type": "code",
   "execution_count": 8,
   "id": "7e292fa0",
   "metadata": {},
   "outputs": [],
   "source": [
    "# Shuffle the DataFrame\n",
    "df_10 = df_oct.sample(frac=1, random_state=42)\n",
    "df_10 = df_10.head(1000000)\n",
    "df_10.to_csv('df_10.csv', index=False)"
   ]
  },
  {
   "cell_type": "code",
   "execution_count": 7,
   "id": "bdc32f40",
   "metadata": {},
   "outputs": [],
   "source": [
    "df_nov = pd.read_csv(\"/Users/crystal/Desktop/final projects/test/2019-Nov.csv\")"
   ]
  },
  {
   "cell_type": "code",
   "execution_count": 8,
   "id": "23597e5e",
   "metadata": {},
   "outputs": [],
   "source": [
    "# Shuffle the DataFrame\n",
    "df_11 = df_nov.sample(frac=1, random_state=42)\n",
    "df_11 = df_11.head(1000000)\n",
    "df_11.to_csv('df_11.csv', index=False)"
   ]
  },
  {
   "cell_type": "code",
   "execution_count": null,
   "id": "ca5480cc",
   "metadata": {},
   "outputs": [],
   "source": [
    "df_dec = pd.read_csv(\"/Users/crystal/Desktop/final projects/test/2019-Dec.csv\")"
   ]
  },
  {
   "cell_type": "code",
   "execution_count": null,
   "id": "02e1a94b",
   "metadata": {},
   "outputs": [],
   "source": [
    "# Shuffle the DataFrame\n",
    "df_12 = df_dec.sample(frac=1, random_state=42)\n",
    "df_12 = df_12.head(1000000)\n",
    "df_12.to_csv('df_12.csv', index=False)"
   ]
  },
  {
   "cell_type": "code",
   "execution_count": 3,
   "id": "b9cde050",
   "metadata": {},
   "outputs": [],
   "source": [
    "df_jan = pd.read_csv(\"/Users/crystal/Desktop/final projects/test/2020-Jan.csv\")"
   ]
  },
  {
   "cell_type": "code",
   "execution_count": 4,
   "id": "63dda754",
   "metadata": {},
   "outputs": [],
   "source": [
    "# Shuffle the DataFrame\n",
    "df_01 = df_jan.sample(frac=1, random_state=42)\n",
    "df_01 = df_01.head(1000000)\n",
    "df_01.to_csv('df_01.csv', index=False)"
   ]
  },
  {
   "cell_type": "code",
   "execution_count": 5,
   "id": "cf547264",
   "metadata": {},
   "outputs": [],
   "source": [
    "df_feb = pd.read_csv(\"/Users/crystal/Desktop/final projects/test/2020-Feb.csv\")"
   ]
  },
  {
   "cell_type": "code",
   "execution_count": 6,
   "id": "410a530a",
   "metadata": {},
   "outputs": [],
   "source": [
    "# Shuffle the DataFrame\n",
    "df_02 = df_feb.sample(frac=1, random_state=42)\n",
    "df_02 = df_02.head(1000000)\n",
    "df_02.to_csv('df_02.csv', index=False)"
   ]
  },
  {
   "cell_type": "code",
   "execution_count": 9,
   "id": "8d522442",
   "metadata": {},
   "outputs": [],
   "source": [
    "df_mar = pd.read_csv(\"/Users/crystal/Desktop/final projects/test/2020-Mar.csv\")"
   ]
  },
  {
   "cell_type": "code",
   "execution_count": 10,
   "id": "84fbc499",
   "metadata": {},
   "outputs": [],
   "source": [
    "# Shuffle the DataFrame\n",
    "df_03 = df_mar.sample(frac=1, random_state=42)\n",
    "df_03 = df_03.head(1000000)\n",
    "df_03.to_csv('df_03.csv', index=False)"
   ]
  },
  {
   "cell_type": "code",
   "execution_count": 12,
   "id": "74ef9aa4",
   "metadata": {},
   "outputs": [],
   "source": [
    "df_apr = pd.read_csv(\"/Users/crystal/Desktop/final projects/test/2020-Apr.csv\")"
   ]
  },
  {
   "cell_type": "code",
   "execution_count": 13,
   "id": "69a77a42",
   "metadata": {},
   "outputs": [],
   "source": [
    "# Shuffle the DataFrame\n",
    "df_04 = df_apr.sample(frac=1, random_state=42)\n",
    "df_04 = df_04.head(1000000)\n",
    "df_04.to_csv('df_04.csv', index=False)"
   ]
  },
  {
   "cell_type": "code",
   "execution_count": 10,
   "id": "5d2a8a2b",
   "metadata": {},
   "outputs": [],
   "source": [
    "df_combined = pd.concat([df_10,df_11,df_12,df_01,df_02,df_03,df_04])"
   ]
  },
  {
   "cell_type": "code",
   "execution_count": 11,
   "id": "b6a9ce10",
   "metadata": {},
   "outputs": [],
   "source": [
    "df_combined.to_csv('df_sample.csv', index=False)"
   ]
  },
  {
   "cell_type": "code",
   "execution_count": 12,
   "id": "6f4843c7",
   "metadata": {},
   "outputs": [
    {
     "data": {
      "text/plain": [
       "(7000000, 9)"
      ]
     },
     "execution_count": 12,
     "metadata": {},
     "output_type": "execute_result"
    }
   ],
   "source": [
    "df_combined.shape"
   ]
  }
 ],
 "metadata": {
  "kernelspec": {
   "display_name": "Python 3",
   "language": "python",
   "name": "python3"
  },
  "language_info": {
   "codemirror_mode": {
    "name": "ipython",
    "version": 3
   },
   "file_extension": ".py",
   "mimetype": "text/x-python",
   "name": "python",
   "nbconvert_exporter": "python",
   "pygments_lexer": "ipython3",
   "version": "3.8.8"
  }
 },
 "nbformat": 4,
 "nbformat_minor": 5
}
